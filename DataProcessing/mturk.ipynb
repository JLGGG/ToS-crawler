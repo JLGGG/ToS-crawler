{
 "cells": [
  {
   "cell_type": "code",
   "execution_count": 1,
   "metadata": {},
   "outputs": [
    {
     "name": "stderr",
     "output_type": "stream",
     "text": [
      "[nltk_data] Downloading package stopwords to C:\\Users\\USER-\n",
      "[nltk_data]     PC\\AppData\\Roaming\\nltk_data...\n",
      "[nltk_data]   Package stopwords is already up-to-date!\n",
      "[nltk_data] Downloading package punkt to C:\\Users\\USER-\n",
      "[nltk_data]     PC\\AppData\\Roaming\\nltk_data...\n",
      "[nltk_data]   Package punkt is already up-to-date!\n"
     ]
    },
    {
     "data": {
      "text/plain": [
       "2500"
      ]
     },
     "execution_count": 1,
     "metadata": {},
     "output_type": "execute_result"
    }
   ],
   "source": [
    "import pandas as pd\n",
    "import matplotlib.pyplot as plt\n",
    "import numpy as np\n",
    "import seaborn as sns\n",
    "import nltk\n",
    "import re\n",
    "from nltk.corpus import stopwords\n",
    "from nltk.stem import WordNetLemmatizer\n",
    "from nltk.tokenize import word_tokenize\n",
    "from pathlib import Path\n",
    "nltk.download('stopwords')\n",
    "nltk.download('punkt')\n",
    "\n",
    "df_mturk_500 = pd.read_csv(\"500_batch_results.csv\", error_bad_lines=False)\n",
    "df_mturk_500.shape[0]"
   ]
  },
  {
   "cell_type": "code",
   "execution_count": 2,
   "metadata": {},
   "outputs": [
    {
     "data": {
      "text/plain": [
       "42340"
      ]
     },
     "execution_count": 2,
     "metadata": {},
     "output_type": "execute_result"
    }
   ],
   "source": [
    "df_mturk_8468 = pd.read_csv(\"8468_batch_results.csv\", error_bad_lines=False)\n",
    "df_mturk_8468.shape[0]"
   ]
  },
  {
   "cell_type": "code",
   "execution_count": 3,
   "metadata": {},
   "outputs": [
    {
     "data": {
      "text/plain": [
       "5690"
      ]
     },
     "execution_count": 3,
     "metadata": {},
     "output_type": "execute_result"
    }
   ],
   "source": [
    "df_mturk_1138 = pd.read_csv(\"mturk_5_data.csv\", error_bad_lines=False)\n",
    "df_mturk_1138.shape[0]"
   ]
  },
  {
   "cell_type": "code",
   "execution_count": 4,
   "metadata": {},
   "outputs": [],
   "source": [
    "df_mturk_500_t = df_mturk_500[['WorkerId', 'WorkTimeInSeconds', 'Input.Original', 'Answer.privacy.label']]\n",
    "df_mturk_1138_t = df_mturk_1138[['WorkerId', 'WorkTimeInSeconds', 'Input.Original', 'Answer.privacy.label']]\n",
    "df_mturk_8468_t = df_mturk_8468[['WorkerId', 'WorkTimeInSeconds', 'Input.Original', 'Answer.privacy.label']]\n",
    "UNIQUE_WORKERS = 5"
   ]
  },
  {
   "cell_type": "code",
   "execution_count": 5,
   "metadata": {},
   "outputs": [
    {
     "name": "stdout",
     "output_type": "stream",
     "text": [
      "<class 'pandas.core.frame.DataFrame'>\n",
      "RangeIndex: 50530 entries, 0 to 50529\n",
      "Data columns (total 4 columns):\n",
      " #   Column                Non-Null Count  Dtype \n",
      "---  ------                --------------  ----- \n",
      " 0   WorkerId              50530 non-null  object\n",
      " 1   WorkTimeInSeconds     50530 non-null  int64 \n",
      " 2   Input.Original        50530 non-null  object\n",
      " 3   Answer.privacy.label  50530 non-null  object\n",
      "dtypes: int64(1), object(3)\n",
      "memory usage: 1.5+ MB\n"
     ]
    }
   ],
   "source": [
    "df_result = pd.concat([df_mturk_500_t, df_mturk_1138_t, df_mturk_8468_t])\n",
    "HITS = df_result.shape[0]\n",
    "df_result = df_result.reset_index(drop=True)\n",
    "df_result.info()"
   ]
  },
  {
   "cell_type": "code",
   "execution_count": 6,
   "metadata": {},
   "outputs": [
    {
     "data": {
      "text/plain": [
       "<AxesSubplot:xlabel='Answer.privacy.label', ylabel='WorkTimeInSeconds'>"
      ]
     },
     "execution_count": 6,
     "metadata": {},
     "output_type": "execute_result"
    },
    {
     "data": {
      "image/png": "[encoded data removed]",
      "text/plain": [
       "<Figure size 432x288 with 1 Axes>"
      ]
     },
     "metadata": {
      "needs_background": "light"
     },
     "output_type": "display_data"
    }
   ],
   "source": [
    "sns.violinplot(x=df_result['Answer.privacy.label'], y=df_result['WorkTimeInSeconds'])"
   ]
  },
  {
   "cell_type": "code",
   "execution_count": 7,
   "metadata": {},
   "outputs": [
    {
     "name": "stderr",
     "output_type": "stream",
     "text": [
      "<ipython-input-7-ec4babe0de50>:8: SettingWithCopyWarning: \n",
      "A value is trying to be set on a copy of a slice from a DataFrame\n",
      "\n",
      "See the caveats in the documentation: https://pandas.pydata.org/pandas-docs/stable/user_guide/indexing.html#returning-a-view-versus-a-copy\n",
      "  df_result['Ratio'][i+j] = counter['Privacy']\n"
     ]
    },
    {
     "data": {
      "text/html": [
       "<div>\n",
       "<style scoped>\n",
       "    .dataframe tbody tr th:only-of-type {\n",
       "        vertical-align: middle;\n",
       "    }\n",
       "\n",
       "    .dataframe tbody tr th {\n",
       "        vertical-align: top;\n",
       "    }\n",
       "\n",
       "    .dataframe thead th {\n",
       "        text-align: right;\n",
       "    }\n",
       "</style>\n",
       "<table border=\"1\" class=\"dataframe\">\n",
       "  <thead>\n",
       "    <tr style=\"text-align: right;\">\n",
       "      <th></th>\n",
       "      <th>WorkerId</th>\n",
       "      <th>WorkTimeInSeconds</th>\n",
       "      <th>Input.Original</th>\n",
       "      <th>Answer.privacy.label</th>\n",
       "      <th>Ratio</th>\n",
       "    </tr>\n",
       "  </thead>\n",
       "  <tbody>\n",
       "    <tr>\n",
       "      <th>0</th>\n",
       "      <td>AOTNZ2CR4S0SL</td>\n",
       "      <td>14</td>\n",
       "      <td>patents, designs, algorithms, utility models, ...</td>\n",
       "      <td>Privacy</td>\n",
       "      <td>4</td>\n",
       "    </tr>\n",
       "    <tr>\n",
       "      <th>1</th>\n",
       "      <td>A2WMX6GLWV0KC</td>\n",
       "      <td>251</td>\n",
       "      <td>patents, designs, algorithms, utility models, ...</td>\n",
       "      <td>Privacy</td>\n",
       "      <td>4</td>\n",
       "    </tr>\n",
       "    <tr>\n",
       "      <th>2</th>\n",
       "      <td>A2G44A4ZPWRPXU</td>\n",
       "      <td>13</td>\n",
       "      <td>patents, designs, algorithms, utility models, ...</td>\n",
       "      <td>Privacy</td>\n",
       "      <td>4</td>\n",
       "    </tr>\n",
       "    <tr>\n",
       "      <th>3</th>\n",
       "      <td>A1453O2WV1825Y</td>\n",
       "      <td>45</td>\n",
       "      <td>patents, designs, algorithms, utility models, ...</td>\n",
       "      <td>Not privacy</td>\n",
       "      <td>4</td>\n",
       "    </tr>\n",
       "    <tr>\n",
       "      <th>4</th>\n",
       "      <td>A2UUQUAO917V8X</td>\n",
       "      <td>17</td>\n",
       "      <td>patents, designs, algorithms, utility models, ...</td>\n",
       "      <td>Privacy</td>\n",
       "      <td>4</td>\n",
       "    </tr>\n",
       "    <tr>\n",
       "      <th>...</th>\n",
       "      <td>...</td>\n",
       "      <td>...</td>\n",
       "      <td>...</td>\n",
       "      <td>...</td>\n",
       "      <td>...</td>\n",
       "    </tr>\n",
       "    <tr>\n",
       "      <th>50525</th>\n",
       "      <td>A26T17CDTYJI1W</td>\n",
       "      <td>14</td>\n",
       "      <td>below, the Privacy Policy for Nest Web Sites a...</td>\n",
       "      <td>Privacy</td>\n",
       "      <td>3</td>\n",
       "    </tr>\n",
       "    <tr>\n",
       "      <th>50526</th>\n",
       "      <td>A2GQH4SWIOFH2L</td>\n",
       "      <td>4</td>\n",
       "      <td>below, the Privacy Policy for Nest Web Sites a...</td>\n",
       "      <td>Not privacy</td>\n",
       "      <td>3</td>\n",
       "    </tr>\n",
       "    <tr>\n",
       "      <th>50527</th>\n",
       "      <td>A2KKHYQQO6NJB0</td>\n",
       "      <td>23</td>\n",
       "      <td>below, the Privacy Policy for Nest Web Sites a...</td>\n",
       "      <td>Privacy</td>\n",
       "      <td>3</td>\n",
       "    </tr>\n",
       "    <tr>\n",
       "      <th>50528</th>\n",
       "      <td>A32ZRN4S2IMN0O</td>\n",
       "      <td>8</td>\n",
       "      <td>below, the Privacy Policy for Nest Web Sites a...</td>\n",
       "      <td>Not privacy</td>\n",
       "      <td>3</td>\n",
       "    </tr>\n",
       "    <tr>\n",
       "      <th>50529</th>\n",
       "      <td>A3VVS6KT8DSBO</td>\n",
       "      <td>5</td>\n",
       "      <td>below, the Privacy Policy for Nest Web Sites a...</td>\n",
       "      <td>Privacy</td>\n",
       "      <td>3</td>\n",
       "    </tr>\n",
       "  </tbody>\n",
       "</table>\n",
       "<p>50530 rows × 5 columns</p>\n",
       "</div>"
      ],
      "text/plain": [
       "             WorkerId  WorkTimeInSeconds  \\\n",
       "0       AOTNZ2CR4S0SL                 14   \n",
       "1       A2WMX6GLWV0KC                251   \n",
       "2      A2G44A4ZPWRPXU                 13   \n",
       "3      A1453O2WV1825Y                 45   \n",
       "4      A2UUQUAO917V8X                 17   \n",
       "...               ...                ...   \n",
       "50525  A26T17CDTYJI1W                 14   \n",
       "50526  A2GQH4SWIOFH2L                  4   \n",
       "50527  A2KKHYQQO6NJB0                 23   \n",
       "50528  A32ZRN4S2IMN0O                  8   \n",
       "50529   A3VVS6KT8DSBO                  5   \n",
       "\n",
       "                                          Input.Original Answer.privacy.label  \\\n",
       "0      patents, designs, algorithms, utility models, ...              Privacy   \n",
       "1      patents, designs, algorithms, utility models, ...              Privacy   \n",
       "2      patents, designs, algorithms, utility models, ...              Privacy   \n",
       "3      patents, designs, algorithms, utility models, ...          Not privacy   \n",
       "4      patents, designs, algorithms, utility models, ...              Privacy   \n",
       "...                                                  ...                  ...   \n",
       "50525  below, the Privacy Policy for Nest Web Sites a...              Privacy   \n",
       "50526  below, the Privacy Policy for Nest Web Sites a...          Not privacy   \n",
       "50527  below, the Privacy Policy for Nest Web Sites a...              Privacy   \n",
       "50528  below, the Privacy Policy for Nest Web Sites a...          Not privacy   \n",
       "50529  below, the Privacy Policy for Nest Web Sites a...              Privacy   \n",
       "\n",
       "       Ratio  \n",
       "0          4  \n",
       "1          4  \n",
       "2          4  \n",
       "3          4  \n",
       "4          4  \n",
       "...      ...  \n",
       "50525      3  \n",
       "50526      3  \n",
       "50527      3  \n",
       "50528      3  \n",
       "50529      3  \n",
       "\n",
       "[50530 rows x 5 columns]"
      ]
     },
     "execution_count": 7,
     "metadata": {},
     "output_type": "execute_result"
    }
   ],
   "source": [
    "from collections import Counter\n",
    "\n",
    "df_result['Ratio'] = 0\n",
    "for i in range(HITS):\n",
    "    if i % UNIQUE_WORKERS == 0:\n",
    "        counter = Counter(df_result.iloc[i:i+5]['Answer.privacy.label'])\n",
    "        for j in range(UNIQUE_WORKERS):\n",
    "            df_result['Ratio'][i+j] = counter['Privacy']\n",
    "df_result\n"
   ]
  },
  {
   "cell_type": "code",
   "execution_count": 5,
   "metadata": {},
   "outputs": [],
   "source": [
    "# stop_words = set(stopwords.words('english'))\n",
    "# lemma = WordNetLemmatizer()\n",
    "\n",
    "# def clean_text(s):\n",
    "#     s = re.sub('[^a-zA-Z]', ' ', s)  # Removing numbers and punctuation\n",
    "#     s = str(s).lower()  # Convert all characters into lowercase\n",
    "#     s = word_tokenize(s)  # Tokenization\n",
    "#     s = [w for w in s if w not in stop_words]  # Removing stop words\n",
    "#     s = [lemma.lemmatize(word=w, pos='v') for w in s]  # Lemmatization\n",
    "#     s = [i for i in s if len(i) > 2]  # Remove the words having length <= 2\n",
    "#     s = ' '.join(s)  # Converting list to string\n",
    "#     return s"
   ]
  },
  {
   "cell_type": "code",
   "execution_count": 8,
   "metadata": {},
   "outputs": [
    {
     "data": {
      "text/html": [
       "<div>\n",
       "<style scoped>\n",
       "    .dataframe tbody tr th:only-of-type {\n",
       "        vertical-align: middle;\n",
       "    }\n",
       "\n",
       "    .dataframe tbody tr th {\n",
       "        vertical-align: top;\n",
       "    }\n",
       "\n",
       "    .dataframe thead th {\n",
       "        text-align: right;\n",
       "    }\n",
       "</style>\n",
       "<table border=\"1\" class=\"dataframe\">\n",
       "  <thead>\n",
       "    <tr style=\"text-align: right;\">\n",
       "      <th></th>\n",
       "      <th>Original</th>\n",
       "      <th>PrivacyRatio</th>\n",
       "    </tr>\n",
       "  </thead>\n",
       "  <tbody>\n",
       "    <tr>\n",
       "      <th>0</th>\n",
       "      <td>patents, designs, algorithms, utility models, ...</td>\n",
       "      <td>4</td>\n",
       "    </tr>\n",
       "    <tr>\n",
       "      <th>1</th>\n",
       "      <td>Continue shopping Go to cart OK Home &gt; Terms &amp;...</td>\n",
       "      <td>3</td>\n",
       "    </tr>\n",
       "    <tr>\n",
       "      <th>2</th>\n",
       "      <td>The following Sections of this PSO Addendum wi...</td>\n",
       "      <td>3</td>\n",
       "    </tr>\n",
       "    <tr>\n",
       "      <th>3</th>\n",
       "      <td>Lingo Bingo (“Prize Draw”) is organised by Hut...</td>\n",
       "      <td>0</td>\n",
       "    </tr>\n",
       "    <tr>\n",
       "      <th>4</th>\n",
       "      <td>Chronus will consider all the available inform...</td>\n",
       "      <td>5</td>\n",
       "    </tr>\n",
       "    <tr>\n",
       "      <th>...</th>\n",
       "      <td>...</td>\n",
       "      <td>...</td>\n",
       "    </tr>\n",
       "    <tr>\n",
       "      <th>10101</th>\n",
       "      <td>for the conduct of third parties, including ot...</td>\n",
       "      <td>4</td>\n",
       "    </tr>\n",
       "    <tr>\n",
       "      <th>10102</th>\n",
       "      <td>6.Limited availability – There are a total of ...</td>\n",
       "      <td>2</td>\n",
       "    </tr>\n",
       "    <tr>\n",
       "      <th>10103</th>\n",
       "      <td>You agree not to, and shall not allow anyone e...</td>\n",
       "      <td>2</td>\n",
       "    </tr>\n",
       "    <tr>\n",
       "      <th>10104</th>\n",
       "      <td>“Documentation” means the technical user docum...</td>\n",
       "      <td>2</td>\n",
       "    </tr>\n",
       "    <tr>\n",
       "      <th>10105</th>\n",
       "      <td>below, the Privacy Policy for Nest Web Sites a...</td>\n",
       "      <td>3</td>\n",
       "    </tr>\n",
       "  </tbody>\n",
       "</table>\n",
       "<p>10106 rows × 2 columns</p>\n",
       "</div>"
      ],
      "text/plain": [
       "                                                Original PrivacyRatio\n",
       "0      patents, designs, algorithms, utility models, ...            4\n",
       "1      Continue shopping Go to cart OK Home > Terms &...            3\n",
       "2      The following Sections of this PSO Addendum wi...            3\n",
       "3      Lingo Bingo (“Prize Draw”) is organised by Hut...            0\n",
       "4      Chronus will consider all the available inform...            5\n",
       "...                                                  ...          ...\n",
       "10101  for the conduct of third parties, including ot...            4\n",
       "10102  6.Limited availability – There are a total of ...            2\n",
       "10103  You agree not to, and shall not allow anyone e...            2\n",
       "10104  “Documentation” means the technical user docum...            2\n",
       "10105  below, the Privacy Policy for Nest Web Sites a...            3\n",
       "\n",
       "[10106 rows x 2 columns]"
      ]
     },
     "execution_count": 8,
     "metadata": {},
     "output_type": "execute_result"
    }
   ],
   "source": [
    "df_privacy_ratio = pd.DataFrame(columns=['Original', 'PrivacyRatio'])\n",
    "\n",
    "for i, row in df_result.iterrows():\n",
    "    if i % UNIQUE_WORKERS == 0:\n",
    "        new_row = {\n",
    "            'Original': row['Input.Original'],\n",
    "            'PrivacyRatio': row['Ratio']\n",
    "        }\n",
    "        df_privacy_ratio = df_privacy_ratio.append(new_row, ignore_index=True)\n",
    "\n",
    "df_privacy_ratio"
   ]
  },
  {
   "cell_type": "code",
   "execution_count": 9,
   "metadata": {},
   "outputs": [
    {
     "data": {
      "image/png": "[encoded data removed]",
      "text/plain": [
       "<Figure size 432x288 with 1 Axes>"
      ]
     },
     "metadata": {
      "needs_background": "light"
     },
     "output_type": "display_data"
    }
   ],
   "source": [
    "labels, values = zip(*sorted(Counter(df_privacy_ratio['PrivacyRatio']).items()))\n",
    "\n",
    "indexes = np.arange(len(labels))\n",
    "plt.bar(indexes, values)\n",
    "plt.title('Privacy Answer Ratio')\n",
    "plt.xlabel('Privacy vs. Not Privacy (5: Privacy, 0: Not privacy)', fontsize=12)\n",
    "plt.ylabel('The number of Ratio', fontsize=18)\n",
    "plt.show()"
   ]
  },
  {
   "cell_type": "code",
   "execution_count": 1,
   "metadata": {},
   "outputs": [],
   "source": [
    "# sns.jointplot(x='WorkTimeInSeconds', y='Ratio', data=df_result)"
   ]
  },
  {
   "cell_type": "code",
   "execution_count": 11,
   "metadata": {},
   "outputs": [],
   "source": [
    "import os\n",
    "df_privacy_ratio.to_csv(Path(os.getcwd() + \"/\" + \"input_data.csv\"), index=False) # Making dataset to learn NLP"
   ]
  }
 ],
 "metadata": {
  "interpreter": {
   "hash": "40b9cf565d070ee13d37836166faa1e65075ac740510169fa1bf4f89f6b88bdd"
  },
  "kernelspec": {
   "display_name": "Python 3.8.10 64-bit ('bert': conda)",
   "name": "python3"
  },
  "language_info": {
   "codemirror_mode": {
    "name": "ipython",
    "version": 3
   },
   "file_extension": ".py",
   "mimetype": "text/x-python",
   "name": "python",
   "nbconvert_exporter": "python",
   "pygments_lexer": "ipython3",
   "version": "3.8.10"
  },
  "orig_nbformat": 4
 },
 "nbformat": 4,
 "nbformat_minor": 2
}
