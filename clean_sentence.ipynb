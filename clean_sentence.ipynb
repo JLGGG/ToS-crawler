{
 "cells": [
  {
   "cell_type": "code",
   "execution_count": 1,
   "source": [
    "import pandas as pd\r\n",
    "import numpy as np\r\n",
    "import os\r\n",
    "import re\r\n",
    "from pathlib import Path\r\n",
    "from langdetect import detect, detect_langs\r\n",
    "from urllib.parse import urlparse\r\n",
    "\r\n",
    "import seaborn as sns\r\n",
    "from matplotlib import pyplot as plt\r\n",
    "\r\n",
    "df = pd.read_csv(\"../tos_data/tos_data.csv\", error_bad_lines=False)\r\n",
    "df.info()"
   ],
   "outputs": [
    {
     "output_type": "stream",
     "name": "stdout",
     "text": [
      "<class 'pandas.core.frame.DataFrame'>\n",
      "RangeIndex: 324 entries, 0 to 323\n",
      "Data columns (total 3 columns):\n",
      " #   Column    Non-Null Count  Dtype \n",
      "---  ------    --------------  ----- \n",
      " 0   Length    324 non-null    int64 \n",
      " 1   Link      324 non-null    object\n",
      " 2   Original  322 non-null    object\n",
      "dtypes: int64(1), object(2)\n",
      "memory usage: 7.7+ KB\n"
     ]
    }
   ],
   "metadata": {}
  },
  {
   "cell_type": "code",
   "execution_count": 2,
   "source": [
    "def remove_multiple_space(sentence):\r\n",
    "    clear_sentence = ' '.join(sentence.split())\r\n",
    "    #clear_sentence = clear_sentence.lower()\r\n",
    "    return clear_sentence\r\n",
    "\r\n",
    "df_raw = df[df['Length'] > 300] # Deleting a HTML's text that was not properly collected.\r\n",
    "df_raw['Original'] = df_raw['Original'].astype(str)\r\n",
    "df_raw = df_raw.drop_duplicates(['Original'])\r\n",
    "df_raw['Original'] = df_raw['Original'].apply(remove_multiple_space)\r\n",
    "df_raw.describe(include=object)"
   ],
   "outputs": [
    {
     "output_type": "stream",
     "name": "stderr",
     "text": [
      "<ipython-input-2-1bb8b5900bb7>:7: SettingWithCopyWarning: \n",
      "A value is trying to be set on a copy of a slice from a DataFrame.\n",
      "Try using .loc[row_indexer,col_indexer] = value instead\n",
      "\n",
      "See the caveats in the documentation: https://pandas.pydata.org/pandas-docs/stable/user_guide/indexing.html#returning-a-view-versus-a-copy\n",
      "  df_raw['Original'] = df_raw['Original'].astype(str)\n"
     ]
    },
    {
     "output_type": "execute_result",
     "data": {
      "text/plain": [
       "                                              Link  \\\n",
       "count                                          307   \n",
       "unique                                         307   \n",
       "top     https://www.saipem.com/en/terms-conditions   \n",
       "freq                                             1   \n",
       "\n",
       "                                                 Original  \n",
       "count                                                 307  \n",
       "unique                                                307  \n",
       "top     Lyft Terms of ServiceLyft LogoDRIVERRIDERbusin...  \n",
       "freq                                                    1  "
      ],
      "text/html": [
       "<div>\n",
       "<style scoped>\n",
       "    .dataframe tbody tr th:only-of-type {\n",
       "        vertical-align: middle;\n",
       "    }\n",
       "\n",
       "    .dataframe tbody tr th {\n",
       "        vertical-align: top;\n",
       "    }\n",
       "\n",
       "    .dataframe thead th {\n",
       "        text-align: right;\n",
       "    }\n",
       "</style>\n",
       "<table border=\"1\" class=\"dataframe\">\n",
       "  <thead>\n",
       "    <tr style=\"text-align: right;\">\n",
       "      <th></th>\n",
       "      <th>Link</th>\n",
       "      <th>Original</th>\n",
       "    </tr>\n",
       "  </thead>\n",
       "  <tbody>\n",
       "    <tr>\n",
       "      <th>count</th>\n",
       "      <td>307</td>\n",
       "      <td>307</td>\n",
       "    </tr>\n",
       "    <tr>\n",
       "      <th>unique</th>\n",
       "      <td>307</td>\n",
       "      <td>307</td>\n",
       "    </tr>\n",
       "    <tr>\n",
       "      <th>top</th>\n",
       "      <td>https://www.saipem.com/en/terms-conditions</td>\n",
       "      <td>Lyft Terms of ServiceLyft LogoDRIVERRIDERbusin...</td>\n",
       "    </tr>\n",
       "    <tr>\n",
       "      <th>freq</th>\n",
       "      <td>1</td>\n",
       "      <td>1</td>\n",
       "    </tr>\n",
       "  </tbody>\n",
       "</table>\n",
       "</div>"
      ]
     },
     "metadata": {},
     "execution_count": 2
    }
   ],
   "metadata": {}
  },
  {
   "cell_type": "code",
   "execution_count": 3,
   "source": [
    "df_raw = df_raw.drop(columns=['Length'])\r\n",
    "\r\n",
    "def split_sentence(s):\r\n",
    "    t_list = re.split(r'[.;]\\s*(?=[A-Z])', s)\r\n",
    "\r\n",
    "    return t_list\r\n",
    "\r\n",
    "def filter_roman_number(s):\r\n",
    "    result = []\r\n",
    "    for t in s:\r\n",
    "        t_result = re.split(r'\\(.\\) | \\(..\\) | \\(...\\) | \\(....\\)', t)\r\n",
    "        result = result + t_result\r\n",
    "        \r\n",
    "    result = list(filter(None, result))  \r\n",
    "    return result\r\n",
    "\r\n",
    "def make_new_row(plist, df_raw_parsed):\r\n",
    "    for s in plist:\r\n",
    "        new_row = {\r\n",
    "            'Link': row['Link'],\r\n",
    "            'Original': s,\r\n",
    "        }\r\n",
    "        df_raw_parsed = df_raw_parsed.append(new_row, ignore_index=True)\r\n",
    "    return df_raw_parsed\r\n",
    "\r\n",
    "df_raw_parsed = pd.DataFrame(columns=['Link', 'Original'])\r\n",
    "for i, row in df_raw.iterrows():\r\n",
    "    t_list = split_sentence(row['Original'])\r\n",
    "    f_list = filter_roman_number(t_list)\r\n",
    "\r\n",
    "    if not f_list:\r\n",
    "        df_raw_parsed = make_new_row(t_list, df_raw_parsed)\r\n",
    "    else:\r\n",
    "        df_raw_parsed = make_new_row(f_list, df_raw_parsed)\r\n",
    "\r\n"
   ],
   "outputs": [],
   "metadata": {}
  },
  {
   "cell_type": "code",
   "execution_count": 4,
   "source": [
    "df_raw_parsed.info()"
   ],
   "outputs": [
    {
     "output_type": "stream",
     "name": "stdout",
     "text": [
      "<class 'pandas.core.frame.DataFrame'>\n",
      "RangeIndex: 71765 entries, 0 to 71764\n",
      "Data columns (total 2 columns):\n",
      " #   Column    Non-Null Count  Dtype \n",
      "---  ------    --------------  ----- \n",
      " 0   Link      71765 non-null  object\n",
      " 1   Original  71765 non-null  object\n",
      "dtypes: object(2)\n",
      "memory usage: 1.1+ MB\n"
     ]
    }
   ],
   "metadata": {}
  },
  {
   "cell_type": "code",
   "execution_count": 5,
   "source": [
    "df_raw_parsed['Length'] = df_raw_parsed['Original'].apply(lambda x: len(x)) # Create new 'Length' column.\r\n",
    "df_raw_parsed = df_raw_parsed[['Length', 'Link', 'Original']]\r\n",
    "df_raw_parsed = df_raw_parsed[df_raw_parsed['Length'] > 50]"
   ],
   "outputs": [],
   "metadata": {}
  },
  {
   "cell_type": "code",
   "execution_count": 6,
   "source": [
    "df_raw_parsed.describe(include=object)"
   ],
   "outputs": [
    {
     "output_type": "execute_result",
     "data": {
      "text/plain": [
       "                                           Link  \\\n",
       "count                                     60073   \n",
       "unique                                      307   \n",
       "top     http://www.three.co.uk/terms-conditions   \n",
       "freq                                       5606   \n",
       "\n",
       "                                                 Original  \n",
       "count                                               60073  \n",
       "unique                                              54891  \n",
       "top     By submitting an entry, entrants will be deeme...  \n",
       "freq                                                   38  "
      ],
      "text/html": [
       "<div>\n",
       "<style scoped>\n",
       "    .dataframe tbody tr th:only-of-type {\n",
       "        vertical-align: middle;\n",
       "    }\n",
       "\n",
       "    .dataframe tbody tr th {\n",
       "        vertical-align: top;\n",
       "    }\n",
       "\n",
       "    .dataframe thead th {\n",
       "        text-align: right;\n",
       "    }\n",
       "</style>\n",
       "<table border=\"1\" class=\"dataframe\">\n",
       "  <thead>\n",
       "    <tr style=\"text-align: right;\">\n",
       "      <th></th>\n",
       "      <th>Link</th>\n",
       "      <th>Original</th>\n",
       "    </tr>\n",
       "  </thead>\n",
       "  <tbody>\n",
       "    <tr>\n",
       "      <th>count</th>\n",
       "      <td>60073</td>\n",
       "      <td>60073</td>\n",
       "    </tr>\n",
       "    <tr>\n",
       "      <th>unique</th>\n",
       "      <td>307</td>\n",
       "      <td>54891</td>\n",
       "    </tr>\n",
       "    <tr>\n",
       "      <th>top</th>\n",
       "      <td>http://www.three.co.uk/terms-conditions</td>\n",
       "      <td>By submitting an entry, entrants will be deeme...</td>\n",
       "    </tr>\n",
       "    <tr>\n",
       "      <th>freq</th>\n",
       "      <td>5606</td>\n",
       "      <td>38</td>\n",
       "    </tr>\n",
       "  </tbody>\n",
       "</table>\n",
       "</div>"
      ]
     },
     "metadata": {},
     "execution_count": 6
    }
   ],
   "metadata": {}
  },
  {
   "cell_type": "code",
   "execution_count": 7,
   "source": [
    "df_raw_parsed['Original'] = df_raw_parsed['Original'].astype(str)\r\n",
    "df_raw_parsed = df_raw_parsed.drop_duplicates(['Original']) # Remove duplicate data. Remain unique data in column.\r\n",
    "df_raw_parsed.describe(include=object)"
   ],
   "outputs": [
    {
     "output_type": "execute_result",
     "data": {
      "text/plain": [
       "                                           Link  \\\n",
       "count                                     54891   \n",
       "unique                                      307   \n",
       "top     http://www.three.co.uk/terms-conditions   \n",
       "freq                                       3615   \n",
       "\n",
       "                                                 Original  \n",
       "count                                               54891  \n",
       "unique                                              54891  \n",
       "top     In such event, you shall provide Zendesk with ...  \n",
       "freq                                                    1  "
      ],
      "text/html": [
       "<div>\n",
       "<style scoped>\n",
       "    .dataframe tbody tr th:only-of-type {\n",
       "        vertical-align: middle;\n",
       "    }\n",
       "\n",
       "    .dataframe tbody tr th {\n",
       "        vertical-align: top;\n",
       "    }\n",
       "\n",
       "    .dataframe thead th {\n",
       "        text-align: right;\n",
       "    }\n",
       "</style>\n",
       "<table border=\"1\" class=\"dataframe\">\n",
       "  <thead>\n",
       "    <tr style=\"text-align: right;\">\n",
       "      <th></th>\n",
       "      <th>Link</th>\n",
       "      <th>Original</th>\n",
       "    </tr>\n",
       "  </thead>\n",
       "  <tbody>\n",
       "    <tr>\n",
       "      <th>count</th>\n",
       "      <td>54891</td>\n",
       "      <td>54891</td>\n",
       "    </tr>\n",
       "    <tr>\n",
       "      <th>unique</th>\n",
       "      <td>307</td>\n",
       "      <td>54891</td>\n",
       "    </tr>\n",
       "    <tr>\n",
       "      <th>top</th>\n",
       "      <td>http://www.three.co.uk/terms-conditions</td>\n",
       "      <td>In such event, you shall provide Zendesk with ...</td>\n",
       "    </tr>\n",
       "    <tr>\n",
       "      <th>freq</th>\n",
       "      <td>3615</td>\n",
       "      <td>1</td>\n",
       "    </tr>\n",
       "  </tbody>\n",
       "</table>\n",
       "</div>"
      ]
     },
     "metadata": {},
     "execution_count": 7
    }
   ],
   "metadata": {}
  },
  {
   "cell_type": "code",
   "execution_count": 8,
   "source": [
    "# df_raw_parsed.to_csv(Path(os.getcwd() + \"/\" + \"test1_tos_data.csv\"), index=False) "
   ],
   "outputs": [],
   "metadata": {}
  },
  {
   "cell_type": "code",
   "execution_count": 9,
   "source": [
    "def detect_english_sentence(sentence):\r\n",
    "    res = detect_langs(sentence)\r\n",
    "    for item in res:\r\n",
    "        if item.lang == \"en\" and item.prob > 0.99:\r\n",
    "            return True\r\n",
    "        else:\r\n",
    "            return False\r\n",
    "\r\n",
    "def make_space(sentence):\r\n",
    "    result =[]\r\n",
    "    # Insert a space such as \"HelloWorld\" -> \"Hello World\"\r\n",
    "    result = re.sub(r\"([a-z])([A-Z])([a-z])\", r\"\\1 \\2\\3\", sentence)\r\n",
    "    return result\r\n",
    "\r\n",
    "for i, row in df_raw_parsed.iterrows():\r\n",
    "    if detect_english_sentence(row['Original']) == True:\r\n",
    "        result = make_space(row['Original'])\r\n",
    "    else:\r\n",
    "        result = \"\"\r\n",
    "    df_raw_parsed.loc[i, 'Original'] = result"
   ],
   "outputs": [],
   "metadata": {}
  },
  {
   "cell_type": "code",
   "execution_count": 10,
   "source": [
    "df_raw_parsed = df_raw_parsed.reset_index(drop=True)\r\n",
    "df_raw_parsed = df_raw_parsed[df_raw_parsed['Original'] != '']\r\n",
    "df_raw_parsed.to_csv(Path(os.getcwd() + \"/\" + \"test_tos_data.csv\"), index=False) "
   ],
   "outputs": [],
   "metadata": {}
  },
  {
   "cell_type": "code",
   "execution_count": 11,
   "source": [
    "# Compare data that calculated length of whole sentence each pandas.\r\n",
    "# Through this, you can see how much data is lost after parsing.\r\n",
    "\r\n",
    "# df_raw = df_raw[df_raw['Original'] != '']\r\n",
    "# df_raw['Original'] = df_raw['Original'].astype(str)\r\n",
    "# df_raw = df_raw.drop_duplicates(['Original'])\r\n",
    "\r\n",
    "# sum_df_raw = 0\r\n",
    "# sum_df_raw_parsed = 0\r\n",
    "\r\n",
    "# for i, row in df_raw.iterrows():\r\n",
    "#     sum_df_raw = sum_df_raw + len(row['Original'])\r\n",
    "\r\n",
    "# for i, row in df_raw_parsed.iterrows():\r\n",
    "#     sum_df_raw_parsed = sum_df_raw_parsed + len(row['Original'])\r\n",
    "\r\n",
    "# print('Before text parsing {0}, After text parsing {1}'.format(sum_df_raw, sum_df_raw_parsed))"
   ],
   "outputs": [],
   "metadata": {}
  },
  {
   "cell_type": "code",
   "execution_count": 12,
   "source": [
    "df_raw_parsed.plot(kind='box', figsize=(6,4))\r\n",
    "df_raw_parsed.plot()\r\n",
    "sns.displot(df_raw_parsed['Length'], kde=True)\r\n",
    "# Reference: https://datascienceschool.net/01%20python/05.04%20%EC%8B%9C%EB%B3%B8%EC%9D%84%20%EC%82%AC%EC%9A%A9%ED%95%9C%20%EB%8D%B0%EC%9D%B4%ED%84%B0%20%EB%B6%84%ED%8F%AC%20%EC%8B%9C%EA%B0%81%ED%99%94.html"
   ],
   "outputs": [
    {
     "output_type": "execute_result",
     "data": {
      "text/plain": [
       "<seaborn.axisgrid.FacetGrid at 0x22dcced58b0>"
      ]
     },
     "metadata": {},
     "execution_count": 12
    },
    {
     "output_type": "display_data",
     "data": {
      "text/plain": [
       "<Figure size 432x288 with 1 Axes>"
      ],
      "image/png": "[encoded data removed]"
     },
     "metadata": {
      "needs_background": "light"
     }
    },
    {
     "output_type": "display_data",
     "data": {
      "text/plain": [
       "<Figure size 432x288 with 1 Axes>"
      ],
      "image/png": "[encoded data removed]"
     },
     "metadata": {
      "needs_background": "light"
     }
    },
    {
     "output_type": "display_data",
     "data": {
      "text/plain": [
       "<Figure size 360x360 with 1 Axes>"
      ],
      "image/png": "[encoded data removed]"
     },
     "metadata": {
      "needs_background": "light"
     }
    }
   ],
   "metadata": {}
  },
  {
   "cell_type": "code",
   "execution_count": 13,
   "source": [
    "df_raw_parsed.describe(exclude=object)"
   ],
   "outputs": [
    {
     "output_type": "execute_result",
     "data": {
      "text/plain": [
       "             Length\n",
       "count  51459.000000\n",
       "mean     200.318564\n",
       "std      256.192405\n",
       "min       51.000000\n",
       "25%      102.000000\n",
       "50%      151.000000\n",
       "75%      228.000000\n",
       "max    17246.000000"
      ],
      "text/html": [
       "<div>\n",
       "<style scoped>\n",
       "    .dataframe tbody tr th:only-of-type {\n",
       "        vertical-align: middle;\n",
       "    }\n",
       "\n",
       "    .dataframe tbody tr th {\n",
       "        vertical-align: top;\n",
       "    }\n",
       "\n",
       "    .dataframe thead th {\n",
       "        text-align: right;\n",
       "    }\n",
       "</style>\n",
       "<table border=\"1\" class=\"dataframe\">\n",
       "  <thead>\n",
       "    <tr style=\"text-align: right;\">\n",
       "      <th></th>\n",
       "      <th>Length</th>\n",
       "    </tr>\n",
       "  </thead>\n",
       "  <tbody>\n",
       "    <tr>\n",
       "      <th>count</th>\n",
       "      <td>51459.000000</td>\n",
       "    </tr>\n",
       "    <tr>\n",
       "      <th>mean</th>\n",
       "      <td>200.318564</td>\n",
       "    </tr>\n",
       "    <tr>\n",
       "      <th>std</th>\n",
       "      <td>256.192405</td>\n",
       "    </tr>\n",
       "    <tr>\n",
       "      <th>min</th>\n",
       "      <td>51.000000</td>\n",
       "    </tr>\n",
       "    <tr>\n",
       "      <th>25%</th>\n",
       "      <td>102.000000</td>\n",
       "    </tr>\n",
       "    <tr>\n",
       "      <th>50%</th>\n",
       "      <td>151.000000</td>\n",
       "    </tr>\n",
       "    <tr>\n",
       "      <th>75%</th>\n",
       "      <td>228.000000</td>\n",
       "    </tr>\n",
       "    <tr>\n",
       "      <th>max</th>\n",
       "      <td>17246.000000</td>\n",
       "    </tr>\n",
       "  </tbody>\n",
       "</table>\n",
       "</div>"
      ]
     },
     "metadata": {},
     "execution_count": 13
    }
   ],
   "metadata": {}
  },
  {
   "cell_type": "code",
   "execution_count": 14,
   "source": [
    "# df_raw_parsed_test = df_raw_parsed.sort_values(by='Length') # data sorted by descending order.\r\n",
    "# df_raw_parsed_test = df_raw_parsed_test.reset_index(drop=True)\r\n",
    "# df_raw_parsed_test"
   ],
   "outputs": [],
   "metadata": {}
  },
  {
   "cell_type": "code",
   "execution_count": 15,
   "source": [
    "# np.percentile(df_raw_parsed_test['Length'], [5, 95], interpolation='nearest') # For readability, extract sentences based on 5%ile, 95%ile."
   ],
   "outputs": [],
   "metadata": {}
  },
  {
   "cell_type": "code",
   "execution_count": 16,
   "source": [
    "# df_raw_parsed_test = df_raw_parsed_test[(df_raw_parsed_test['Length'] >= 60) & (df_raw_parsed_test['Length'] <= 371)]\r\n",
    "# df_raw_parsed_test"
   ],
   "outputs": [],
   "metadata": {}
  },
  {
   "cell_type": "code",
   "execution_count": 17,
   "source": [
    "# import sklearn\r\n",
    "\r\n",
    "# df_shuffled = df_shuffled.drop(columns=['Length'])\r\n",
    "# df_shuffled = sklearn.utils.shuffle(df_shuffled)\r\n",
    "# df_shuffled.to_csv(Path(os.getcwd() + \"/\" + \"shuffled_tos_data.csv\"), index=False)"
   ],
   "outputs": [],
   "metadata": {}
  }
 ],
 "metadata": {
  "interpreter": {
   "hash": "40b9cf565d070ee13d37836166faa1e65075ac740510169fa1bf4f89f6b88bdd"
  },
  "kernelspec": {
   "display_name": "Python 3.8.10 64-bit ('bert': conda)",
   "name": "python3"
  },
  "language_info": {
   "codemirror_mode": {
    "name": "ipython",
    "version": 3
   },
   "file_extension": ".py",
   "mimetype": "text/x-python",
   "name": "python",
   "nbconvert_exporter": "python",
   "pygments_lexer": "ipython3",
   "version": "3.8.10"
  },
  "orig_nbformat": 4
 },
 "nbformat": 4,
 "nbformat_minor": 2
}