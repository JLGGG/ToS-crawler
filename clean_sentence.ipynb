{
 "cells": [
  {
   "cell_type": "code",
   "execution_count": 1,
   "source": [
    "import pandas as pd\r\n",
    "import numpy as np\r\n",
    "import os\r\n",
    "import re\r\n",
    "import sklearn\r\n",
    "from pathlib import Path\r\n",
    "from langdetect import detect_langs\r\n",
    "\r\n",
    "import seaborn as sns\r\n",
    "from matplotlib import pyplot as plt\r\n",
    "\r\n",
    "df = pd.read_csv(\"../tos_data/tos_data.csv\", error_bad_lines=False)\r\n",
    "df.info()"
   ],
   "outputs": [
    {
     "output_type": "stream",
     "name": "stdout",
     "text": [
      "<class 'pandas.core.frame.DataFrame'>\n",
      "RangeIndex: 324 entries, 0 to 323\n",
      "Data columns (total 3 columns):\n",
      " #   Column    Non-Null Count  Dtype \n",
      "---  ------    --------------  ----- \n",
      " 0   Length    324 non-null    int64 \n",
      " 1   Link      324 non-null    object\n",
      " 2   Original  322 non-null    object\n",
      "dtypes: int64(1), object(2)\n",
      "memory usage: 7.7+ KB\n"
     ]
    }
   ],
   "metadata": {}
  },
  {
   "cell_type": "code",
   "execution_count": 2,
   "source": [
    "def remove_multiple_space(sentence):\r\n",
    "    clear_sentence = ' '.join(sentence.split())\r\n",
    "    #clear_sentence = clear_sentence.lower()\r\n",
    "    return clear_sentence\r\n",
    "\r\n",
    "df_raw = df[df['Length'] > 300] # Deleting a HTML's text that was not properly collected.\r\n",
    "df_raw['Original'] = df_raw['Original'].astype(str)\r\n",
    "df_raw = df_raw.drop_duplicates(['Original'])\r\n",
    "df_raw['Original'] = df_raw['Original'].apply(remove_multiple_space)\r\n",
    "df_raw.describe(include=object)"
   ],
   "outputs": [
    {
     "output_type": "stream",
     "name": "stderr",
     "text": [
      "<ipython-input-2-1bb8b5900bb7>:7: SettingWithCopyWarning: \n",
      "A value is trying to be set on a copy of a slice from a DataFrame.\n",
      "Try using .loc[row_indexer,col_indexer] = value instead\n",
      "\n",
      "See the caveats in the documentation: https://pandas.pydata.org/pandas-docs/stable/user_guide/indexing.html#returning-a-view-versus-a-copy\n",
      "  df_raw['Original'] = df_raw['Original'].astype(str)\n"
     ]
    },
    {
     "output_type": "execute_result",
     "data": {
      "text/plain": [
       "                                                     Link  \\\n",
       "count                                                 307   \n",
       "unique                                                307   \n",
       "top     https://www.kvk.nl/english/starting-a-business...   \n",
       "freq                                                    1   \n",
       "\n",
       "                                                 Original  \n",
       "count                                                 307  \n",
       "unique                                                307  \n",
       "top     ­ Terms & Conditions | meet.jit.si Terms of Se...  \n",
       "freq                                                    1  "
      ],
      "text/html": [
       "<div>\n",
       "<style scoped>\n",
       "    .dataframe tbody tr th:only-of-type {\n",
       "        vertical-align: middle;\n",
       "    }\n",
       "\n",
       "    .dataframe tbody tr th {\n",
       "        vertical-align: top;\n",
       "    }\n",
       "\n",
       "    .dataframe thead th {\n",
       "        text-align: right;\n",
       "    }\n",
       "</style>\n",
       "<table border=\"1\" class=\"dataframe\">\n",
       "  <thead>\n",
       "    <tr style=\"text-align: right;\">\n",
       "      <th></th>\n",
       "      <th>Link</th>\n",
       "      <th>Original</th>\n",
       "    </tr>\n",
       "  </thead>\n",
       "  <tbody>\n",
       "    <tr>\n",
       "      <th>count</th>\n",
       "      <td>307</td>\n",
       "      <td>307</td>\n",
       "    </tr>\n",
       "    <tr>\n",
       "      <th>unique</th>\n",
       "      <td>307</td>\n",
       "      <td>307</td>\n",
       "    </tr>\n",
       "    <tr>\n",
       "      <th>top</th>\n",
       "      <td>https://www.kvk.nl/english/starting-a-business...</td>\n",
       "      <td>­ Terms &amp; Conditions | meet.jit.si Terms of Se...</td>\n",
       "    </tr>\n",
       "    <tr>\n",
       "      <th>freq</th>\n",
       "      <td>1</td>\n",
       "      <td>1</td>\n",
       "    </tr>\n",
       "  </tbody>\n",
       "</table>\n",
       "</div>"
      ]
     },
     "metadata": {},
     "execution_count": 2
    }
   ],
   "metadata": {}
  },
  {
   "cell_type": "code",
   "execution_count": 3,
   "source": [
    "df_raw = df_raw.drop(columns=['Length'])\r\n",
    "\r\n",
    "def split_sentence(s):\r\n",
    "    t_list = re.split(r'[.;]\\s*(?=[A-Z])', s)\r\n",
    "\r\n",
    "    return t_list\r\n",
    "\r\n",
    "def filter_roman_number(s):\r\n",
    "    result = []\r\n",
    "    for t in s:\r\n",
    "        t_result = re.split(r'\\(.\\) | \\(..\\) | \\(...\\) | \\(....\\)', t)\r\n",
    "        result = result + t_result\r\n",
    "        \r\n",
    "    result = list(filter(None, result))  \r\n",
    "    return result\r\n",
    "\r\n",
    "def make_new_row(plist, df_raw_parsed):\r\n",
    "    for s in plist:\r\n",
    "        new_row = {\r\n",
    "            'Link': row['Link'],\r\n",
    "            'Original': s,\r\n",
    "        }\r\n",
    "        df_raw_parsed = df_raw_parsed.append(new_row, ignore_index=True)\r\n",
    "    return df_raw_parsed\r\n",
    "\r\n",
    "df_raw_parsed = pd.DataFrame(columns=['Link', 'Original'])\r\n",
    "for i, row in df_raw.iterrows():\r\n",
    "    t_list = split_sentence(row['Original'])\r\n",
    "    f_list = filter_roman_number(t_list)\r\n",
    "\r\n",
    "    if not f_list:\r\n",
    "        df_raw_parsed = make_new_row(t_list, df_raw_parsed)\r\n",
    "    else:\r\n",
    "        df_raw_parsed = make_new_row(f_list, df_raw_parsed)\r\n",
    "\r\n"
   ],
   "outputs": [],
   "metadata": {}
  },
  {
   "cell_type": "code",
   "execution_count": 4,
   "source": [
    "df_raw_parsed.info()"
   ],
   "outputs": [
    {
     "output_type": "stream",
     "name": "stdout",
     "text": [
      "<class 'pandas.core.frame.DataFrame'>\n",
      "RangeIndex: 71765 entries, 0 to 71764\n",
      "Data columns (total 2 columns):\n",
      " #   Column    Non-Null Count  Dtype \n",
      "---  ------    --------------  ----- \n",
      " 0   Link      71765 non-null  object\n",
      " 1   Original  71765 non-null  object\n",
      "dtypes: object(2)\n",
      "memory usage: 1.1+ MB\n"
     ]
    }
   ],
   "metadata": {}
  },
  {
   "cell_type": "code",
   "execution_count": 5,
   "source": [
    "df_raw_parsed['Length'] = df_raw_parsed['Original'].apply(lambda x: len(x)) # Create new 'Length' column.\r\n",
    "df_raw_parsed = df_raw_parsed[['Length', 'Link', 'Original']]\r\n",
    "df_raw_parsed = df_raw_parsed[df_raw_parsed['Length'] > 50]"
   ],
   "outputs": [],
   "metadata": {}
  },
  {
   "cell_type": "code",
   "execution_count": 6,
   "source": [
    "df_raw_parsed.describe(include=object)"
   ],
   "outputs": [
    {
     "output_type": "execute_result",
     "data": {
      "text/plain": [
       "                                           Link  \\\n",
       "count                                     60073   \n",
       "unique                                      307   \n",
       "top     http://www.three.co.uk/terms-conditions   \n",
       "freq                                       5606   \n",
       "\n",
       "                                                 Original  \n",
       "count                                               60073  \n",
       "unique                                              54891  \n",
       "top     Entry into the Promotion signifies acceptance ...  \n",
       "freq                                                   38  "
      ],
      "text/html": [
       "<div>\n",
       "<style scoped>\n",
       "    .dataframe tbody tr th:only-of-type {\n",
       "        vertical-align: middle;\n",
       "    }\n",
       "\n",
       "    .dataframe tbody tr th {\n",
       "        vertical-align: top;\n",
       "    }\n",
       "\n",
       "    .dataframe thead th {\n",
       "        text-align: right;\n",
       "    }\n",
       "</style>\n",
       "<table border=\"1\" class=\"dataframe\">\n",
       "  <thead>\n",
       "    <tr style=\"text-align: right;\">\n",
       "      <th></th>\n",
       "      <th>Link</th>\n",
       "      <th>Original</th>\n",
       "    </tr>\n",
       "  </thead>\n",
       "  <tbody>\n",
       "    <tr>\n",
       "      <th>count</th>\n",
       "      <td>60073</td>\n",
       "      <td>60073</td>\n",
       "    </tr>\n",
       "    <tr>\n",
       "      <th>unique</th>\n",
       "      <td>307</td>\n",
       "      <td>54891</td>\n",
       "    </tr>\n",
       "    <tr>\n",
       "      <th>top</th>\n",
       "      <td>http://www.three.co.uk/terms-conditions</td>\n",
       "      <td>Entry into the Promotion signifies acceptance ...</td>\n",
       "    </tr>\n",
       "    <tr>\n",
       "      <th>freq</th>\n",
       "      <td>5606</td>\n",
       "      <td>38</td>\n",
       "    </tr>\n",
       "  </tbody>\n",
       "</table>\n",
       "</div>"
      ]
     },
     "metadata": {},
     "execution_count": 6
    }
   ],
   "metadata": {}
  },
  {
   "cell_type": "code",
   "execution_count": 7,
   "source": [
    "df_raw_parsed['Original'] = df_raw_parsed['Original'].astype(str)\r\n",
    "df_raw_parsed = df_raw_parsed.drop_duplicates(['Original']) # Remove duplicate data. Remain unique data in column.\r\n",
    "df_raw_parsed.describe(include=object)"
   ],
   "outputs": [
    {
     "output_type": "execute_result",
     "data": {
      "text/plain": [
       "                                           Link  \\\n",
       "count                                     54891   \n",
       "unique                                      307   \n",
       "top     http://www.three.co.uk/terms-conditions   \n",
       "freq                                       3615   \n",
       "\n",
       "                                                 Original  \n",
       "count                                               54891  \n",
       "unique                                              54891  \n",
       "top     If the Agreement or the Order Form terminates ...  \n",
       "freq                                                    1  "
      ],
      "text/html": [
       "<div>\n",
       "<style scoped>\n",
       "    .dataframe tbody tr th:only-of-type {\n",
       "        vertical-align: middle;\n",
       "    }\n",
       "\n",
       "    .dataframe tbody tr th {\n",
       "        vertical-align: top;\n",
       "    }\n",
       "\n",
       "    .dataframe thead th {\n",
       "        text-align: right;\n",
       "    }\n",
       "</style>\n",
       "<table border=\"1\" class=\"dataframe\">\n",
       "  <thead>\n",
       "    <tr style=\"text-align: right;\">\n",
       "      <th></th>\n",
       "      <th>Link</th>\n",
       "      <th>Original</th>\n",
       "    </tr>\n",
       "  </thead>\n",
       "  <tbody>\n",
       "    <tr>\n",
       "      <th>count</th>\n",
       "      <td>54891</td>\n",
       "      <td>54891</td>\n",
       "    </tr>\n",
       "    <tr>\n",
       "      <th>unique</th>\n",
       "      <td>307</td>\n",
       "      <td>54891</td>\n",
       "    </tr>\n",
       "    <tr>\n",
       "      <th>top</th>\n",
       "      <td>http://www.three.co.uk/terms-conditions</td>\n",
       "      <td>If the Agreement or the Order Form terminates ...</td>\n",
       "    </tr>\n",
       "    <tr>\n",
       "      <th>freq</th>\n",
       "      <td>3615</td>\n",
       "      <td>1</td>\n",
       "    </tr>\n",
       "  </tbody>\n",
       "</table>\n",
       "</div>"
      ]
     },
     "metadata": {},
     "execution_count": 7
    }
   ],
   "metadata": {}
  },
  {
   "cell_type": "code",
   "execution_count": 8,
   "source": [
    "def detect_english_sentence(sentence):\r\n",
    "    res = detect_langs(sentence)\r\n",
    "    for item in res:\r\n",
    "        if item.lang == \"en\" and item.prob > 0.99:\r\n",
    "            return True\r\n",
    "        else:\r\n",
    "            return False\r\n",
    "\r\n",
    "def make_space(sentence):\r\n",
    "    result =[]\r\n",
    "    # Insert a space such as \"HelloWorld\" -> \"Hello World\"\r\n",
    "    result = re.sub(r\"([a-z])([A-Z])([a-z])\", r\"\\1 \\2\\3\", sentence)\r\n",
    "    return result\r\n",
    "\r\n",
    "for i, row in df_raw_parsed.iterrows():\r\n",
    "    if detect_english_sentence(row['Original']) == True:\r\n",
    "        result = make_space(row['Original'])\r\n",
    "    else:\r\n",
    "        result = \"\"\r\n",
    "    df_raw_parsed.loc[i, 'Original'] = result"
   ],
   "outputs": [],
   "metadata": {}
  },
  {
   "cell_type": "code",
   "execution_count": 9,
   "source": [
    "df_raw_parsed = df_raw_parsed.reset_index(drop=True)\r\n",
    "df_raw_parsed = df_raw_parsed[df_raw_parsed['Original'] != '']\r\n",
    "# df_raw_parsed.to_csv(Path(os.getcwd() + \"/\" + \"test_tos_data.csv\"), index=False) "
   ],
   "outputs": [],
   "metadata": {}
  },
  {
   "cell_type": "code",
   "execution_count": 10,
   "source": [
    "# Compare data that calculated length of whole sentence each pandas.\r\n",
    "# Through this, you can see how much data is lost after parsing.\r\n",
    "\r\n",
    "# df_raw = df_raw[df_raw['Original'] != '']\r\n",
    "# df_raw['Original'] = df_raw['Original'].astype(str)\r\n",
    "# df_raw = df_raw.drop_duplicates(['Original'])\r\n",
    "\r\n",
    "# sum_df_raw = 0\r\n",
    "# sum_df_raw_parsed = 0\r\n",
    "\r\n",
    "# for i, row in df_raw.iterrows():\r\n",
    "#     sum_df_raw = sum_df_raw + len(row['Original'])\r\n",
    "\r\n",
    "# for i, row in df_raw_parsed.iterrows():\r\n",
    "#     sum_df_raw_parsed = sum_df_raw_parsed + len(row['Original'])\r\n",
    "\r\n",
    "# print('Before text parsing {0}, After text parsing {1}'.format(sum_df_raw, sum_df_raw_parsed))"
   ],
   "outputs": [],
   "metadata": {}
  },
  {
   "cell_type": "code",
   "execution_count": 11,
   "source": [
    "plt.title(\"The number of words\")\r\n",
    "plt.xlabel(\"Index\")\r\n",
    "plt.ylabel(\"Length\")\r\n",
    "plt.plot(df_raw_parsed.index, df_raw_parsed['Length'].values, label='Length')\r\n",
    "plt.legend(loc='upper left')\r\n",
    "plt.show()\r\n",
    "df_raw_parsed.plot(kind='box', figsize=(6,4))\r\n",
    "sns.displot(df_raw_parsed['Length'], kde=True)\r\n",
    "# Reference: https://datascienceschool.net/01%20python/05.04%20%EC%8B%9C%EB%B3%B8%EC%9D%84%20%EC%82%AC%EC%9A%A9%ED%95%9C%20%EB%8D%B0%EC%9D%B4%ED%84%B0%20%EB%B6%84%ED%8F%AC%20%EC%8B%9C%EA%B0%81%ED%99%94.html"
   ],
   "outputs": [
    {
     "output_type": "display_data",
     "data": {
      "text/plain": [
       "<Figure size 432x288 with 1 Axes>"
      ],
      "image/png": "[encoded data removed]"
     },
     "metadata": {
      "needs_background": "light"
     }
    },
    {
     "output_type": "execute_result",
     "data": {
      "text/plain": [
       "<seaborn.axisgrid.FacetGrid at 0x1f8d0cc6040>"
      ]
     },
     "metadata": {},
     "execution_count": 11
    },
    {
     "output_type": "display_data",
     "data": {
      "text/plain": [
       "<Figure size 432x288 with 1 Axes>"
      ],
      "image/png": "[encoded data removed]"
     },
     "metadata": {
      "needs_background": "light"
     }
    },
    {
     "output_type": "display_data",
     "data": {
      "text/plain": [
       "<Figure size 360x360 with 1 Axes>"
      ],
      "image/png": "[encoded data removed]"
     },
     "metadata": {
      "needs_background": "light"
     }
    }
   ],
   "metadata": {}
  },
  {
   "cell_type": "code",
   "execution_count": 12,
   "source": [
    "df_raw_parsed.describe(exclude=object)"
   ],
   "outputs": [
    {
     "output_type": "execute_result",
     "data": {
      "text/plain": [
       "             Length\n",
       "count  51481.000000\n",
       "mean     200.523902\n",
       "std      257.125016\n",
       "min       51.000000\n",
       "25%      102.000000\n",
       "50%      151.000000\n",
       "75%      228.000000\n",
       "max    17246.000000"
      ],
      "text/html": [
       "<div>\n",
       "<style scoped>\n",
       "    .dataframe tbody tr th:only-of-type {\n",
       "        vertical-align: middle;\n",
       "    }\n",
       "\n",
       "    .dataframe tbody tr th {\n",
       "        vertical-align: top;\n",
       "    }\n",
       "\n",
       "    .dataframe thead th {\n",
       "        text-align: right;\n",
       "    }\n",
       "</style>\n",
       "<table border=\"1\" class=\"dataframe\">\n",
       "  <thead>\n",
       "    <tr style=\"text-align: right;\">\n",
       "      <th></th>\n",
       "      <th>Length</th>\n",
       "    </tr>\n",
       "  </thead>\n",
       "  <tbody>\n",
       "    <tr>\n",
       "      <th>count</th>\n",
       "      <td>51481.000000</td>\n",
       "    </tr>\n",
       "    <tr>\n",
       "      <th>mean</th>\n",
       "      <td>200.523902</td>\n",
       "    </tr>\n",
       "    <tr>\n",
       "      <th>std</th>\n",
       "      <td>257.125016</td>\n",
       "    </tr>\n",
       "    <tr>\n",
       "      <th>min</th>\n",
       "      <td>51.000000</td>\n",
       "    </tr>\n",
       "    <tr>\n",
       "      <th>25%</th>\n",
       "      <td>102.000000</td>\n",
       "    </tr>\n",
       "    <tr>\n",
       "      <th>50%</th>\n",
       "      <td>151.000000</td>\n",
       "    </tr>\n",
       "    <tr>\n",
       "      <th>75%</th>\n",
       "      <td>228.000000</td>\n",
       "    </tr>\n",
       "    <tr>\n",
       "      <th>max</th>\n",
       "      <td>17246.000000</td>\n",
       "    </tr>\n",
       "  </tbody>\n",
       "</table>\n",
       "</div>"
      ]
     },
     "metadata": {},
     "execution_count": 12
    }
   ],
   "metadata": {}
  },
  {
   "cell_type": "code",
   "execution_count": 13,
   "source": [
    "df_heuristics = pd.read_csv(\"test_tos_data.csv\", error_bad_lines=False)\r\n",
    "df_heuristics.info()"
   ],
   "outputs": [
    {
     "output_type": "stream",
     "name": "stdout",
     "text": [
      "<class 'pandas.core.frame.DataFrame'>\n",
      "RangeIndex: 51168 entries, 0 to 51167\n",
      "Data columns (total 3 columns):\n",
      " #   Column    Non-Null Count  Dtype \n",
      "---  ------    --------------  ----- \n",
      " 0   Length    51168 non-null  int64 \n",
      " 1   Link      51168 non-null  object\n",
      " 2   Original  51168 non-null  object\n",
      "dtypes: int64(1), object(2)\n",
      "memory usage: 1.2+ MB\n"
     ]
    }
   ],
   "metadata": {}
  },
  {
   "cell_type": "code",
   "execution_count": 14,
   "source": [
    "df_heuristics = df_heuristics.sort_values(by='Length') # data sorted by descending order.\r\n",
    "df_heuristics = df_heuristics.reset_index(drop=True)\r\n",
    "df_heuristics"
   ],
   "outputs": [
    {
     "output_type": "execute_result",
     "data": {
      "text/plain": [
       "       Length                                               Link  \\\n",
       "0          51     https://about.crunchbase.com/terms-of-service/   \n",
       "1          51  https://www.bynder.com/en/legal/terms-of-servi...   \n",
       "2          51    https://developer.here.com/terms-and-conditions   \n",
       "3          51                    https://www.alcon.com/terms-use   \n",
       "4          51            http://www.three.co.uk/terms-conditions   \n",
       "...       ...                                                ...   \n",
       "51163   10786  https://docs.github.com/en/github/site-policy/...   \n",
       "51164   11070         https://www.xero.com/us/about/legal/terms/   \n",
       "51165   11866            https://auspost.com.au/terms-conditions   \n",
       "51166   12391  https://www.sealedair.com/company/suppliers/te...   \n",
       "51167   17246            https://auspost.com.au/terms-conditions   \n",
       "\n",
       "                                                Original  \n",
       "0      Last Updated: June 18th, 2021 Welcome to Crunc...  \n",
       "1      costs of procuring substitute goods or product...  \n",
       "2      Relationship This agreement is between you and...  \n",
       "3      is false, inaccurate, misleading or fraudulent...  \n",
       "4      General Prizes are not transferable or exchang...  \n",
       "...                                                  ...  \n",
       "51163  Git Hub Terms of Service - Git Hub Docs Git Hu...  \n",
       "51164  The trick is in approaching the right people w...  \n",
       "51165   Buy online Gift cards Square Card Reader Expr...  \n",
       "51166  Terms & Conditions - Sealed Air Popular Search...  \n",
       "51167   Buy online Gift cards Square Card Reader Expr...  \n",
       "\n",
       "[51168 rows x 3 columns]"
      ],
      "text/html": [
       "<div>\n",
       "<style scoped>\n",
       "    .dataframe tbody tr th:only-of-type {\n",
       "        vertical-align: middle;\n",
       "    }\n",
       "\n",
       "    .dataframe tbody tr th {\n",
       "        vertical-align: top;\n",
       "    }\n",
       "\n",
       "    .dataframe thead th {\n",
       "        text-align: right;\n",
       "    }\n",
       "</style>\n",
       "<table border=\"1\" class=\"dataframe\">\n",
       "  <thead>\n",
       "    <tr style=\"text-align: right;\">\n",
       "      <th></th>\n",
       "      <th>Length</th>\n",
       "      <th>Link</th>\n",
       "      <th>Original</th>\n",
       "    </tr>\n",
       "  </thead>\n",
       "  <tbody>\n",
       "    <tr>\n",
       "      <th>0</th>\n",
       "      <td>51</td>\n",
       "      <td>https://about.crunchbase.com/terms-of-service/</td>\n",
       "      <td>Last Updated: June 18th, 2021 Welcome to Crunc...</td>\n",
       "    </tr>\n",
       "    <tr>\n",
       "      <th>1</th>\n",
       "      <td>51</td>\n",
       "      <td>https://www.bynder.com/en/legal/terms-of-servi...</td>\n",
       "      <td>costs of procuring substitute goods or product...</td>\n",
       "    </tr>\n",
       "    <tr>\n",
       "      <th>2</th>\n",
       "      <td>51</td>\n",
       "      <td>https://developer.here.com/terms-and-conditions</td>\n",
       "      <td>Relationship This agreement is between you and...</td>\n",
       "    </tr>\n",
       "    <tr>\n",
       "      <th>3</th>\n",
       "      <td>51</td>\n",
       "      <td>https://www.alcon.com/terms-use</td>\n",
       "      <td>is false, inaccurate, misleading or fraudulent...</td>\n",
       "    </tr>\n",
       "    <tr>\n",
       "      <th>4</th>\n",
       "      <td>51</td>\n",
       "      <td>http://www.three.co.uk/terms-conditions</td>\n",
       "      <td>General Prizes are not transferable or exchang...</td>\n",
       "    </tr>\n",
       "    <tr>\n",
       "      <th>...</th>\n",
       "      <td>...</td>\n",
       "      <td>...</td>\n",
       "      <td>...</td>\n",
       "    </tr>\n",
       "    <tr>\n",
       "      <th>51163</th>\n",
       "      <td>10786</td>\n",
       "      <td>https://docs.github.com/en/github/site-policy/...</td>\n",
       "      <td>Git Hub Terms of Service - Git Hub Docs Git Hu...</td>\n",
       "    </tr>\n",
       "    <tr>\n",
       "      <th>51164</th>\n",
       "      <td>11070</td>\n",
       "      <td>https://www.xero.com/us/about/legal/terms/</td>\n",
       "      <td>The trick is in approaching the right people w...</td>\n",
       "    </tr>\n",
       "    <tr>\n",
       "      <th>51165</th>\n",
       "      <td>11866</td>\n",
       "      <td>https://auspost.com.au/terms-conditions</td>\n",
       "      <td>Buy online Gift cards Square Card Reader Expr...</td>\n",
       "    </tr>\n",
       "    <tr>\n",
       "      <th>51166</th>\n",
       "      <td>12391</td>\n",
       "      <td>https://www.sealedair.com/company/suppliers/te...</td>\n",
       "      <td>Terms &amp; Conditions - Sealed Air Popular Search...</td>\n",
       "    </tr>\n",
       "    <tr>\n",
       "      <th>51167</th>\n",
       "      <td>17246</td>\n",
       "      <td>https://auspost.com.au/terms-conditions</td>\n",
       "      <td>Buy online Gift cards Square Card Reader Expr...</td>\n",
       "    </tr>\n",
       "  </tbody>\n",
       "</table>\n",
       "<p>51168 rows × 3 columns</p>\n",
       "</div>"
      ]
     },
     "metadata": {},
     "execution_count": 14
    }
   ],
   "metadata": {}
  },
  {
   "cell_type": "code",
   "execution_count": 15,
   "source": [
    "np.percentile(df_heuristics['Length'], [5, 95], interpolation='nearest') # For readability, extract sentences based on 5%ile, 95%ile."
   ],
   "outputs": [
    {
     "output_type": "execute_result",
     "data": {
      "text/plain": [
       "array([ 63, 459], dtype=int64)"
      ]
     },
     "metadata": {},
     "execution_count": 15
    }
   ],
   "metadata": {}
  },
  {
   "cell_type": "code",
   "execution_count": 16,
   "source": [
    "df_heuristics = df_heuristics[(df_heuristics['Length'] >= 63) & (df_heuristics['Length'] <= 459)]\r\n",
    "df_heuristics"
   ],
   "outputs": [
    {
     "output_type": "execute_result",
     "data": {
      "text/plain": [
       "       Length                                               Link  \\\n",
       "2398       63       https://www.cyberark.com/terms-service-saas/   \n",
       "2399       63  https://www.metrobyt-mobile.com/metropcs-terms...   \n",
       "2400       63  https://www.nationwide.com/personal/about-us/t...   \n",
       "2401       63                         https://www.lyft.com/terms   \n",
       "2402       63               https://www.sequoia.com/legal/terms/   \n",
       "...       ...                                                ...   \n",
       "48614     459        https://www.futureplc.com/terms-conditions/   \n",
       "48615     459  http://www.google.com/intl/en_ZZ/policies/term...   \n",
       "48616     459  https://about.proquest.com/en/about/terms-and-...   \n",
       "48617     459  https://journals.sagepub.com/page/policies/ter...   \n",
       "48618     459        https://www.nixle.com/agency-terms-service/   \n",
       "\n",
       "                                                Original  \n",
       "2398   Any accrued rights and obligations will surviv...  \n",
       "2399   you may have selected or that may be included ...  \n",
       "2400   Such products, coverages, terms and discounts ...  \n",
       "2401   To use the Lyft Platform, each User shall crea...  \n",
       "2402   PLEASE READ THIS AGREEMENT CAREFULLY PRIOR TO ...  \n",
       "...                                                  ...  \n",
       "48614  Future will not be liable, in contract, tort (...  \n",
       "48615  any applicable law, regulation or generally ac...  \n",
       "48616  Government rights to use, modify, reproduce, r...  \n",
       "48617  SAGE MAKES NO REPRESENTATION OR WARRANTY, AND ...  \n",
       "48618  Types of Notifications “Life Safety/Alert Noti...  \n",
       "\n",
       "[46221 rows x 3 columns]"
      ],
      "text/html": [
       "<div>\n",
       "<style scoped>\n",
       "    .dataframe tbody tr th:only-of-type {\n",
       "        vertical-align: middle;\n",
       "    }\n",
       "\n",
       "    .dataframe tbody tr th {\n",
       "        vertical-align: top;\n",
       "    }\n",
       "\n",
       "    .dataframe thead th {\n",
       "        text-align: right;\n",
       "    }\n",
       "</style>\n",
       "<table border=\"1\" class=\"dataframe\">\n",
       "  <thead>\n",
       "    <tr style=\"text-align: right;\">\n",
       "      <th></th>\n",
       "      <th>Length</th>\n",
       "      <th>Link</th>\n",
       "      <th>Original</th>\n",
       "    </tr>\n",
       "  </thead>\n",
       "  <tbody>\n",
       "    <tr>\n",
       "      <th>2398</th>\n",
       "      <td>63</td>\n",
       "      <td>https://www.cyberark.com/terms-service-saas/</td>\n",
       "      <td>Any accrued rights and obligations will surviv...</td>\n",
       "    </tr>\n",
       "    <tr>\n",
       "      <th>2399</th>\n",
       "      <td>63</td>\n",
       "      <td>https://www.metrobyt-mobile.com/metropcs-terms...</td>\n",
       "      <td>you may have selected or that may be included ...</td>\n",
       "    </tr>\n",
       "    <tr>\n",
       "      <th>2400</th>\n",
       "      <td>63</td>\n",
       "      <td>https://www.nationwide.com/personal/about-us/t...</td>\n",
       "      <td>Such products, coverages, terms and discounts ...</td>\n",
       "    </tr>\n",
       "    <tr>\n",
       "      <th>2401</th>\n",
       "      <td>63</td>\n",
       "      <td>https://www.lyft.com/terms</td>\n",
       "      <td>To use the Lyft Platform, each User shall crea...</td>\n",
       "    </tr>\n",
       "    <tr>\n",
       "      <th>2402</th>\n",
       "      <td>63</td>\n",
       "      <td>https://www.sequoia.com/legal/terms/</td>\n",
       "      <td>PLEASE READ THIS AGREEMENT CAREFULLY PRIOR TO ...</td>\n",
       "    </tr>\n",
       "    <tr>\n",
       "      <th>...</th>\n",
       "      <td>...</td>\n",
       "      <td>...</td>\n",
       "      <td>...</td>\n",
       "    </tr>\n",
       "    <tr>\n",
       "      <th>48614</th>\n",
       "      <td>459</td>\n",
       "      <td>https://www.futureplc.com/terms-conditions/</td>\n",
       "      <td>Future will not be liable, in contract, tort (...</td>\n",
       "    </tr>\n",
       "    <tr>\n",
       "      <th>48615</th>\n",
       "      <td>459</td>\n",
       "      <td>http://www.google.com/intl/en_ZZ/policies/term...</td>\n",
       "      <td>any applicable law, regulation or generally ac...</td>\n",
       "    </tr>\n",
       "    <tr>\n",
       "      <th>48616</th>\n",
       "      <td>459</td>\n",
       "      <td>https://about.proquest.com/en/about/terms-and-...</td>\n",
       "      <td>Government rights to use, modify, reproduce, r...</td>\n",
       "    </tr>\n",
       "    <tr>\n",
       "      <th>48617</th>\n",
       "      <td>459</td>\n",
       "      <td>https://journals.sagepub.com/page/policies/ter...</td>\n",
       "      <td>SAGE MAKES NO REPRESENTATION OR WARRANTY, AND ...</td>\n",
       "    </tr>\n",
       "    <tr>\n",
       "      <th>48618</th>\n",
       "      <td>459</td>\n",
       "      <td>https://www.nixle.com/agency-terms-service/</td>\n",
       "      <td>Types of Notifications “Life Safety/Alert Noti...</td>\n",
       "    </tr>\n",
       "  </tbody>\n",
       "</table>\n",
       "<p>46221 rows × 3 columns</p>\n",
       "</div>"
      ]
     },
     "metadata": {},
     "execution_count": 16
    }
   ],
   "metadata": {}
  },
  {
   "cell_type": "code",
   "execution_count": 17,
   "source": [
    "df_heuristics = df_heuristics.reset_index(drop=True)\r\n",
    "\r\n",
    "plt.title(\"The number of words\")\r\n",
    "plt.xlabel(\"Index\")\r\n",
    "plt.ylabel(\"Length\")\r\n",
    "plt.plot(df_heuristics.index, df_heuristics['Length'].values, label='Length')\r\n",
    "plt.legend(loc='upper left')\r\n",
    "plt.show()\r\n",
    "df_heuristics.plot(kind='box', figsize=(6,4))\r\n",
    "sns.displot(df_heuristics['Length'], kde=True)"
   ],
   "outputs": [
    {
     "output_type": "display_data",
     "data": {
      "text/plain": [
       "<Figure size 432x288 with 1 Axes>"
      ],
      "image/png": "[encoded data removed]"
     },
     "metadata": {
      "needs_background": "light"
     }
    },
    {
     "output_type": "execute_result",
     "data": {
      "text/plain": [
       "<seaborn.axisgrid.FacetGrid at 0x1f8de3f8cd0>"
      ]
     },
     "metadata": {},
     "execution_count": 17
    },
    {
     "output_type": "display_data",
     "data": {
      "text/plain": [
       "<Figure size 432x288 with 1 Axes>"
      ],
      "image/png": "[encoded data removed]"
     },
     "metadata": {
      "needs_background": "light"
     }
    },
    {
     "output_type": "display_data",
     "data": {
      "text/plain": [
       "<Figure size 360x360 with 1 Axes>"
      ],
      "image/png": "[encoded data removed]"
     },
     "metadata": {
      "needs_background": "light"
     }
    }
   ],
   "metadata": {}
  },
  {
   "cell_type": "code",
   "execution_count": 18,
   "source": [
    "\r\n",
    "\r\n",
    "df_mturk = sklearn.utils.shuffle(df_heuristics)\r\n",
    "df_mturk.to_csv(Path(os.getcwd() + \"/\" + \"mturk_tos_data_include_length.csv\"), index=False)\r\n",
    "df_mturk = df_mturk.drop(columns=['Length'])\r\n",
    "df_mturk.to_csv(Path(os.getcwd() + \"/\" + \"mturk_tos_data.csv\"), index=False)"
   ],
   "outputs": [],
   "metadata": {}
  }
 ],
 "metadata": {
  "interpreter": {
   "hash": "40b9cf565d070ee13d37836166faa1e65075ac740510169fa1bf4f89f6b88bdd"
  },
  "kernelspec": {
   "display_name": "Python 3.8.10 64-bit ('bert': conda)",
   "name": "python3"
  },
  "language_info": {
   "codemirror_mode": {
    "name": "ipython",
    "version": 3
   },
   "file_extension": ".py",
   "mimetype": "text/x-python",
   "name": "python",
   "nbconvert_exporter": "python",
   "pygments_lexer": "ipython3",
   "version": "3.8.10"
  },
  "orig_nbformat": 4
 },
 "nbformat": 4,
 "nbformat_minor": 2
}