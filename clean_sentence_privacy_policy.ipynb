{
 "cells": [
  {
   "cell_type": "code",
   "execution_count": 1,
   "source": [
    "import pandas as pd\r\n",
    "import numpy as np\r\n",
    "import os\r\n",
    "import re\r\n",
    "import sklearn\r\n",
    "from pathlib import Path\r\n",
    "from langdetect import detect_langs\r\n",
    "\r\n",
    "import seaborn as sns\r\n",
    "from matplotlib import pyplot as plt\r\n",
    "\r\n",
    "df = pd.read_csv(\"../tos_data/privacy_policy_data.csv\", error_bad_lines=False)\r\n",
    "df.info()"
   ],
   "outputs": [
    {
     "output_type": "stream",
     "name": "stdout",
     "text": [
      "<class 'pandas.core.frame.DataFrame'>\n",
      "RangeIndex: 183 entries, 0 to 182\n",
      "Data columns (total 3 columns):\n",
      " #   Column    Non-Null Count  Dtype \n",
      "---  ------    --------------  ----- \n",
      " 0   Length    183 non-null    int64 \n",
      " 1   Link      183 non-null    object\n",
      " 2   Original  182 non-null    object\n",
      "dtypes: int64(1), object(2)\n",
      "memory usage: 4.4+ KB\n"
     ]
    }
   ],
   "metadata": {}
  },
  {
   "cell_type": "code",
   "execution_count": 2,
   "source": [
    "def remove_multiple_space(sentence):\r\n",
    "    clear_sentence = ' '.join(sentence.split())\r\n",
    "    #clear_sentence = clear_sentence.lower()\r\n",
    "    return clear_sentence\r\n",
    "\r\n",
    "df_raw = df[df['Length'] > 300] # Deleting a HTML's text that was not properly collected.\r\n",
    "df_raw['Original'] = df_raw['Original'].astype(str)\r\n",
    "df_raw = df_raw.drop_duplicates(['Original'])\r\n",
    "df_raw['Original'] = df_raw['Original'].apply(remove_multiple_space)\r\n",
    "df_raw.describe(include=object)"
   ],
   "outputs": [
    {
     "output_type": "stream",
     "name": "stderr",
     "text": [
      "<ipython-input-2-1bb8b5900bb7>:7: SettingWithCopyWarning: \n",
      "A value is trying to be set on a copy of a slice from a DataFrame.\n",
      "Try using .loc[row_indexer,col_indexer] = value instead\n",
      "\n",
      "See the caveats in the documentation: https://pandas.pydata.org/pandas-docs/stable/user_guide/indexing.html#returning-a-view-versus-a-copy\n",
      "  df_raw['Original'] = df_raw['Original'].astype(str)\n"
     ]
    },
    {
     "output_type": "execute_result",
     "data": {
      "text/plain": [
       "                                  Link  \\\n",
       "count                              181   \n",
       "unique                             181   \n",
       "top     https://www.hbomax.com/privacy   \n",
       "freq                                 1   \n",
       "\n",
       "                                                 Original  \n",
       "count                                                 181  \n",
       "unique                                                181  \n",
       "top     Privacy Policy HOME FORECAST Local Graphical A...  \n",
       "freq                                                    1  "
      ],
      "text/html": [
       "<div>\n",
       "<style scoped>\n",
       "    .dataframe tbody tr th:only-of-type {\n",
       "        vertical-align: middle;\n",
       "    }\n",
       "\n",
       "    .dataframe tbody tr th {\n",
       "        vertical-align: top;\n",
       "    }\n",
       "\n",
       "    .dataframe thead th {\n",
       "        text-align: right;\n",
       "    }\n",
       "</style>\n",
       "<table border=\"1\" class=\"dataframe\">\n",
       "  <thead>\n",
       "    <tr style=\"text-align: right;\">\n",
       "      <th></th>\n",
       "      <th>Link</th>\n",
       "      <th>Original</th>\n",
       "    </tr>\n",
       "  </thead>\n",
       "  <tbody>\n",
       "    <tr>\n",
       "      <th>count</th>\n",
       "      <td>181</td>\n",
       "      <td>181</td>\n",
       "    </tr>\n",
       "    <tr>\n",
       "      <th>unique</th>\n",
       "      <td>181</td>\n",
       "      <td>181</td>\n",
       "    </tr>\n",
       "    <tr>\n",
       "      <th>top</th>\n",
       "      <td>https://www.hbomax.com/privacy</td>\n",
       "      <td>Privacy Policy HOME FORECAST Local Graphical A...</td>\n",
       "    </tr>\n",
       "    <tr>\n",
       "      <th>freq</th>\n",
       "      <td>1</td>\n",
       "      <td>1</td>\n",
       "    </tr>\n",
       "  </tbody>\n",
       "</table>\n",
       "</div>"
      ]
     },
     "metadata": {},
     "execution_count": 2
    }
   ],
   "metadata": {}
  },
  {
   "cell_type": "code",
   "execution_count": 3,
   "source": [
    "df_raw = df_raw.drop(columns=['Length'])\r\n",
    "\r\n",
    "def split_sentence(s):\r\n",
    "    t_list = re.split(r'[.;]\\s*(?=[A-Z])', s)\r\n",
    "\r\n",
    "    return t_list\r\n",
    "\r\n",
    "def filter_roman_number(s):\r\n",
    "    result = []\r\n",
    "    for t in s:\r\n",
    "        t_result = re.split(r'\\(.\\) | \\(..\\) | \\(...\\) | \\(....\\)', t)\r\n",
    "        result = result + t_result\r\n",
    "        \r\n",
    "    result = list(filter(None, result))  \r\n",
    "    return result\r\n",
    "\r\n",
    "def make_new_row(plist, df_raw_parsed):\r\n",
    "    for s in plist:\r\n",
    "        new_row = {\r\n",
    "            'Link': row['Link'],\r\n",
    "            'Original': s,\r\n",
    "        }\r\n",
    "        df_raw_parsed = df_raw_parsed.append(new_row, ignore_index=True)\r\n",
    "    return df_raw_parsed\r\n",
    "\r\n",
    "df_raw_parsed = pd.DataFrame(columns=['Link', 'Original'])\r\n",
    "for i, row in df_raw.iterrows():\r\n",
    "    t_list = split_sentence(row['Original'])\r\n",
    "    f_list = filter_roman_number(t_list)\r\n",
    "\r\n",
    "    if not f_list:\r\n",
    "        df_raw_parsed = make_new_row(t_list, df_raw_parsed)\r\n",
    "    else:\r\n",
    "        df_raw_parsed = make_new_row(f_list, df_raw_parsed)\r\n",
    "\r\n"
   ],
   "outputs": [],
   "metadata": {}
  },
  {
   "cell_type": "code",
   "execution_count": 4,
   "source": [
    "df_raw_parsed.info()"
   ],
   "outputs": [
    {
     "output_type": "stream",
     "name": "stdout",
     "text": [
      "<class 'pandas.core.frame.DataFrame'>\n",
      "RangeIndex: 37187 entries, 0 to 37186\n",
      "Data columns (total 2 columns):\n",
      " #   Column    Non-Null Count  Dtype \n",
      "---  ------    --------------  ----- \n",
      " 0   Link      37187 non-null  object\n",
      " 1   Original  37187 non-null  object\n",
      "dtypes: object(2)\n",
      "memory usage: 581.2+ KB\n"
     ]
    }
   ],
   "metadata": {}
  },
  {
   "cell_type": "code",
   "execution_count": 5,
   "source": [
    "df_raw_parsed['Length'] = df_raw_parsed['Original'].apply(lambda x: len(x)) # Create new 'Length' column.\r\n",
    "df_raw_parsed = df_raw_parsed[['Length', 'Link', 'Original']]\r\n",
    "df_raw_parsed = df_raw_parsed[df_raw_parsed['Length'] > 50]"
   ],
   "outputs": [],
   "metadata": {}
  },
  {
   "cell_type": "code",
   "execution_count": 6,
   "source": [
    "df_raw_parsed.describe(include=object)"
   ],
   "outputs": [
    {
     "output_type": "execute_result",
     "data": {
      "text/plain": [
       "                                                     Link  \\\n",
       "count                                               32229   \n",
       "unique                                                181   \n",
       "top     https://privacy.microsoft.com/en-us/privacysta...   \n",
       "freq                                                 2932   \n",
       "\n",
       "                                                 Original  \n",
       "count                                               32229  \n",
       "unique                                              28679  \n",
       "top     If you do not allow these cookies, you will ex...  \n",
       "freq                                                   15  "
      ],
      "text/html": [
       "<div>\n",
       "<style scoped>\n",
       "    .dataframe tbody tr th:only-of-type {\n",
       "        vertical-align: middle;\n",
       "    }\n",
       "\n",
       "    .dataframe tbody tr th {\n",
       "        vertical-align: top;\n",
       "    }\n",
       "\n",
       "    .dataframe thead th {\n",
       "        text-align: right;\n",
       "    }\n",
       "</style>\n",
       "<table border=\"1\" class=\"dataframe\">\n",
       "  <thead>\n",
       "    <tr style=\"text-align: right;\">\n",
       "      <th></th>\n",
       "      <th>Link</th>\n",
       "      <th>Original</th>\n",
       "    </tr>\n",
       "  </thead>\n",
       "  <tbody>\n",
       "    <tr>\n",
       "      <th>count</th>\n",
       "      <td>32229</td>\n",
       "      <td>32229</td>\n",
       "    </tr>\n",
       "    <tr>\n",
       "      <th>unique</th>\n",
       "      <td>181</td>\n",
       "      <td>28679</td>\n",
       "    </tr>\n",
       "    <tr>\n",
       "      <th>top</th>\n",
       "      <td>https://privacy.microsoft.com/en-us/privacysta...</td>\n",
       "      <td>If you do not allow these cookies, you will ex...</td>\n",
       "    </tr>\n",
       "    <tr>\n",
       "      <th>freq</th>\n",
       "      <td>2932</td>\n",
       "      <td>15</td>\n",
       "    </tr>\n",
       "  </tbody>\n",
       "</table>\n",
       "</div>"
      ]
     },
     "metadata": {},
     "execution_count": 6
    }
   ],
   "metadata": {}
  },
  {
   "cell_type": "code",
   "execution_count": 7,
   "source": [
    "df_raw_parsed['Original'] = df_raw_parsed['Original'].astype(str)\r\n",
    "df_raw_parsed = df_raw_parsed.drop_duplicates(['Original']) # Remove duplicate data. Remain unique data in column.\r\n",
    "df_raw_parsed.describe(include=object)"
   ],
   "outputs": [
    {
     "output_type": "execute_result",
     "data": {
      "text/plain": [
       "                                                     Link  \\\n",
       "count                                               28679   \n",
       "unique                                                181   \n",
       "top     https://privacy.microsoft.com/en-us/privacysta...   \n",
       "freq                                                 1476   \n",
       "\n",
       "                                                 Original  \n",
       "count                                               28679  \n",
       "unique                                              28679  \n",
       "top     Technical InformationBy generally visiting or ...  \n",
       "freq                                                    1  "
      ],
      "text/html": [
       "<div>\n",
       "<style scoped>\n",
       "    .dataframe tbody tr th:only-of-type {\n",
       "        vertical-align: middle;\n",
       "    }\n",
       "\n",
       "    .dataframe tbody tr th {\n",
       "        vertical-align: top;\n",
       "    }\n",
       "\n",
       "    .dataframe thead th {\n",
       "        text-align: right;\n",
       "    }\n",
       "</style>\n",
       "<table border=\"1\" class=\"dataframe\">\n",
       "  <thead>\n",
       "    <tr style=\"text-align: right;\">\n",
       "      <th></th>\n",
       "      <th>Link</th>\n",
       "      <th>Original</th>\n",
       "    </tr>\n",
       "  </thead>\n",
       "  <tbody>\n",
       "    <tr>\n",
       "      <th>count</th>\n",
       "      <td>28679</td>\n",
       "      <td>28679</td>\n",
       "    </tr>\n",
       "    <tr>\n",
       "      <th>unique</th>\n",
       "      <td>181</td>\n",
       "      <td>28679</td>\n",
       "    </tr>\n",
       "    <tr>\n",
       "      <th>top</th>\n",
       "      <td>https://privacy.microsoft.com/en-us/privacysta...</td>\n",
       "      <td>Technical InformationBy generally visiting or ...</td>\n",
       "    </tr>\n",
       "    <tr>\n",
       "      <th>freq</th>\n",
       "      <td>1476</td>\n",
       "      <td>1</td>\n",
       "    </tr>\n",
       "  </tbody>\n",
       "</table>\n",
       "</div>"
      ]
     },
     "metadata": {},
     "execution_count": 7
    }
   ],
   "metadata": {}
  },
  {
   "cell_type": "code",
   "execution_count": 8,
   "source": [
    "def detect_english_sentence(sentence):\r\n",
    "    res = detect_langs(sentence)\r\n",
    "    for item in res:\r\n",
    "        if item.lang == \"en\" and item.prob > 0.99:\r\n",
    "            return True\r\n",
    "        else:\r\n",
    "            return False\r\n",
    "\r\n",
    "def make_space(sentence):\r\n",
    "    result =[]\r\n",
    "    # Insert a space such as \"HelloWorld\" -> \"Hello World\"\r\n",
    "    result = re.sub(r\"([a-z])([A-Z])([a-z])\", r\"\\1 \\2\\3\", sentence)\r\n",
    "    return result\r\n",
    "\r\n",
    "for i, row in df_raw_parsed.iterrows():\r\n",
    "    if detect_english_sentence(row['Original']) == True:\r\n",
    "        result = make_space(row['Original'])\r\n",
    "    else:\r\n",
    "        result = \"\"\r\n",
    "    df_raw_parsed.loc[i, 'Original'] = result"
   ],
   "outputs": [],
   "metadata": {}
  },
  {
   "cell_type": "code",
   "execution_count": 9,
   "source": [
    "df_raw_parsed = df_raw_parsed.reset_index(drop=True)\r\n",
    "df_raw_parsed = df_raw_parsed[df_raw_parsed['Original'] != '']"
   ],
   "outputs": [],
   "metadata": {}
  },
  {
   "cell_type": "code",
   "execution_count": 10,
   "source": [
    "# df_raw_parsed.to_csv(Path(os.getcwd() + \"/\" + \"test_pp_data.csv\"), index=False) "
   ],
   "outputs": [],
   "metadata": {}
  },
  {
   "cell_type": "code",
   "execution_count": 11,
   "source": [
    "# Compare data that calculated length of whole sentence each pandas.\r\n",
    "# Through this, you can see how much data is lost after parsing.\r\n",
    "\r\n",
    "# df_raw = df_raw[df_raw['Original'] != '']\r\n",
    "# df_raw['Original'] = df_raw['Original'].astype(str)\r\n",
    "# df_raw = df_raw.drop_duplicates(['Original'])\r\n",
    "\r\n",
    "# sum_df_raw = 0\r\n",
    "# sum_df_raw_parsed = 0\r\n",
    "\r\n",
    "# for i, row in df_raw.iterrows():\r\n",
    "#     sum_df_raw = sum_df_raw + len(row['Original'])\r\n",
    "\r\n",
    "# for i, row in df_raw_parsed.iterrows():\r\n",
    "#     sum_df_raw_parsed = sum_df_raw_parsed + len(row['Original'])\r\n",
    "\r\n",
    "# print('Before text parsing {0}, After text parsing {1}'.format(sum_df_raw, sum_df_raw_parsed))"
   ],
   "outputs": [],
   "metadata": {}
  },
  {
   "cell_type": "code",
   "execution_count": 12,
   "source": [
    "plt.title(\"The number of words\")\r\n",
    "plt.xlabel(\"Index\")\r\n",
    "plt.ylabel(\"Length\")\r\n",
    "plt.plot(df_raw_parsed.index, df_raw_parsed['Length'].values, label='Length')\r\n",
    "plt.legend(loc='upper left')\r\n",
    "plt.show()\r\n",
    "df_raw_parsed.plot(kind='box', figsize=(6,4))\r\n",
    "sns.displot(df_raw_parsed['Length'], kde=True)\r\n",
    "# Reference: https://datascienceschool.net/01%20python/05.04%20%EC%8B%9C%EB%B3%B8%EC%9D%84%20%EC%82%AC%EC%9A%A9%ED%95%9C%20%EB%8D%B0%EC%9D%B4%ED%84%B0%20%EB%B6%84%ED%8F%AC%20%EC%8B%9C%EA%B0%81%ED%99%94.html"
   ],
   "outputs": [
    {
     "output_type": "display_data",
     "data": {
      "text/plain": [
       "<Figure size 432x288 with 1 Axes>"
      ],
      "image/png": "[encoded data removed]"
     },
     "metadata": {
      "needs_background": "light"
     }
    },
    {
     "output_type": "execute_result",
     "data": {
      "text/plain": [
       "<seaborn.axisgrid.FacetGrid at 0x1db0080ceb0>"
      ]
     },
     "metadata": {},
     "execution_count": 12
    },
    {
     "output_type": "display_data",
     "data": {
      "text/plain": [
       "<Figure size 432x288 with 1 Axes>"
      ],
      "image/png": "[encoded data removed]"
     },
     "metadata": {
      "needs_background": "light"
     }
    },
    {
     "output_type": "display_data",
     "data": {
      "text/plain": [
       "<Figure size 360x360 with 1 Axes>"
      ],
      "image/png": "[encoded data removed]"
     },
     "metadata": {
      "needs_background": "light"
     }
    }
   ],
   "metadata": {}
  },
  {
   "cell_type": "code",
   "execution_count": 13,
   "source": [
    "df_raw_parsed.describe(exclude=object)"
   ],
   "outputs": [
    {
     "output_type": "execute_result",
     "data": {
      "text/plain": [
       "             Length\n",
       "count  28258.000000\n",
       "mean     191.974450\n",
       "std      222.485662\n",
       "min       51.000000\n",
       "25%      103.000000\n",
       "50%      149.000000\n",
       "75%      217.000000\n",
       "max    12701.000000"
      ],
      "text/html": [
       "<div>\n",
       "<style scoped>\n",
       "    .dataframe tbody tr th:only-of-type {\n",
       "        vertical-align: middle;\n",
       "    }\n",
       "\n",
       "    .dataframe tbody tr th {\n",
       "        vertical-align: top;\n",
       "    }\n",
       "\n",
       "    .dataframe thead th {\n",
       "        text-align: right;\n",
       "    }\n",
       "</style>\n",
       "<table border=\"1\" class=\"dataframe\">\n",
       "  <thead>\n",
       "    <tr style=\"text-align: right;\">\n",
       "      <th></th>\n",
       "      <th>Length</th>\n",
       "    </tr>\n",
       "  </thead>\n",
       "  <tbody>\n",
       "    <tr>\n",
       "      <th>count</th>\n",
       "      <td>28258.000000</td>\n",
       "    </tr>\n",
       "    <tr>\n",
       "      <th>mean</th>\n",
       "      <td>191.974450</td>\n",
       "    </tr>\n",
       "    <tr>\n",
       "      <th>std</th>\n",
       "      <td>222.485662</td>\n",
       "    </tr>\n",
       "    <tr>\n",
       "      <th>min</th>\n",
       "      <td>51.000000</td>\n",
       "    </tr>\n",
       "    <tr>\n",
       "      <th>25%</th>\n",
       "      <td>103.000000</td>\n",
       "    </tr>\n",
       "    <tr>\n",
       "      <th>50%</th>\n",
       "      <td>149.000000</td>\n",
       "    </tr>\n",
       "    <tr>\n",
       "      <th>75%</th>\n",
       "      <td>217.000000</td>\n",
       "    </tr>\n",
       "    <tr>\n",
       "      <th>max</th>\n",
       "      <td>12701.000000</td>\n",
       "    </tr>\n",
       "  </tbody>\n",
       "</table>\n",
       "</div>"
      ]
     },
     "metadata": {},
     "execution_count": 13
    }
   ],
   "metadata": {}
  },
  {
   "cell_type": "code",
   "execution_count": 14,
   "source": [
    "df_heuristics = pd.read_csv(\"test_pp_data.csv\", error_bad_lines=False)\r\n",
    "df_heuristics.info()"
   ],
   "outputs": [
    {
     "output_type": "stream",
     "name": "stdout",
     "text": [
      "<class 'pandas.core.frame.DataFrame'>\n",
      "RangeIndex: 28204 entries, 0 to 28203\n",
      "Data columns (total 3 columns):\n",
      " #   Column    Non-Null Count  Dtype \n",
      "---  ------    --------------  ----- \n",
      " 0   Length    28204 non-null  int64 \n",
      " 1   Link      28204 non-null  object\n",
      " 2   Original  28204 non-null  object\n",
      "dtypes: int64(1), object(2)\n",
      "memory usage: 661.2+ KB\n"
     ]
    }
   ],
   "metadata": {}
  },
  {
   "cell_type": "code",
   "execution_count": 15,
   "source": [
    "df_heuristics = df_heuristics.sort_values(by='Length') # data sorted by descending order.\r\n",
    "df_heuristics = df_heuristics.reset_index(drop=True)\r\n",
    "df_heuristics"
   ],
   "outputs": [
    {
     "output_type": "execute_result",
     "data": {
      "text/plain": [
       "       Length                                               Link  \\\n",
       "0          51     https://www.nytimes.com/privacy/privacy-policy   \n",
       "1          51            https://www.netskope.com/privacy-policy   \n",
       "2          51     https://www.crazylabs.com/apps-privacy-policy/   \n",
       "3          51                         https://stripe.com/privacy   \n",
       "4          51            https://www.cohesity.com/legal/privacy/   \n",
       "...       ...                                                ...   \n",
       "28199    5086            https://www.tribpub.com/privacy-policy/   \n",
       "28200    5332           https://www.condenast.com/privacy-policy   \n",
       "28201    5987                    https://pmc.com/privacy-policy/   \n",
       "28202   12045  https://docs.github.com/en/github/site-policy/...   \n",
       "28203   12701  https://www.nvidia.com/en-us/about-nvidia/priv...   \n",
       "\n",
       "                                                Original  \n",
       "0      This helps us make business and marketing deci...  \n",
       "1      This is used for analytical purposes on the we...  \n",
       "2      These Third Party ad networks may collect and ...  \n",
       "3      Creation and management of Stripe Checkout acc...  \n",
       "4      As such, we may amend this Policy from time to...  \n",
       "...                                                  ...  \n",
       "28199  How we share and disclose user information wit...  \n",
       "28200  Category of Personal Information Categories of...  \n",
       "28201  Information you provide to us: Categories of i...  \n",
       "28202  Git Hub Privacy Statement - Git Hub Docs Git H...  \n",
       "28203  Shopping Cart Click to see cart items Search i...  \n",
       "\n",
       "[28204 rows x 3 columns]"
      ],
      "text/html": [
       "<div>\n",
       "<style scoped>\n",
       "    .dataframe tbody tr th:only-of-type {\n",
       "        vertical-align: middle;\n",
       "    }\n",
       "\n",
       "    .dataframe tbody tr th {\n",
       "        vertical-align: top;\n",
       "    }\n",
       "\n",
       "    .dataframe thead th {\n",
       "        text-align: right;\n",
       "    }\n",
       "</style>\n",
       "<table border=\"1\" class=\"dataframe\">\n",
       "  <thead>\n",
       "    <tr style=\"text-align: right;\">\n",
       "      <th></th>\n",
       "      <th>Length</th>\n",
       "      <th>Link</th>\n",
       "      <th>Original</th>\n",
       "    </tr>\n",
       "  </thead>\n",
       "  <tbody>\n",
       "    <tr>\n",
       "      <th>0</th>\n",
       "      <td>51</td>\n",
       "      <td>https://www.nytimes.com/privacy/privacy-policy</td>\n",
       "      <td>This helps us make business and marketing deci...</td>\n",
       "    </tr>\n",
       "    <tr>\n",
       "      <th>1</th>\n",
       "      <td>51</td>\n",
       "      <td>https://www.netskope.com/privacy-policy</td>\n",
       "      <td>This is used for analytical purposes on the we...</td>\n",
       "    </tr>\n",
       "    <tr>\n",
       "      <th>2</th>\n",
       "      <td>51</td>\n",
       "      <td>https://www.crazylabs.com/apps-privacy-policy/</td>\n",
       "      <td>These Third Party ad networks may collect and ...</td>\n",
       "    </tr>\n",
       "    <tr>\n",
       "      <th>3</th>\n",
       "      <td>51</td>\n",
       "      <td>https://stripe.com/privacy</td>\n",
       "      <td>Creation and management of Stripe Checkout acc...</td>\n",
       "    </tr>\n",
       "    <tr>\n",
       "      <th>4</th>\n",
       "      <td>51</td>\n",
       "      <td>https://www.cohesity.com/legal/privacy/</td>\n",
       "      <td>As such, we may amend this Policy from time to...</td>\n",
       "    </tr>\n",
       "    <tr>\n",
       "      <th>...</th>\n",
       "      <td>...</td>\n",
       "      <td>...</td>\n",
       "      <td>...</td>\n",
       "    </tr>\n",
       "    <tr>\n",
       "      <th>28199</th>\n",
       "      <td>5086</td>\n",
       "      <td>https://www.tribpub.com/privacy-policy/</td>\n",
       "      <td>How we share and disclose user information wit...</td>\n",
       "    </tr>\n",
       "    <tr>\n",
       "      <th>28200</th>\n",
       "      <td>5332</td>\n",
       "      <td>https://www.condenast.com/privacy-policy</td>\n",
       "      <td>Category of Personal Information Categories of...</td>\n",
       "    </tr>\n",
       "    <tr>\n",
       "      <th>28201</th>\n",
       "      <td>5987</td>\n",
       "      <td>https://pmc.com/privacy-policy/</td>\n",
       "      <td>Information you provide to us: Categories of i...</td>\n",
       "    </tr>\n",
       "    <tr>\n",
       "      <th>28202</th>\n",
       "      <td>12045</td>\n",
       "      <td>https://docs.github.com/en/github/site-policy/...</td>\n",
       "      <td>Git Hub Privacy Statement - Git Hub Docs Git H...</td>\n",
       "    </tr>\n",
       "    <tr>\n",
       "      <th>28203</th>\n",
       "      <td>12701</td>\n",
       "      <td>https://www.nvidia.com/en-us/about-nvidia/priv...</td>\n",
       "      <td>Shopping Cart Click to see cart items Search i...</td>\n",
       "    </tr>\n",
       "  </tbody>\n",
       "</table>\n",
       "<p>28204 rows × 3 columns</p>\n",
       "</div>"
      ]
     },
     "metadata": {},
     "execution_count": 15
    }
   ],
   "metadata": {}
  },
  {
   "cell_type": "code",
   "execution_count": 16,
   "source": [
    "np.percentile(df_heuristics['Length'], [5, 95], interpolation='nearest') # For readability, extract sentences based on 5%ile, 95%ile."
   ],
   "outputs": [
    {
     "output_type": "execute_result",
     "data": {
      "text/plain": [
       "array([ 65, 417], dtype=int64)"
      ]
     },
     "metadata": {},
     "execution_count": 16
    }
   ],
   "metadata": {}
  },
  {
   "cell_type": "code",
   "execution_count": 17,
   "source": [
    "df_heuristics = df_heuristics[(df_heuristics['Length'] >= 65) & (df_heuristics['Length'] <= 417)]\r\n",
    "df_heuristics"
   ],
   "outputs": [
    {
     "output_type": "execute_result",
     "data": {
      "text/plain": [
       "       Length                                              Link  \\\n",
       "1399       65   https://www.appsflyer.com/legal/privacy-policy/   \n",
       "1400       65      https://www.helpguide.org/privacy-policy.htm   \n",
       "1401       65              https://mailchimp.com/legal/privacy/   \n",
       "1402       65          https://www.bitmango.com/privacy-policy/   \n",
       "1403       65              https://mailchimp.com/legal/privacy/   \n",
       "...       ...                                               ...   \n",
       "26798     417    https://docs.bugsnag.com/legal/privacy-policy/   \n",
       "26799     417           https://www.cohesity.com/legal/privacy/   \n",
       "26800     417               https://georgia.gov/privacysecurity   \n",
       "26801     417  https://www.spotify.com/us/legal/privacy-policy/   \n",
       "26802     417        https://pubmatic.com/legal/privacy-policy/   \n",
       "\n",
       "                                                Original  \n",
       "1399   The right to access certain information about ...  \n",
       "1400   At this time, we do not respond to browser “Do...  \n",
       "1401   You can learn more about Courier and its priva...  \n",
       "1402   Our customer service channel is found at http:...  \n",
       "1403   If we are unable to remove your information, w...  \n",
       "...                                                  ...  \n",
       "26798  Scope# This Privacy Policy applies to Personal...  \n",
       "26799  To process or personalize our interaction with...  \n",
       "26800  Facebook page for Georgia.gov Twitter page for...  \n",
       "26801  The table below describes personal data that y...  \n",
       "26802  Please review our Data Subject Rights Notice f...  \n",
       "\n",
       "[25404 rows x 3 columns]"
      ],
      "text/html": [
       "<div>\n",
       "<style scoped>\n",
       "    .dataframe tbody tr th:only-of-type {\n",
       "        vertical-align: middle;\n",
       "    }\n",
       "\n",
       "    .dataframe tbody tr th {\n",
       "        vertical-align: top;\n",
       "    }\n",
       "\n",
       "    .dataframe thead th {\n",
       "        text-align: right;\n",
       "    }\n",
       "</style>\n",
       "<table border=\"1\" class=\"dataframe\">\n",
       "  <thead>\n",
       "    <tr style=\"text-align: right;\">\n",
       "      <th></th>\n",
       "      <th>Length</th>\n",
       "      <th>Link</th>\n",
       "      <th>Original</th>\n",
       "    </tr>\n",
       "  </thead>\n",
       "  <tbody>\n",
       "    <tr>\n",
       "      <th>1399</th>\n",
       "      <td>65</td>\n",
       "      <td>https://www.appsflyer.com/legal/privacy-policy/</td>\n",
       "      <td>The right to access certain information about ...</td>\n",
       "    </tr>\n",
       "    <tr>\n",
       "      <th>1400</th>\n",
       "      <td>65</td>\n",
       "      <td>https://www.helpguide.org/privacy-policy.htm</td>\n",
       "      <td>At this time, we do not respond to browser “Do...</td>\n",
       "    </tr>\n",
       "    <tr>\n",
       "      <th>1401</th>\n",
       "      <td>65</td>\n",
       "      <td>https://mailchimp.com/legal/privacy/</td>\n",
       "      <td>You can learn more about Courier and its priva...</td>\n",
       "    </tr>\n",
       "    <tr>\n",
       "      <th>1402</th>\n",
       "      <td>65</td>\n",
       "      <td>https://www.bitmango.com/privacy-policy/</td>\n",
       "      <td>Our customer service channel is found at http:...</td>\n",
       "    </tr>\n",
       "    <tr>\n",
       "      <th>1403</th>\n",
       "      <td>65</td>\n",
       "      <td>https://mailchimp.com/legal/privacy/</td>\n",
       "      <td>If we are unable to remove your information, w...</td>\n",
       "    </tr>\n",
       "    <tr>\n",
       "      <th>...</th>\n",
       "      <td>...</td>\n",
       "      <td>...</td>\n",
       "      <td>...</td>\n",
       "    </tr>\n",
       "    <tr>\n",
       "      <th>26798</th>\n",
       "      <td>417</td>\n",
       "      <td>https://docs.bugsnag.com/legal/privacy-policy/</td>\n",
       "      <td>Scope# This Privacy Policy applies to Personal...</td>\n",
       "    </tr>\n",
       "    <tr>\n",
       "      <th>26799</th>\n",
       "      <td>417</td>\n",
       "      <td>https://www.cohesity.com/legal/privacy/</td>\n",
       "      <td>To process or personalize our interaction with...</td>\n",
       "    </tr>\n",
       "    <tr>\n",
       "      <th>26800</th>\n",
       "      <td>417</td>\n",
       "      <td>https://georgia.gov/privacysecurity</td>\n",
       "      <td>Facebook page for Georgia.gov Twitter page for...</td>\n",
       "    </tr>\n",
       "    <tr>\n",
       "      <th>26801</th>\n",
       "      <td>417</td>\n",
       "      <td>https://www.spotify.com/us/legal/privacy-policy/</td>\n",
       "      <td>The table below describes personal data that y...</td>\n",
       "    </tr>\n",
       "    <tr>\n",
       "      <th>26802</th>\n",
       "      <td>417</td>\n",
       "      <td>https://pubmatic.com/legal/privacy-policy/</td>\n",
       "      <td>Please review our Data Subject Rights Notice f...</td>\n",
       "    </tr>\n",
       "  </tbody>\n",
       "</table>\n",
       "<p>25404 rows × 3 columns</p>\n",
       "</div>"
      ]
     },
     "metadata": {},
     "execution_count": 17
    }
   ],
   "metadata": {}
  },
  {
   "cell_type": "code",
   "execution_count": 18,
   "source": [
    "df_heuristics = df_heuristics.reset_index(drop=True)\r\n",
    "\r\n",
    "plt.title(\"The number of words\")\r\n",
    "plt.xlabel(\"Index\")\r\n",
    "plt.ylabel(\"Length\")\r\n",
    "plt.plot(df_heuristics.index, df_heuristics['Length'].values, label='Length')\r\n",
    "plt.legend(loc='upper left')\r\n",
    "plt.show()\r\n",
    "df_heuristics.plot(kind='box', figsize=(6,4))\r\n",
    "sns.displot(df_heuristics['Length'], kde=True)"
   ],
   "outputs": [
    {
     "output_type": "display_data",
     "data": {
      "text/plain": [
       "<Figure size 432x288 with 1 Axes>"
      ],
      "image/png": "[encoded data removed]"
     },
     "metadata": {
      "needs_background": "light"
     }
    },
    {
     "output_type": "execute_result",
     "data": {
      "text/plain": [
       "<seaborn.axisgrid.FacetGrid at 0x1db047cbe20>"
      ]
     },
     "metadata": {},
     "execution_count": 18
    },
    {
     "output_type": "display_data",
     "data": {
      "text/plain": [
       "<Figure size 432x288 with 1 Axes>"
      ],
      "image/png": "[encoded data removed]"
     },
     "metadata": {
      "needs_background": "light"
     }
    },
    {
     "output_type": "display_data",
     "data": {
      "text/plain": [
       "<Figure size 360x360 with 1 Axes>"
      ],
      "image/png": "[encoded data removed]"
     },
     "metadata": {
      "needs_background": "light"
     }
    }
   ],
   "metadata": {}
  },
  {
   "cell_type": "code",
   "execution_count": 19,
   "source": [
    "df_mturk = sklearn.utils.shuffle(df_heuristics)\r\n",
    "df_mturk = df_mturk.drop(columns=['Length'])"
   ],
   "outputs": [],
   "metadata": {}
  },
  {
   "cell_type": "code",
   "execution_count": 20,
   "source": [
    "df_mturk_tos = pd.read_csv(\"mturk_tos_data_include_length.csv\", error_bad_lines=False)\r\n",
    "df_mturk_tos = df_mturk_tos.drop(columns=['Length'])\r\n",
    "df_mturk_tos.info() # ToS and T&C data"
   ],
   "outputs": [
    {
     "output_type": "stream",
     "name": "stdout",
     "text": [
      "<class 'pandas.core.frame.DataFrame'>\n",
      "RangeIndex: 46221 entries, 0 to 46220\n",
      "Data columns (total 2 columns):\n",
      " #   Column    Non-Null Count  Dtype \n",
      "---  ------    --------------  ----- \n",
      " 0   Link      46221 non-null  object\n",
      " 1   Original  46221 non-null  object\n",
      "dtypes: object(2)\n",
      "memory usage: 722.3+ KB\n"
     ]
    }
   ],
   "metadata": {}
  },
  {
   "cell_type": "code",
   "execution_count": 21,
   "source": [
    "df_mturk_tos = df_mturk_tos[600:] # 600 sentences completed before, have to remove the first 600 sentences.\r\n",
    "df_mturk_tos.info()"
   ],
   "outputs": [
    {
     "output_type": "stream",
     "name": "stdout",
     "text": [
      "<class 'pandas.core.frame.DataFrame'>\n",
      "RangeIndex: 45621 entries, 600 to 46220\n",
      "Data columns (total 2 columns):\n",
      " #   Column    Non-Null Count  Dtype \n",
      "---  ------    --------------  ----- \n",
      " 0   Link      45621 non-null  object\n",
      " 1   Original  45621 non-null  object\n",
      "dtypes: object(2)\n",
      "memory usage: 713.0+ KB\n"
     ]
    }
   ],
   "metadata": {}
  },
  {
   "cell_type": "code",
   "execution_count": 22,
   "source": [
    "df_mturk.info() # privacy policy data"
   ],
   "outputs": [
    {
     "output_type": "stream",
     "name": "stdout",
     "text": [
      "<class 'pandas.core.frame.DataFrame'>\n",
      "Int64Index: 25404 entries, 19690 to 3768\n",
      "Data columns (total 2 columns):\n",
      " #   Column    Non-Null Count  Dtype \n",
      "---  ------    --------------  ----- \n",
      " 0   Link      25404 non-null  object\n",
      " 1   Original  25404 non-null  object\n",
      "dtypes: object(2)\n",
      "memory usage: 595.4+ KB\n"
     ]
    }
   ],
   "metadata": {}
  },
  {
   "cell_type": "code",
   "execution_count": 23,
   "source": [
    "df_mturk_concat = pd.concat([df_mturk_tos, df_mturk])\r\n",
    "df_mturk_concat.info()"
   ],
   "outputs": [
    {
     "output_type": "stream",
     "name": "stdout",
     "text": [
      "<class 'pandas.core.frame.DataFrame'>\n",
      "Int64Index: 71025 entries, 600 to 3768\n",
      "Data columns (total 2 columns):\n",
      " #   Column    Non-Null Count  Dtype \n",
      "---  ------    --------------  ----- \n",
      " 0   Link      71025 non-null  object\n",
      " 1   Original  71025 non-null  object\n",
      "dtypes: object(2)\n",
      "memory usage: 1.6+ MB\n"
     ]
    }
   ],
   "metadata": {}
  },
  {
   "cell_type": "code",
   "execution_count": 24,
   "source": [
    "df_mturk_final = sklearn.utils.shuffle(df_mturk_concat)"
   ],
   "outputs": [],
   "metadata": {}
  },
  {
   "cell_type": "code",
   "execution_count": 25,
   "source": [
    "df_mturk_final_10000 = df_mturk_final.sample(n=10000)\r\n",
    "df_mturk_final_10000.to_csv(Path(os.getcwd() + \"/\" + \"mturk_tos10000_data.csv\"), index=False)"
   ],
   "outputs": [],
   "metadata": {}
  }
 ],
 "metadata": {
  "interpreter": {
   "hash": "40b9cf565d070ee13d37836166faa1e65075ac740510169fa1bf4f89f6b88bdd"
  },
  "kernelspec": {
   "name": "python3",
   "display_name": "Python 3.8.10 64-bit ('bert': conda)"
  },
  "language_info": {
   "codemirror_mode": {
    "name": "ipython",
    "version": 3
   },
   "file_extension": ".py",
   "mimetype": "text/x-python",
   "name": "python",
   "nbconvert_exporter": "python",
   "pygments_lexer": "ipython3",
   "version": "3.8.10"
  },
  "orig_nbformat": 4
 },
 "nbformat": 4,
 "nbformat_minor": 2
}