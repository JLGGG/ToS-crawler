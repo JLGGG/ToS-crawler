{
 "cells": [
  {
   "cell_type": "code",
   "execution_count": 1,
   "source": [
    "import matplotlib.pyplot as plt\r\n",
    "import numpy as np\r\n",
    "import pandas as pd\r\n",
    "\r\n",
    "df = pd.read_csv('input_data.csv')\r\n",
    "df.info()"
   ],
   "outputs": [
    {
     "output_type": "stream",
     "name": "stdout",
     "text": [
      "<class 'pandas.core.frame.DataFrame'>\n",
      "RangeIndex: 10106 entries, 0 to 10105\n",
      "Data columns (total 2 columns):\n",
      " #   Column        Non-Null Count  Dtype \n",
      "---  ------        --------------  ----- \n",
      " 0   Original      10106 non-null  object\n",
      " 1   PrivacyRatio  10106 non-null  int64 \n",
      "dtypes: int64(1), object(1)\n",
      "memory usage: 158.0+ KB\n"
     ]
    }
   ],
   "metadata": {}
  },
  {
   "cell_type": "code",
   "execution_count": 2,
   "source": [
    "df_3 = df.copy()\r\n",
    "df_4 = df.copy()\r\n",
    "from collections import Counter\r\n",
    "for i, row in df_3.iterrows():\r\n",
    "    if row['PrivacyRatio'] >= 3:\r\n",
    "        df_3.loc[i, 'PrivacyRatio'] = 1\r\n",
    "    else:\r\n",
    "        df_3.loc[i, 'PrivacyRatio'] = 0\r\n",
    "# Counter(df['label'])\r\n",
    "Counter(df_3['PrivacyRatio'])"
   ],
   "outputs": [
    {
     "output_type": "execute_result",
     "data": {
      "text/plain": [
       "Counter({1: 5536, 0: 4570})"
      ]
     },
     "metadata": {},
     "execution_count": 2
    }
   ],
   "metadata": {}
  },
  {
   "cell_type": "code",
   "execution_count": 3,
   "source": [
    "from nltk.tokenize import sent_tokenize\r\n",
    "from nltk.tokenize import word_tokenize\r\n",
    "from nltk.corpus import stopwords\r\n",
    "from tensorflow.keras.preprocessing.text import Tokenizer\r\n",
    "tokenizer = Tokenizer()\r\n",
    "def token(text):\r\n",
    "    vocab = {} # 파이썬의 dictionary 자료형\r\n",
    "    sentences = []\r\n",
    "    stop_words = set(stopwords.words('english'))\r\n",
    "    # text = sent_tokenize(text)\r\n",
    "\r\n",
    "    for i in text:\r\n",
    "        sentence = word_tokenize(i) # 단어 토큰화를 수행합니다.\r\n",
    "        result = []\r\n",
    "\r\n",
    "        for word in sentence: \r\n",
    "            word = word.lower() # 모든 단어를 소문자화하여 단어의 개수를 줄입니다.\r\n",
    "            if word not in stop_words: # 단어 토큰화 된 결과에 대해서 불용어를 제거합니다.\r\n",
    "                if len(word) > 2: # 단어 길이가 2이하인 경우에 대하여 추가로 단어를 제거합니다.\r\n",
    "                    result.append(word)\r\n",
    "                    if word not in vocab:\r\n",
    "                        vocab[word] = 0 \r\n",
    "                    vocab[word] += 1\r\n",
    "        sentences.append(result) \r\n",
    "    tokenizer.fit_on_texts(sentences)\r\n",
    "    return tokenizer.texts_to_sequences(sentences)\r\n",
    "    # t = tokenizer.texts_to_sequences(sentences)\r\n",
    "    # return np.concatenate(t).tolist()"
   ],
   "outputs": [],
   "metadata": {}
  },
  {
   "cell_type": "code",
   "execution_count": 4,
   "source": [
    "data = df_3['Original'].tolist()\r\n",
    "target = df_3['PrivacyRatio'].tolist()\r\n",
    "data = np.array(token(data))\r\n",
    "target = np.array(target)\r\n",
    "# data"
   ],
   "outputs": [
    {
     "output_type": "stream",
     "name": "stderr",
     "text": [
      "<ipython-input-4-f86f325f911e>:3: VisibleDeprecationWarning: Creating an ndarray from ragged nested sequences (which is a list-or-tuple of lists-or-tuples-or ndarrays with different lengths or shapes) is deprecated. If you meant to do this, you must specify 'dtype=object' when creating the ndarray\n",
      "  data = np.array(token(data))\n"
     ]
    }
   ],
   "metadata": {}
  },
  {
   "cell_type": "code",
   "execution_count": 5,
   "source": [
    "from sklearn.model_selection import train_test_split\r\n",
    "X_train, X_test, y_train, y_test = train_test_split(data, target, random_state=42, test_size=0.5, stratify=df_3.PrivacyRatio.values)\r\n",
    "# X_train.shape, X_test.shape"
   ],
   "outputs": [],
   "metadata": {}
  },
  {
   "cell_type": "code",
   "execution_count": 6,
   "source": [
    "print('훈련용 리뷰 개수 : {}'.format(len(X_train)))\r\n",
    "print('테스트용 리뷰 개수 : {}'.format(len(X_test)))\r\n",
    "num_classes = max(y_train) + 1\r\n",
    "print('카테고리 : {}'.format(num_classes))"
   ],
   "outputs": [
    {
     "output_type": "stream",
     "name": "stdout",
     "text": [
      "훈련용 리뷰 개수 : 5053\n",
      "테스트용 리뷰 개수 : 5053\n",
      "카테고리 : 2\n"
     ]
    }
   ],
   "metadata": {}
  },
  {
   "cell_type": "code",
   "execution_count": 7,
   "source": [
    "X_train[2]"
   ],
   "outputs": [
    {
     "output_type": "execute_result",
     "data": {
      "text/plain": [
       "[986, 768, 8, 1, 614, 9, 330, 67, 7, 179, 1248, 351, 141, 986, 62, 76, 9, 330]"
      ]
     },
     "metadata": {},
     "execution_count": 7
    }
   ],
   "metadata": {}
  },
  {
   "cell_type": "code",
   "execution_count": 8,
   "source": [
    "len_result = [len(s) for s in X_train]\r\n",
    "\r\n",
    "print('리뷰의 최대 길이 : {}'.format(np.max(len_result)))\r\n",
    "print('리뷰의 평균 길이 : {}'.format(np.mean(len_result)))\r\n",
    "\r\n",
    "plt.subplot(1,2,1)\r\n",
    "plt.boxplot(len_result)\r\n",
    "plt.subplot(1,2,2)\r\n",
    "plt.hist(len_result, bins=50)\r\n",
    "plt.show()"
   ],
   "outputs": [
    {
     "output_type": "stream",
     "name": "stdout",
     "text": [
      "리뷰의 최대 길이 : 58\n",
      "리뷰의 평균 길이 : 14.148228774985157\n"
     ]
    },
    {
     "output_type": "display_data",
     "data": {
      "text/plain": [
       "<Figure size 432x288 with 2 Axes>"
      ],
      "image/svg+xml": "<?xml version=\"1.0\" encoding=\"utf-8\" standalone=\"no\"?>\r\n<!DOCTYPE svg PUBLIC \"-//W3C//DTD SVG 1.1//EN\"\r\n  \"http://www.w3.org/Graphics/SVG/1.1/DTD/svg11.dtd\">\r\n<svg height=\"249.75492pt\" version=\"1.1\" viewBox=\"0 0 373.494112 249.75492\" width=\"373.494112pt\" xmlns=\"http://www.w3.org/2000/svg\" xmlns:xlink=\"http://www.w3.org/1999/xlink\">\r\n <metadata>\r\n  <rdf:RDF xmlns:cc=\"http://creativecommons.org/ns#\" xmlns:dc=\"http://purl.org/dc/elements/1.1/\" xmlns:rdf=\"http://www.w3.org/1999/02/22-rdf-syntax-ns#\">\r\n   <cc:Work>\r\n    <dc:type rdf:resource=\"http://purl.org/dc/dcmitype/StillImage\"/>\r\n    <dc:date>2021-08-25T23:08:56.003545</dc:date>\r\n    <dc:format>image/svg+xml</dc:format>\r\n    <dc:creator>\r\n     <cc:Agent>\r\n      <dc:title>Matplotlib v3.4.2, https://matplotlib.org/</dc:title>\r\n     </cc:Agent>\r\n    </dc:creator>\r\n   </cc:Work>\r\n  </rdf:RDF>\r\n </metadata>\r\n <defs>\r\n  <style type=\"text/css\">*{stroke-linecap:butt;stroke-linejoin:round;}</style>\r\n </defs>\r\n <g id=\"figure_1\">\r\n  <g id=\"patch_1\">\r\n   <path d=\"M -0 249.75492 \r\nL 373.494112 249.75492 \r\nL 373.494112 0 \r\nL -0 0 \r\nz\r\n\" style=\"fill:none;\"/>\r\n  </g>\r\n  <g id=\"axes_1\">\r\n   <g id=\"patch_2\">\r\n    <path d=\"M 26.925 225.876795 \r\nL 179.106818 225.876795 \r\nL 179.106818 8.436795 \r\nL 26.925 8.436795 \r\nz\r\n\" style=\"fill:#ffffff;\"/>\r\n   </g>\r\n   <g id=\"matplotlib.axis_1\">\r\n    <g id=\"xtick_1\">\r\n     <g id=\"line2d_1\">\r\n      <defs>\r\n       <path d=\"M 0 0 \r\nL 0 3.5 \r\n\" id=\"md82fdec1ff\" style=\"stroke:#000000;stroke-width:0.8;\"/>\r\n      </defs>\r\n      <g>\r\n       <use style=\"stroke:#000000;stroke-width:0.8;\" x=\"103.015909\" xlink:href=\"#md82fdec1ff\" y=\"225.876795\"/>\r\n      </g>\r\n     </g>\r\n     <g id=\"text_1\">\r\n      <!-- 1 -->\r\n      <g transform=\"translate(99.834659 240.475232)scale(0.1 -0.1)\">\r\n       <defs>\r\n        <path d=\"M 794 531 \r\nL 1825 531 \r\nL 1825 4091 \r\nL 703 3866 \r\nL 703 4441 \r\nL 1819 4666 \r\nL 2450 4666 \r\nL 2450 531 \r\nL 3481 531 \r\nL 3481 0 \r\nL 794 0 \r\nL 794 531 \r\nz\r\n\" id=\"DejaVuSans-31\" transform=\"scale(0.015625)\"/>\r\n       </defs>\r\n       <use xlink:href=\"#DejaVuSans-31\"/>\r\n      </g>\r\n     </g>\r\n    </g>\r\n   </g>\r\n   <g id=\"matplotlib.axis_2\">\r\n    <g id=\"ytick_1\">\r\n     <g id=\"line2d_2\">\r\n      <defs>\r\n       <path d=\"M 0 0 \r\nL -3.5 0 \r\n\" id=\"m13ccfe9e1b\" style=\"stroke:#000000;stroke-width:0.8;\"/>\r\n      </defs>\r\n      <g>\r\n       <use style=\"stroke:#000000;stroke-width:0.8;\" x=\"26.925\" xlink:href=\"#m13ccfe9e1b\" y=\"194.029522\"/>\r\n      </g>\r\n     </g>\r\n     <g id=\"text_2\">\r\n      <!-- 10 -->\r\n      <g transform=\"translate(7.2 197.828741)scale(0.1 -0.1)\">\r\n       <defs>\r\n        <path d=\"M 2034 4250 \r\nQ 1547 4250 1301 3770 \r\nQ 1056 3291 1056 2328 \r\nQ 1056 1369 1301 889 \r\nQ 1547 409 2034 409 \r\nQ 2525 409 2770 889 \r\nQ 3016 1369 3016 2328 \r\nQ 3016 3291 2770 3770 \r\nQ 2525 4250 2034 4250 \r\nz\r\nM 2034 4750 \r\nQ 2819 4750 3233 4129 \r\nQ 3647 3509 3647 2328 \r\nQ 3647 1150 3233 529 \r\nQ 2819 -91 2034 -91 \r\nQ 1250 -91 836 529 \r\nQ 422 1150 422 2328 \r\nQ 422 3509 836 4129 \r\nQ 1250 4750 2034 4750 \r\nz\r\n\" id=\"DejaVuSans-30\" transform=\"scale(0.015625)\"/>\r\n       </defs>\r\n       <use xlink:href=\"#DejaVuSans-31\"/>\r\n       <use x=\"63.623047\" xlink:href=\"#DejaVuSans-30\"/>\r\n      </g>\r\n     </g>\r\n    </g>\r\n    <g id=\"ytick_2\">\r\n     <g id=\"line2d_3\">\r\n      <g>\r\n       <use style=\"stroke:#000000;stroke-width:0.8;\" x=\"26.925\" xlink:href=\"#m13ccfe9e1b\" y=\"157.423461\"/>\r\n      </g>\r\n     </g>\r\n     <g id=\"text_3\">\r\n      <!-- 20 -->\r\n      <g transform=\"translate(7.2 161.22268)scale(0.1 -0.1)\">\r\n       <defs>\r\n        <path d=\"M 1228 531 \r\nL 3431 531 \r\nL 3431 0 \r\nL 469 0 \r\nL 469 531 \r\nQ 828 903 1448 1529 \r\nQ 2069 2156 2228 2338 \r\nQ 2531 2678 2651 2914 \r\nQ 2772 3150 2772 3378 \r\nQ 2772 3750 2511 3984 \r\nQ 2250 4219 1831 4219 \r\nQ 1534 4219 1204 4116 \r\nQ 875 4013 500 3803 \r\nL 500 4441 \r\nQ 881 4594 1212 4672 \r\nQ 1544 4750 1819 4750 \r\nQ 2544 4750 2975 4387 \r\nQ 3406 4025 3406 3419 \r\nQ 3406 3131 3298 2873 \r\nQ 3191 2616 2906 2266 \r\nQ 2828 2175 2409 1742 \r\nQ 1991 1309 1228 531 \r\nz\r\n\" id=\"DejaVuSans-32\" transform=\"scale(0.015625)\"/>\r\n       </defs>\r\n       <use xlink:href=\"#DejaVuSans-32\"/>\r\n       <use x=\"63.623047\" xlink:href=\"#DejaVuSans-30\"/>\r\n      </g>\r\n     </g>\r\n    </g>\r\n    <g id=\"ytick_3\">\r\n     <g id=\"line2d_4\">\r\n      <g>\r\n       <use style=\"stroke:#000000;stroke-width:0.8;\" x=\"26.925\" xlink:href=\"#m13ccfe9e1b\" y=\"120.817401\"/>\r\n      </g>\r\n     </g>\r\n     <g id=\"text_4\">\r\n      <!-- 30 -->\r\n      <g transform=\"translate(7.2 124.616619)scale(0.1 -0.1)\">\r\n       <defs>\r\n        <path d=\"M 2597 2516 \r\nQ 3050 2419 3304 2112 \r\nQ 3559 1806 3559 1356 \r\nQ 3559 666 3084 287 \r\nQ 2609 -91 1734 -91 \r\nQ 1441 -91 1130 -33 \r\nQ 819 25 488 141 \r\nL 488 750 \r\nQ 750 597 1062 519 \r\nQ 1375 441 1716 441 \r\nQ 2309 441 2620 675 \r\nQ 2931 909 2931 1356 \r\nQ 2931 1769 2642 2001 \r\nQ 2353 2234 1838 2234 \r\nL 1294 2234 \r\nL 1294 2753 \r\nL 1863 2753 \r\nQ 2328 2753 2575 2939 \r\nQ 2822 3125 2822 3475 \r\nQ 2822 3834 2567 4026 \r\nQ 2313 4219 1838 4219 \r\nQ 1578 4219 1281 4162 \r\nQ 984 4106 628 3988 \r\nL 628 4550 \r\nQ 988 4650 1302 4700 \r\nQ 1616 4750 1894 4750 \r\nQ 2613 4750 3031 4423 \r\nQ 3450 4097 3450 3541 \r\nQ 3450 3153 3228 2886 \r\nQ 3006 2619 2597 2516 \r\nz\r\n\" id=\"DejaVuSans-33\" transform=\"scale(0.015625)\"/>\r\n       </defs>\r\n       <use xlink:href=\"#DejaVuSans-33\"/>\r\n       <use x=\"63.623047\" xlink:href=\"#DejaVuSans-30\"/>\r\n      </g>\r\n     </g>\r\n    </g>\r\n    <g id=\"ytick_4\">\r\n     <g id=\"line2d_5\">\r\n      <g>\r\n       <use style=\"stroke:#000000;stroke-width:0.8;\" x=\"26.925\" xlink:href=\"#m13ccfe9e1b\" y=\"84.21134\"/>\r\n      </g>\r\n     </g>\r\n     <g id=\"text_5\">\r\n      <!-- 40 -->\r\n      <g transform=\"translate(7.2 88.010559)scale(0.1 -0.1)\">\r\n       <defs>\r\n        <path d=\"M 2419 4116 \r\nL 825 1625 \r\nL 2419 1625 \r\nL 2419 4116 \r\nz\r\nM 2253 4666 \r\nL 3047 4666 \r\nL 3047 1625 \r\nL 3713 1625 \r\nL 3713 1100 \r\nL 3047 1100 \r\nL 3047 0 \r\nL 2419 0 \r\nL 2419 1100 \r\nL 313 1100 \r\nL 313 1709 \r\nL 2253 4666 \r\nz\r\n\" id=\"DejaVuSans-34\" transform=\"scale(0.015625)\"/>\r\n       </defs>\r\n       <use xlink:href=\"#DejaVuSans-34\"/>\r\n       <use x=\"63.623047\" xlink:href=\"#DejaVuSans-30\"/>\r\n      </g>\r\n     </g>\r\n    </g>\r\n    <g id=\"ytick_5\">\r\n     <g id=\"line2d_6\">\r\n      <g>\r\n       <use style=\"stroke:#000000;stroke-width:0.8;\" x=\"26.925\" xlink:href=\"#m13ccfe9e1b\" y=\"47.605279\"/>\r\n      </g>\r\n     </g>\r\n     <g id=\"text_6\">\r\n      <!-- 50 -->\r\n      <g transform=\"translate(7.2 51.404498)scale(0.1 -0.1)\">\r\n       <defs>\r\n        <path d=\"M 691 4666 \r\nL 3169 4666 \r\nL 3169 4134 \r\nL 1269 4134 \r\nL 1269 2991 \r\nQ 1406 3038 1543 3061 \r\nQ 1681 3084 1819 3084 \r\nQ 2600 3084 3056 2656 \r\nQ 3513 2228 3513 1497 \r\nQ 3513 744 3044 326 \r\nQ 2575 -91 1722 -91 \r\nQ 1428 -91 1123 -41 \r\nQ 819 9 494 109 \r\nL 494 744 \r\nQ 775 591 1075 516 \r\nQ 1375 441 1709 441 \r\nQ 2250 441 2565 725 \r\nQ 2881 1009 2881 1497 \r\nQ 2881 1984 2565 2268 \r\nQ 2250 2553 1709 2553 \r\nQ 1456 2553 1204 2497 \r\nQ 953 2441 691 2322 \r\nL 691 4666 \r\nz\r\n\" id=\"DejaVuSans-35\" transform=\"scale(0.015625)\"/>\r\n       </defs>\r\n       <use xlink:href=\"#DejaVuSans-35\"/>\r\n       <use x=\"63.623047\" xlink:href=\"#DejaVuSans-30\"/>\r\n      </g>\r\n     </g>\r\n    </g>\r\n    <g id=\"ytick_6\">\r\n     <g id=\"line2d_7\">\r\n      <g>\r\n       <use style=\"stroke:#000000;stroke-width:0.8;\" x=\"26.925\" xlink:href=\"#m13ccfe9e1b\" y=\"10.999219\"/>\r\n      </g>\r\n     </g>\r\n     <g id=\"text_7\">\r\n      <!-- 60 -->\r\n      <g transform=\"translate(7.2 14.798437)scale(0.1 -0.1)\">\r\n       <defs>\r\n        <path d=\"M 2113 2584 \r\nQ 1688 2584 1439 2293 \r\nQ 1191 2003 1191 1497 \r\nQ 1191 994 1439 701 \r\nQ 1688 409 2113 409 \r\nQ 2538 409 2786 701 \r\nQ 3034 994 3034 1497 \r\nQ 3034 2003 2786 2293 \r\nQ 2538 2584 2113 2584 \r\nz\r\nM 3366 4563 \r\nL 3366 3988 \r\nQ 3128 4100 2886 4159 \r\nQ 2644 4219 2406 4219 \r\nQ 1781 4219 1451 3797 \r\nQ 1122 3375 1075 2522 \r\nQ 1259 2794 1537 2939 \r\nQ 1816 3084 2150 3084 \r\nQ 2853 3084 3261 2657 \r\nQ 3669 2231 3669 1497 \r\nQ 3669 778 3244 343 \r\nQ 2819 -91 2113 -91 \r\nQ 1303 -91 875 529 \r\nQ 447 1150 447 2328 \r\nQ 447 3434 972 4092 \r\nQ 1497 4750 2381 4750 \r\nQ 2619 4750 2861 4703 \r\nQ 3103 4656 3366 4563 \r\nz\r\n\" id=\"DejaVuSans-36\" transform=\"scale(0.015625)\"/>\r\n       </defs>\r\n       <use xlink:href=\"#DejaVuSans-36\"/>\r\n       <use x=\"63.623047\" xlink:href=\"#DejaVuSans-30\"/>\r\n      </g>\r\n     </g>\r\n    </g>\r\n   </g>\r\n   <g id=\"line2d_8\">\r\n    <path clip-path=\"url(#paa3a01c15a)\" d=\"M 91.602273 197.690128 \r\nL 114.429545 197.690128 \r\nL 114.429545 164.744673 \r\nL 91.602273 164.744673 \r\nL 91.602273 197.690128 \r\n\" style=\"fill:none;stroke:#000000;stroke-linecap:square;\"/>\r\n   </g>\r\n   <g id=\"line2d_9\">\r\n    <path clip-path=\"url(#paa3a01c15a)\" d=\"M 103.015909 197.690128 \r\nL 103.015909 215.993158 \r\n\" style=\"fill:none;stroke:#000000;stroke-linecap:square;\"/>\r\n   </g>\r\n   <g id=\"line2d_10\">\r\n    <path clip-path=\"url(#paa3a01c15a)\" d=\"M 103.015909 164.744673 \r\nL 103.015909 117.156795 \r\n\" style=\"fill:none;stroke:#000000;stroke-linecap:square;\"/>\r\n   </g>\r\n   <g id=\"line2d_11\">\r\n    <path clip-path=\"url(#paa3a01c15a)\" d=\"M 97.309091 215.993158 \r\nL 108.722727 215.993158 \r\n\" style=\"fill:none;stroke:#000000;stroke-linecap:square;\"/>\r\n   </g>\r\n   <g id=\"line2d_12\">\r\n    <path clip-path=\"url(#paa3a01c15a)\" d=\"M 97.309091 117.156795 \r\nL 108.722727 117.156795 \r\n\" style=\"fill:none;stroke:#000000;stroke-linecap:square;\"/>\r\n   </g>\r\n   <g id=\"line2d_13\">\r\n    <defs>\r\n     <path d=\"M 0 3 \r\nC 0.795609 3 1.55874 2.683901 2.12132 2.12132 \r\nC 2.683901 1.55874 3 0.795609 3 0 \r\nC 3 -0.795609 2.683901 -1.55874 2.12132 -2.12132 \r\nC 1.55874 -2.683901 0.795609 -3 0 -3 \r\nC -0.795609 -3 -1.55874 -2.683901 -2.12132 -2.12132 \r\nC -2.683901 -1.55874 -3 -0.795609 -3 0 \r\nC -3 0.795609 -2.683901 1.55874 -2.12132 2.12132 \r\nC -1.55874 2.683901 -0.795609 3 0 3 \r\nz\r\n\" id=\"m710d7a4362\" style=\"stroke:#000000;\"/>\r\n    </defs>\r\n    <g clip-path=\"url(#paa3a01c15a)\">\r\n     <use style=\"fill-opacity:0;stroke:#000000;\" x=\"103.015909\" xlink:href=\"#m710d7a4362\" y=\"113.496188\"/>\r\n     <use style=\"fill-opacity:0;stroke:#000000;\" x=\"103.015909\" xlink:href=\"#m710d7a4362\" y=\"95.193158\"/>\r\n     <use style=\"fill-opacity:0;stroke:#000000;\" x=\"103.015909\" xlink:href=\"#m710d7a4362\" y=\"87.871946\"/>\r\n     <use style=\"fill-opacity:0;stroke:#000000;\" x=\"103.015909\" xlink:href=\"#m710d7a4362\" y=\"102.51437\"/>\r\n     <use style=\"fill-opacity:0;stroke:#000000;\" x=\"103.015909\" xlink:href=\"#m710d7a4362\" y=\"95.193158\"/>\r\n     <use style=\"fill-opacity:0;stroke:#000000;\" x=\"103.015909\" xlink:href=\"#m710d7a4362\" y=\"91.532552\"/>\r\n     <use style=\"fill-opacity:0;stroke:#000000;\" x=\"103.015909\" xlink:href=\"#m710d7a4362\" y=\"80.550734\"/>\r\n     <use style=\"fill-opacity:0;stroke:#000000;\" x=\"103.015909\" xlink:href=\"#m710d7a4362\" y=\"95.193158\"/>\r\n     <use style=\"fill-opacity:0;stroke:#000000;\" x=\"103.015909\" xlink:href=\"#m710d7a4362\" y=\"102.51437\"/>\r\n     <use style=\"fill-opacity:0;stroke:#000000;\" x=\"103.015909\" xlink:href=\"#m710d7a4362\" y=\"109.835582\"/>\r\n     <use style=\"fill-opacity:0;stroke:#000000;\" x=\"103.015909\" xlink:href=\"#m710d7a4362\" y=\"113.496188\"/>\r\n     <use style=\"fill-opacity:0;stroke:#000000;\" x=\"103.015909\" xlink:href=\"#m710d7a4362\" y=\"84.21134\"/>\r\n     <use style=\"fill-opacity:0;stroke:#000000;\" x=\"103.015909\" xlink:href=\"#m710d7a4362\" y=\"73.229522\"/>\r\n     <use style=\"fill-opacity:0;stroke:#000000;\" x=\"103.015909\" xlink:href=\"#m710d7a4362\" y=\"106.174976\"/>\r\n     <use style=\"fill-opacity:0;stroke:#000000;\" x=\"103.015909\" xlink:href=\"#m710d7a4362\" y=\"106.174976\"/>\r\n     <use style=\"fill-opacity:0;stroke:#000000;\" x=\"103.015909\" xlink:href=\"#m710d7a4362\" y=\"69.568916\"/>\r\n     <use style=\"fill-opacity:0;stroke:#000000;\" x=\"103.015909\" xlink:href=\"#m710d7a4362\" y=\"95.193158\"/>\r\n     <use style=\"fill-opacity:0;stroke:#000000;\" x=\"103.015909\" xlink:href=\"#m710d7a4362\" y=\"91.532552\"/>\r\n     <use style=\"fill-opacity:0;stroke:#000000;\" x=\"103.015909\" xlink:href=\"#m710d7a4362\" y=\"106.174976\"/>\r\n     <use style=\"fill-opacity:0;stroke:#000000;\" x=\"103.015909\" xlink:href=\"#m710d7a4362\" y=\"109.835582\"/>\r\n     <use style=\"fill-opacity:0;stroke:#000000;\" x=\"103.015909\" xlink:href=\"#m710d7a4362\" y=\"95.193158\"/>\r\n     <use style=\"fill-opacity:0;stroke:#000000;\" x=\"103.015909\" xlink:href=\"#m710d7a4362\" y=\"113.496188\"/>\r\n     <use style=\"fill-opacity:0;stroke:#000000;\" x=\"103.015909\" xlink:href=\"#m710d7a4362\" y=\"84.21134\"/>\r\n     <use style=\"fill-opacity:0;stroke:#000000;\" x=\"103.015909\" xlink:href=\"#m710d7a4362\" y=\"109.835582\"/>\r\n     <use style=\"fill-opacity:0;stroke:#000000;\" x=\"103.015909\" xlink:href=\"#m710d7a4362\" y=\"102.51437\"/>\r\n     <use style=\"fill-opacity:0;stroke:#000000;\" x=\"103.015909\" xlink:href=\"#m710d7a4362\" y=\"98.853764\"/>\r\n     <use style=\"fill-opacity:0;stroke:#000000;\" x=\"103.015909\" xlink:href=\"#m710d7a4362\" y=\"102.51437\"/>\r\n     <use style=\"fill-opacity:0;stroke:#000000;\" x=\"103.015909\" xlink:href=\"#m710d7a4362\" y=\"113.496188\"/>\r\n     <use style=\"fill-opacity:0;stroke:#000000;\" x=\"103.015909\" xlink:href=\"#m710d7a4362\" y=\"113.496188\"/>\r\n     <use style=\"fill-opacity:0;stroke:#000000;\" x=\"103.015909\" xlink:href=\"#m710d7a4362\" y=\"91.532552\"/>\r\n     <use style=\"fill-opacity:0;stroke:#000000;\" x=\"103.015909\" xlink:href=\"#m710d7a4362\" y=\"102.51437\"/>\r\n     <use style=\"fill-opacity:0;stroke:#000000;\" x=\"103.015909\" xlink:href=\"#m710d7a4362\" y=\"95.193158\"/>\r\n     <use style=\"fill-opacity:0;stroke:#000000;\" x=\"103.015909\" xlink:href=\"#m710d7a4362\" y=\"109.835582\"/>\r\n     <use style=\"fill-opacity:0;stroke:#000000;\" x=\"103.015909\" xlink:href=\"#m710d7a4362\" y=\"109.835582\"/>\r\n     <use style=\"fill-opacity:0;stroke:#000000;\" x=\"103.015909\" xlink:href=\"#m710d7a4362\" y=\"106.174976\"/>\r\n     <use style=\"fill-opacity:0;stroke:#000000;\" x=\"103.015909\" xlink:href=\"#m710d7a4362\" y=\"113.496188\"/>\r\n     <use style=\"fill-opacity:0;stroke:#000000;\" x=\"103.015909\" xlink:href=\"#m710d7a4362\" y=\"106.174976\"/>\r\n     <use style=\"fill-opacity:0;stroke:#000000;\" x=\"103.015909\" xlink:href=\"#m710d7a4362\" y=\"87.871946\"/>\r\n     <use style=\"fill-opacity:0;stroke:#000000;\" x=\"103.015909\" xlink:href=\"#m710d7a4362\" y=\"76.890128\"/>\r\n     <use style=\"fill-opacity:0;stroke:#000000;\" x=\"103.015909\" xlink:href=\"#m710d7a4362\" y=\"95.193158\"/>\r\n     <use style=\"fill-opacity:0;stroke:#000000;\" x=\"103.015909\" xlink:href=\"#m710d7a4362\" y=\"113.496188\"/>\r\n     <use style=\"fill-opacity:0;stroke:#000000;\" x=\"103.015909\" xlink:href=\"#m710d7a4362\" y=\"73.229522\"/>\r\n     <use style=\"fill-opacity:0;stroke:#000000;\" x=\"103.015909\" xlink:href=\"#m710d7a4362\" y=\"109.835582\"/>\r\n     <use style=\"fill-opacity:0;stroke:#000000;\" x=\"103.015909\" xlink:href=\"#m710d7a4362\" y=\"102.51437\"/>\r\n     <use style=\"fill-opacity:0;stroke:#000000;\" x=\"103.015909\" xlink:href=\"#m710d7a4362\" y=\"98.853764\"/>\r\n     <use style=\"fill-opacity:0;stroke:#000000;\" x=\"103.015909\" xlink:href=\"#m710d7a4362\" y=\"113.496188\"/>\r\n     <use style=\"fill-opacity:0;stroke:#000000;\" x=\"103.015909\" xlink:href=\"#m710d7a4362\" y=\"95.193158\"/>\r\n     <use style=\"fill-opacity:0;stroke:#000000;\" x=\"103.015909\" xlink:href=\"#m710d7a4362\" y=\"109.835582\"/>\r\n     <use style=\"fill-opacity:0;stroke:#000000;\" x=\"103.015909\" xlink:href=\"#m710d7a4362\" y=\"102.51437\"/>\r\n     <use style=\"fill-opacity:0;stroke:#000000;\" x=\"103.015909\" xlink:href=\"#m710d7a4362\" y=\"102.51437\"/>\r\n     <use style=\"fill-opacity:0;stroke:#000000;\" x=\"103.015909\" xlink:href=\"#m710d7a4362\" y=\"106.174976\"/>\r\n     <use style=\"fill-opacity:0;stroke:#000000;\" x=\"103.015909\" xlink:href=\"#m710d7a4362\" y=\"95.193158\"/>\r\n     <use style=\"fill-opacity:0;stroke:#000000;\" x=\"103.015909\" xlink:href=\"#m710d7a4362\" y=\"98.853764\"/>\r\n     <use style=\"fill-opacity:0;stroke:#000000;\" x=\"103.015909\" xlink:href=\"#m710d7a4362\" y=\"106.174976\"/>\r\n     <use style=\"fill-opacity:0;stroke:#000000;\" x=\"103.015909\" xlink:href=\"#m710d7a4362\" y=\"113.496188\"/>\r\n     <use style=\"fill-opacity:0;stroke:#000000;\" x=\"103.015909\" xlink:href=\"#m710d7a4362\" y=\"113.496188\"/>\r\n     <use style=\"fill-opacity:0;stroke:#000000;\" x=\"103.015909\" xlink:href=\"#m710d7a4362\" y=\"98.853764\"/>\r\n     <use style=\"fill-opacity:0;stroke:#000000;\" x=\"103.015909\" xlink:href=\"#m710d7a4362\" y=\"98.853764\"/>\r\n     <use style=\"fill-opacity:0;stroke:#000000;\" x=\"103.015909\" xlink:href=\"#m710d7a4362\" y=\"106.174976\"/>\r\n     <use style=\"fill-opacity:0;stroke:#000000;\" x=\"103.015909\" xlink:href=\"#m710d7a4362\" y=\"113.496188\"/>\r\n     <use style=\"fill-opacity:0;stroke:#000000;\" x=\"103.015909\" xlink:href=\"#m710d7a4362\" y=\"84.21134\"/>\r\n     <use style=\"fill-opacity:0;stroke:#000000;\" x=\"103.015909\" xlink:href=\"#m710d7a4362\" y=\"113.496188\"/>\r\n     <use style=\"fill-opacity:0;stroke:#000000;\" x=\"103.015909\" xlink:href=\"#m710d7a4362\" y=\"102.51437\"/>\r\n     <use style=\"fill-opacity:0;stroke:#000000;\" x=\"103.015909\" xlink:href=\"#m710d7a4362\" y=\"91.532552\"/>\r\n     <use style=\"fill-opacity:0;stroke:#000000;\" x=\"103.015909\" xlink:href=\"#m710d7a4362\" y=\"106.174976\"/>\r\n     <use style=\"fill-opacity:0;stroke:#000000;\" x=\"103.015909\" xlink:href=\"#m710d7a4362\" y=\"109.835582\"/>\r\n     <use style=\"fill-opacity:0;stroke:#000000;\" x=\"103.015909\" xlink:href=\"#m710d7a4362\" y=\"109.835582\"/>\r\n     <use style=\"fill-opacity:0;stroke:#000000;\" x=\"103.015909\" xlink:href=\"#m710d7a4362\" y=\"102.51437\"/>\r\n     <use style=\"fill-opacity:0;stroke:#000000;\" x=\"103.015909\" xlink:href=\"#m710d7a4362\" y=\"95.193158\"/>\r\n     <use style=\"fill-opacity:0;stroke:#000000;\" x=\"103.015909\" xlink:href=\"#m710d7a4362\" y=\"113.496188\"/>\r\n     <use style=\"fill-opacity:0;stroke:#000000;\" x=\"103.015909\" xlink:href=\"#m710d7a4362\" y=\"98.853764\"/>\r\n     <use style=\"fill-opacity:0;stroke:#000000;\" x=\"103.015909\" xlink:href=\"#m710d7a4362\" y=\"106.174976\"/>\r\n     <use style=\"fill-opacity:0;stroke:#000000;\" x=\"103.015909\" xlink:href=\"#m710d7a4362\" y=\"84.21134\"/>\r\n     <use style=\"fill-opacity:0;stroke:#000000;\" x=\"103.015909\" xlink:href=\"#m710d7a4362\" y=\"87.871946\"/>\r\n     <use style=\"fill-opacity:0;stroke:#000000;\" x=\"103.015909\" xlink:href=\"#m710d7a4362\" y=\"113.496188\"/>\r\n     <use style=\"fill-opacity:0;stroke:#000000;\" x=\"103.015909\" xlink:href=\"#m710d7a4362\" y=\"113.496188\"/>\r\n     <use style=\"fill-opacity:0;stroke:#000000;\" x=\"103.015909\" xlink:href=\"#m710d7a4362\" y=\"109.835582\"/>\r\n     <use style=\"fill-opacity:0;stroke:#000000;\" x=\"103.015909\" xlink:href=\"#m710d7a4362\" y=\"113.496188\"/>\r\n     <use style=\"fill-opacity:0;stroke:#000000;\" x=\"103.015909\" xlink:href=\"#m710d7a4362\" y=\"106.174976\"/>\r\n     <use style=\"fill-opacity:0;stroke:#000000;\" x=\"103.015909\" xlink:href=\"#m710d7a4362\" y=\"109.835582\"/>\r\n     <use style=\"fill-opacity:0;stroke:#000000;\" x=\"103.015909\" xlink:href=\"#m710d7a4362\" y=\"113.496188\"/>\r\n     <use style=\"fill-opacity:0;stroke:#000000;\" x=\"103.015909\" xlink:href=\"#m710d7a4362\" y=\"76.890128\"/>\r\n     <use style=\"fill-opacity:0;stroke:#000000;\" x=\"103.015909\" xlink:href=\"#m710d7a4362\" y=\"102.51437\"/>\r\n     <use style=\"fill-opacity:0;stroke:#000000;\" x=\"103.015909\" xlink:href=\"#m710d7a4362\" y=\"62.247704\"/>\r\n     <use style=\"fill-opacity:0;stroke:#000000;\" x=\"103.015909\" xlink:href=\"#m710d7a4362\" y=\"98.853764\"/>\r\n     <use style=\"fill-opacity:0;stroke:#000000;\" x=\"103.015909\" xlink:href=\"#m710d7a4362\" y=\"106.174976\"/>\r\n     <use style=\"fill-opacity:0;stroke:#000000;\" x=\"103.015909\" xlink:href=\"#m710d7a4362\" y=\"98.853764\"/>\r\n     <use style=\"fill-opacity:0;stroke:#000000;\" x=\"103.015909\" xlink:href=\"#m710d7a4362\" y=\"106.174976\"/>\r\n     <use style=\"fill-opacity:0;stroke:#000000;\" x=\"103.015909\" xlink:href=\"#m710d7a4362\" y=\"109.835582\"/>\r\n     <use style=\"fill-opacity:0;stroke:#000000;\" x=\"103.015909\" xlink:href=\"#m710d7a4362\" y=\"102.51437\"/>\r\n     <use style=\"fill-opacity:0;stroke:#000000;\" x=\"103.015909\" xlink:href=\"#m710d7a4362\" y=\"98.853764\"/>\r\n     <use style=\"fill-opacity:0;stroke:#000000;\" x=\"103.015909\" xlink:href=\"#m710d7a4362\" y=\"95.193158\"/>\r\n     <use style=\"fill-opacity:0;stroke:#000000;\" x=\"103.015909\" xlink:href=\"#m710d7a4362\" y=\"102.51437\"/>\r\n     <use style=\"fill-opacity:0;stroke:#000000;\" x=\"103.015909\" xlink:href=\"#m710d7a4362\" y=\"91.532552\"/>\r\n     <use style=\"fill-opacity:0;stroke:#000000;\" x=\"103.015909\" xlink:href=\"#m710d7a4362\" y=\"98.853764\"/>\r\n     <use style=\"fill-opacity:0;stroke:#000000;\" x=\"103.015909\" xlink:href=\"#m710d7a4362\" y=\"106.174976\"/>\r\n     <use style=\"fill-opacity:0;stroke:#000000;\" x=\"103.015909\" xlink:href=\"#m710d7a4362\" y=\"109.835582\"/>\r\n     <use style=\"fill-opacity:0;stroke:#000000;\" x=\"103.015909\" xlink:href=\"#m710d7a4362\" y=\"84.21134\"/>\r\n     <use style=\"fill-opacity:0;stroke:#000000;\" x=\"103.015909\" xlink:href=\"#m710d7a4362\" y=\"109.835582\"/>\r\n     <use style=\"fill-opacity:0;stroke:#000000;\" x=\"103.015909\" xlink:href=\"#m710d7a4362\" y=\"109.835582\"/>\r\n     <use style=\"fill-opacity:0;stroke:#000000;\" x=\"103.015909\" xlink:href=\"#m710d7a4362\" y=\"109.835582\"/>\r\n     <use style=\"fill-opacity:0;stroke:#000000;\" x=\"103.015909\" xlink:href=\"#m710d7a4362\" y=\"95.193158\"/>\r\n     <use style=\"fill-opacity:0;stroke:#000000;\" x=\"103.015909\" xlink:href=\"#m710d7a4362\" y=\"58.587098\"/>\r\n     <use style=\"fill-opacity:0;stroke:#000000;\" x=\"103.015909\" xlink:href=\"#m710d7a4362\" y=\"18.320431\"/>\r\n     <use style=\"fill-opacity:0;stroke:#000000;\" x=\"103.015909\" xlink:href=\"#m710d7a4362\" y=\"113.496188\"/>\r\n    </g>\r\n   </g>\r\n   <g id=\"line2d_14\">\r\n    <path clip-path=\"url(#paa3a01c15a)\" d=\"M 91.602273 183.047704 \r\nL 114.429545 183.047704 \r\n\" style=\"fill:none;stroke:#ff7f0e;stroke-linecap:square;\"/>\r\n   </g>\r\n   <g id=\"patch_3\">\r\n    <path d=\"M 26.925 225.876795 \r\nL 26.925 8.436795 \r\n\" style=\"fill:none;stroke:#000000;stroke-linecap:square;stroke-linejoin:miter;stroke-width:0.8;\"/>\r\n   </g>\r\n   <g id=\"patch_4\">\r\n    <path d=\"M 179.106818 225.876795 \r\nL 179.106818 8.436795 \r\n\" style=\"fill:none;stroke:#000000;stroke-linecap:square;stroke-linejoin:miter;stroke-width:0.8;\"/>\r\n   </g>\r\n   <g id=\"patch_5\">\r\n    <path d=\"M 26.925 225.876795 \r\nL 179.106818 225.876795 \r\n\" style=\"fill:none;stroke:#000000;stroke-linecap:square;stroke-linejoin:miter;stroke-width:0.8;\"/>\r\n   </g>\r\n   <g id=\"patch_6\">\r\n    <path d=\"M 26.925 8.436795 \r\nL 179.106818 8.436795 \r\n\" style=\"fill:none;stroke:#000000;stroke-linecap:square;stroke-linejoin:miter;stroke-width:0.8;\"/>\r\n   </g>\r\n  </g>\r\n  <g id=\"axes_2\">\r\n   <g id=\"patch_7\">\r\n    <path d=\"M 209.543182 225.876795 \r\nL 361.725 225.876795 \r\nL 361.725 8.436795 \r\nL 209.543182 8.436795 \r\nz\r\n\" style=\"fill:#ffffff;\"/>\r\n   </g>\r\n   <g id=\"patch_8\">\r\n    <path clip-path=\"url(#p7617c5b7e1)\" d=\"M 216.460537 225.876795 \r\nL 219.227479 225.876795 \r\nL 219.227479 137.20163 \r\nL 216.460537 137.20163 \r\nz\r\n\" style=\"fill:#1f77b4;\"/>\r\n   </g>\r\n   <g id=\"patch_9\">\r\n    <path clip-path=\"url(#p7617c5b7e1)\" d=\"M 219.227479 225.876795 \r\nL 221.994421 225.876795 \r\nL 221.994421 93.660531 \r\nL 219.227479 93.660531 \r\nz\r\n\" style=\"fill:#1f77b4;\"/>\r\n   </g>\r\n   <g id=\"patch_10\">\r\n    <path clip-path=\"url(#p7617c5b7e1)\" d=\"M 221.994421 225.876795 \r\nL 224.761364 225.876795 \r\nL 224.761364 52.243388 \r\nL 221.994421 52.243388 \r\nz\r\n\" style=\"fill:#1f77b4;\"/>\r\n   </g>\r\n   <g id=\"patch_11\">\r\n    <path clip-path=\"url(#p7617c5b7e1)\" d=\"M 224.761364 225.876795 \r\nL 227.528306 225.876795 \r\nL 227.528306 45.340531 \r\nL 224.761364 45.340531 \r\nz\r\n\" style=\"fill:#1f77b4;\"/>\r\n   </g>\r\n   <g id=\"patch_12\">\r\n    <path clip-path=\"url(#p7617c5b7e1)\" d=\"M 227.528306 225.876795 \r\nL 230.295248 225.876795 \r\nL 230.295248 24.10097 \r\nL 227.528306 24.10097 \r\nz\r\n\" style=\"fill:#1f77b4;\"/>\r\n   </g>\r\n   <g id=\"patch_13\">\r\n    <path clip-path=\"url(#p7617c5b7e1)\" d=\"M 230.295248 225.876795 \r\nL 233.06219 225.876795 \r\nL 233.06219 25.693937 \r\nL 230.295248 25.693937 \r\nz\r\n\" style=\"fill:#1f77b4;\"/>\r\n   </g>\r\n   <g id=\"patch_14\">\r\n    <path clip-path=\"url(#p7617c5b7e1)\" d=\"M 233.06219 225.876795 \r\nL 235.829132 225.876795 \r\nL 235.829132 51.18141 \r\nL 233.06219 51.18141 \r\nz\r\n\" style=\"fill:#1f77b4;\"/>\r\n   </g>\r\n   <g id=\"patch_15\">\r\n    <path clip-path=\"url(#p7617c5b7e1)\" d=\"M 235.829132 225.876795 \r\nL 238.596074 225.876795 \r\nL 238.596074 64.987124 \r\nL 235.829132 64.987124 \r\nz\r\n\" style=\"fill:#1f77b4;\"/>\r\n   </g>\r\n   <g id=\"patch_16\">\r\n    <path clip-path=\"url(#p7617c5b7e1)\" d=\"M 238.596074 225.876795 \r\nL 241.363017 225.876795 \r\nL 241.363017 69.766025 \r\nL 238.596074 69.766025 \r\nz\r\n\" style=\"fill:#1f77b4;\"/>\r\n   </g>\r\n   <g id=\"patch_17\">\r\n    <path clip-path=\"url(#p7617c5b7e1)\" d=\"M 241.363017 225.876795 \r\nL 244.129959 225.876795 \r\nL 244.129959 72.951959 \r\nL 241.363017 72.951959 \r\nz\r\n\" style=\"fill:#1f77b4;\"/>\r\n   </g>\r\n   <g id=\"patch_18\">\r\n    <path clip-path=\"url(#p7617c5b7e1)\" d=\"M 244.129959 225.876795 \r\nL 246.896901 225.876795 \r\nL 246.896901 95.253498 \r\nL 244.129959 95.253498 \r\nz\r\n\" style=\"fill:#1f77b4;\"/>\r\n   </g>\r\n   <g id=\"patch_19\">\r\n    <path clip-path=\"url(#p7617c5b7e1)\" d=\"M 246.896901 225.876795 \r\nL 249.663843 225.876795 \r\nL 249.663843 109.059212 \r\nL 246.896901 109.059212 \r\nz\r\n\" style=\"fill:#1f77b4;\"/>\r\n   </g>\r\n   <g id=\"patch_20\">\r\n    <path clip-path=\"url(#p7617c5b7e1)\" d=\"M 249.663843 225.876795 \r\nL 252.430785 225.876795 \r\nL 252.430785 18.79108 \r\nL 249.663843 18.79108 \r\nz\r\n\" style=\"fill:#1f77b4;\"/>\r\n   </g>\r\n   <g id=\"patch_21\">\r\n    <path clip-path=\"url(#p7617c5b7e1)\" d=\"M 252.430785 225.876795 \r\nL 255.197727 225.876795 \r\nL 255.197727 146.228443 \r\nL 252.430785 146.228443 \r\nz\r\n\" style=\"fill:#1f77b4;\"/>\r\n   </g>\r\n   <g id=\"patch_22\">\r\n    <path clip-path=\"url(#p7617c5b7e1)\" d=\"M 255.197727 225.876795 \r\nL 257.964669 225.876795 \r\nL 257.964669 151.538333 \r\nL 255.197727 151.538333 \r\nz\r\n\" style=\"fill:#1f77b4;\"/>\r\n   </g>\r\n   <g id=\"patch_23\">\r\n    <path clip-path=\"url(#p7617c5b7e1)\" d=\"M 257.964669 225.876795 \r\nL 260.731612 225.876795 \r\nL 260.731612 160.034157 \r\nL 257.964669 160.034157 \r\nz\r\n\" style=\"fill:#1f77b4;\"/>\r\n   </g>\r\n   <g id=\"patch_24\">\r\n    <path clip-path=\"url(#p7617c5b7e1)\" d=\"M 260.731612 225.876795 \r\nL 263.498554 225.876795 \r\nL 263.498554 175.963827 \r\nL 260.731612 175.963827 \r\nz\r\n\" style=\"fill:#1f77b4;\"/>\r\n   </g>\r\n   <g id=\"patch_25\">\r\n    <path clip-path=\"url(#p7617c5b7e1)\" d=\"M 263.498554 225.876795 \r\nL 266.265496 225.876795 \r\nL 266.265496 173.308882 \r\nL 263.498554 173.308882 \r\nz\r\n\" style=\"fill:#1f77b4;\"/>\r\n   </g>\r\n   <g id=\"patch_26\">\r\n    <path clip-path=\"url(#p7617c5b7e1)\" d=\"M 266.265496 225.876795 \r\nL 269.032438 225.876795 \r\nL 269.032438 179.680751 \r\nL 266.265496 179.680751 \r\nz\r\n\" style=\"fill:#1f77b4;\"/>\r\n   </g>\r\n   <g id=\"patch_27\">\r\n    <path clip-path=\"url(#p7617c5b7e1)\" d=\"M 269.032438 225.876795 \r\nL 271.79938 225.876795 \r\nL 271.79938 184.990641 \r\nL 269.032438 184.990641 \r\nz\r\n\" style=\"fill:#1f77b4;\"/>\r\n   </g>\r\n   <g id=\"patch_28\">\r\n    <path clip-path=\"url(#p7617c5b7e1)\" d=\"M 271.79938 225.876795 \r\nL 274.566322 225.876795 \r\nL 274.566322 195.610421 \r\nL 271.79938 195.610421 \r\nz\r\n\" style=\"fill:#1f77b4;\"/>\r\n   </g>\r\n   <g id=\"patch_29\">\r\n    <path clip-path=\"url(#p7617c5b7e1)\" d=\"M 274.566322 225.876795 \r\nL 277.333264 225.876795 \r\nL 277.333264 198.265366 \r\nL 274.566322 198.265366 \r\nz\r\n\" style=\"fill:#1f77b4;\"/>\r\n   </g>\r\n   <g id=\"patch_30\">\r\n    <path clip-path=\"url(#p7617c5b7e1)\" d=\"M 277.333264 225.876795 \r\nL 280.100207 225.876795 \r\nL 280.100207 197.203388 \r\nL 277.333264 197.203388 \r\nz\r\n\" style=\"fill:#1f77b4;\"/>\r\n   </g>\r\n   <g id=\"patch_31\">\r\n    <path clip-path=\"url(#p7617c5b7e1)\" d=\"M 280.100207 225.876795 \r\nL 282.867149 225.876795 \r\nL 282.867149 204.106245 \r\nL 280.100207 204.106245 \r\nz\r\n\" style=\"fill:#1f77b4;\"/>\r\n   </g>\r\n   <g id=\"patch_32\">\r\n    <path clip-path=\"url(#p7617c5b7e1)\" d=\"M 282.867149 225.876795 \r\nL 285.634091 225.876795 \r\nL 285.634091 209.947124 \r\nL 282.867149 209.947124 \r\nz\r\n\" style=\"fill:#1f77b4;\"/>\r\n   </g>\r\n   <g id=\"patch_33\">\r\n    <path clip-path=\"url(#p7617c5b7e1)\" d=\"M 285.634091 225.876795 \r\nL 288.401033 225.876795 \r\nL 288.401033 198.796355 \r\nL 285.634091 198.796355 \r\nz\r\n\" style=\"fill:#1f77b4;\"/>\r\n   </g>\r\n   <g id=\"patch_34\">\r\n    <path clip-path=\"url(#p7617c5b7e1)\" d=\"M 288.401033 225.876795 \r\nL 291.167975 225.876795 \r\nL 291.167975 217.38097 \r\nL 288.401033 217.38097 \r\nz\r\n\" style=\"fill:#1f77b4;\"/>\r\n   </g>\r\n   <g id=\"patch_35\">\r\n    <path clip-path=\"url(#p7617c5b7e1)\" d=\"M 291.167975 225.876795 \r\nL 293.934917 225.876795 \r\nL 293.934917 218.442948 \r\nL 291.167975 218.442948 \r\nz\r\n\" style=\"fill:#1f77b4;\"/>\r\n   </g>\r\n   <g id=\"patch_36\">\r\n    <path clip-path=\"url(#p7617c5b7e1)\" d=\"M 293.934917 225.876795 \r\nL 296.70186 225.876795 \r\nL 296.70186 218.973937 \r\nL 293.934917 218.973937 \r\nz\r\n\" style=\"fill:#1f77b4;\"/>\r\n   </g>\r\n   <g id=\"patch_37\">\r\n    <path clip-path=\"url(#p7617c5b7e1)\" d=\"M 296.70186 225.876795 \r\nL 299.468802 225.876795 \r\nL 299.468802 220.566904 \r\nL 296.70186 220.566904 \r\nz\r\n\" style=\"fill:#1f77b4;\"/>\r\n   </g>\r\n   <g id=\"patch_38\">\r\n    <path clip-path=\"url(#p7617c5b7e1)\" d=\"M 299.468802 225.876795 \r\nL 302.235744 225.876795 \r\nL 302.235744 219.504926 \r\nL 299.468802 219.504926 \r\nz\r\n\" style=\"fill:#1f77b4;\"/>\r\n   </g>\r\n   <g id=\"patch_39\">\r\n    <path clip-path=\"url(#p7617c5b7e1)\" d=\"M 302.235744 225.876795 \r\nL 305.002686 225.876795 \r\nL 305.002686 223.221849 \r\nL 302.235744 223.221849 \r\nz\r\n\" style=\"fill:#1f77b4;\"/>\r\n   </g>\r\n   <g id=\"patch_40\">\r\n    <path clip-path=\"url(#p7617c5b7e1)\" d=\"M 305.002686 225.876795 \r\nL 307.769628 225.876795 \r\nL 307.769628 224.283827 \r\nL 305.002686 224.283827 \r\nz\r\n\" style=\"fill:#1f77b4;\"/>\r\n   </g>\r\n   <g id=\"patch_41\">\r\n    <path clip-path=\"url(#p7617c5b7e1)\" d=\"M 307.769628 225.876795 \r\nL 310.53657 225.876795 \r\nL 310.53657 223.221849 \r\nL 307.769628 223.221849 \r\nz\r\n\" style=\"fill:#1f77b4;\"/>\r\n   </g>\r\n   <g id=\"patch_42\">\r\n    <path clip-path=\"url(#p7617c5b7e1)\" d=\"M 310.53657 225.876795 \r\nL 313.303512 225.876795 \r\nL 313.303512 225.345805 \r\nL 310.53657 225.345805 \r\nz\r\n\" style=\"fill:#1f77b4;\"/>\r\n   </g>\r\n   <g id=\"patch_43\">\r\n    <path clip-path=\"url(#p7617c5b7e1)\" d=\"M 313.303512 225.876795 \r\nL 316.070455 225.876795 \r\nL 316.070455 224.814816 \r\nL 313.303512 224.814816 \r\nz\r\n\" style=\"fill:#1f77b4;\"/>\r\n   </g>\r\n   <g id=\"patch_44\">\r\n    <path clip-path=\"url(#p7617c5b7e1)\" d=\"M 316.070455 225.876795 \r\nL 318.837397 225.876795 \r\nL 318.837397 224.814816 \r\nL 316.070455 224.814816 \r\nz\r\n\" style=\"fill:#1f77b4;\"/>\r\n   </g>\r\n   <g id=\"patch_45\">\r\n    <path clip-path=\"url(#p7617c5b7e1)\" d=\"M 318.837397 225.876795 \r\nL 321.604339 225.876795 \r\nL 321.604339 225.345805 \r\nL 318.837397 225.345805 \r\nz\r\n\" style=\"fill:#1f77b4;\"/>\r\n   </g>\r\n   <g id=\"patch_46\">\r\n    <path clip-path=\"url(#p7617c5b7e1)\" d=\"M 321.604339 225.876795 \r\nL 324.371281 225.876795 \r\nL 324.371281 225.345805 \r\nL 321.604339 225.345805 \r\nz\r\n\" style=\"fill:#1f77b4;\"/>\r\n   </g>\r\n   <g id=\"patch_47\">\r\n    <path clip-path=\"url(#p7617c5b7e1)\" d=\"M 324.371281 225.876795 \r\nL 327.138223 225.876795 \r\nL 327.138223 225.345805 \r\nL 324.371281 225.345805 \r\nz\r\n\" style=\"fill:#1f77b4;\"/>\r\n   </g>\r\n   <g id=\"patch_48\">\r\n    <path clip-path=\"url(#p7617c5b7e1)\" d=\"M 327.138223 225.876795 \r\nL 329.905165 225.876795 \r\nL 329.905165 225.876795 \r\nL 327.138223 225.876795 \r\nz\r\n\" style=\"fill:#1f77b4;\"/>\r\n   </g>\r\n   <g id=\"patch_49\">\r\n    <path clip-path=\"url(#p7617c5b7e1)\" d=\"M 329.905165 225.876795 \r\nL 332.672107 225.876795 \r\nL 332.672107 225.876795 \r\nL 329.905165 225.876795 \r\nz\r\n\" style=\"fill:#1f77b4;\"/>\r\n   </g>\r\n   <g id=\"patch_50\">\r\n    <path clip-path=\"url(#p7617c5b7e1)\" d=\"M 332.672107 225.876795 \r\nL 335.43905 225.876795 \r\nL 335.43905 225.876795 \r\nL 332.672107 225.876795 \r\nz\r\n\" style=\"fill:#1f77b4;\"/>\r\n   </g>\r\n   <g id=\"patch_51\">\r\n    <path clip-path=\"url(#p7617c5b7e1)\" d=\"M 335.43905 225.876795 \r\nL 338.205992 225.876795 \r\nL 338.205992 225.876795 \r\nL 335.43905 225.876795 \r\nz\r\n\" style=\"fill:#1f77b4;\"/>\r\n   </g>\r\n   <g id=\"patch_52\">\r\n    <path clip-path=\"url(#p7617c5b7e1)\" d=\"M 338.205992 225.876795 \r\nL 340.972934 225.876795 \r\nL 340.972934 225.876795 \r\nL 338.205992 225.876795 \r\nz\r\n\" style=\"fill:#1f77b4;\"/>\r\n   </g>\r\n   <g id=\"patch_53\">\r\n    <path clip-path=\"url(#p7617c5b7e1)\" d=\"M 340.972934 225.876795 \r\nL 343.739876 225.876795 \r\nL 343.739876 225.876795 \r\nL 340.972934 225.876795 \r\nz\r\n\" style=\"fill:#1f77b4;\"/>\r\n   </g>\r\n   <g id=\"patch_54\">\r\n    <path clip-path=\"url(#p7617c5b7e1)\" d=\"M 343.739876 225.876795 \r\nL 346.506818 225.876795 \r\nL 346.506818 225.876795 \r\nL 343.739876 225.876795 \r\nz\r\n\" style=\"fill:#1f77b4;\"/>\r\n   </g>\r\n   <g id=\"patch_55\">\r\n    <path clip-path=\"url(#p7617c5b7e1)\" d=\"M 346.506818 225.876795 \r\nL 349.27376 225.876795 \r\nL 349.27376 225.876795 \r\nL 346.506818 225.876795 \r\nz\r\n\" style=\"fill:#1f77b4;\"/>\r\n   </g>\r\n   <g id=\"patch_56\">\r\n    <path clip-path=\"url(#p7617c5b7e1)\" d=\"M 349.27376 225.876795 \r\nL 352.040702 225.876795 \r\nL 352.040702 225.876795 \r\nL 349.27376 225.876795 \r\nz\r\n\" style=\"fill:#1f77b4;\"/>\r\n   </g>\r\n   <g id=\"patch_57\">\r\n    <path clip-path=\"url(#p7617c5b7e1)\" d=\"M 352.040702 225.876795 \r\nL 354.807645 225.876795 \r\nL 354.807645 225.345805 \r\nL 352.040702 225.345805 \r\nz\r\n\" style=\"fill:#1f77b4;\"/>\r\n   </g>\r\n   <g id=\"matplotlib.axis_3\">\r\n    <g id=\"xtick_2\">\r\n     <g id=\"line2d_15\">\r\n      <g>\r\n       <use style=\"stroke:#000000;stroke-width:0.8;\" x=\"257.452273\" xlink:href=\"#md82fdec1ff\" y=\"225.876795\"/>\r\n      </g>\r\n     </g>\r\n     <g id=\"text_8\">\r\n      <!-- 20 -->\r\n      <g transform=\"translate(251.089773 240.475232)scale(0.1 -0.1)\">\r\n       <use xlink:href=\"#DejaVuSans-32\"/>\r\n       <use x=\"63.623047\" xlink:href=\"#DejaVuSans-30\"/>\r\n      </g>\r\n     </g>\r\n    </g>\r\n    <g id=\"xtick_3\">\r\n     <g id=\"line2d_16\">\r\n      <g>\r\n       <use style=\"stroke:#000000;stroke-width:0.8;\" x=\"308.691942\" xlink:href=\"#md82fdec1ff\" y=\"225.876795\"/>\r\n      </g>\r\n     </g>\r\n     <g id=\"text_9\">\r\n      <!-- 40 -->\r\n      <g transform=\"translate(302.329442 240.475232)scale(0.1 -0.1)\">\r\n       <use xlink:href=\"#DejaVuSans-34\"/>\r\n       <use x=\"63.623047\" xlink:href=\"#DejaVuSans-30\"/>\r\n      </g>\r\n     </g>\r\n    </g>\r\n    <g id=\"xtick_4\">\r\n     <g id=\"line2d_17\">\r\n      <g>\r\n       <use style=\"stroke:#000000;stroke-width:0.8;\" x=\"359.931612\" xlink:href=\"#md82fdec1ff\" y=\"225.876795\"/>\r\n      </g>\r\n     </g>\r\n     <g id=\"text_10\">\r\n      <!-- 60 -->\r\n      <g transform=\"translate(353.569112 240.475232)scale(0.1 -0.1)\">\r\n       <use xlink:href=\"#DejaVuSans-36\"/>\r\n       <use x=\"63.623047\" xlink:href=\"#DejaVuSans-30\"/>\r\n      </g>\r\n     </g>\r\n    </g>\r\n   </g>\r\n   <g id=\"matplotlib.axis_4\">\r\n    <g id=\"ytick_7\">\r\n     <g id=\"line2d_18\">\r\n      <g>\r\n       <use style=\"stroke:#000000;stroke-width:0.8;\" x=\"209.543182\" xlink:href=\"#m13ccfe9e1b\" y=\"225.876795\"/>\r\n      </g>\r\n     </g>\r\n     <g id=\"text_11\">\r\n      <!-- 0 -->\r\n      <g transform=\"translate(196.180682 229.676013)scale(0.1 -0.1)\">\r\n       <use xlink:href=\"#DejaVuSans-30\"/>\r\n      </g>\r\n     </g>\r\n    </g>\r\n    <g id=\"ytick_8\">\r\n     <g id=\"line2d_19\">\r\n      <g>\r\n       <use style=\"stroke:#000000;stroke-width:0.8;\" x=\"209.543182\" xlink:href=\"#m13ccfe9e1b\" y=\"199.327344\"/>\r\n      </g>\r\n     </g>\r\n     <g id=\"text_12\">\r\n      <!-- 50 -->\r\n      <g transform=\"translate(189.818182 203.126563)scale(0.1 -0.1)\">\r\n       <use xlink:href=\"#DejaVuSans-35\"/>\r\n       <use x=\"63.623047\" xlink:href=\"#DejaVuSans-30\"/>\r\n      </g>\r\n     </g>\r\n    </g>\r\n    <g id=\"ytick_9\">\r\n     <g id=\"line2d_20\">\r\n      <g>\r\n       <use style=\"stroke:#000000;stroke-width:0.8;\" x=\"209.543182\" xlink:href=\"#m13ccfe9e1b\" y=\"172.777893\"/>\r\n      </g>\r\n     </g>\r\n     <g id=\"text_13\">\r\n      <!-- 100 -->\r\n      <g transform=\"translate(183.455682 176.577112)scale(0.1 -0.1)\">\r\n       <use xlink:href=\"#DejaVuSans-31\"/>\r\n       <use x=\"63.623047\" xlink:href=\"#DejaVuSans-30\"/>\r\n       <use x=\"127.246094\" xlink:href=\"#DejaVuSans-30\"/>\r\n      </g>\r\n     </g>\r\n    </g>\r\n    <g id=\"ytick_10\">\r\n     <g id=\"line2d_21\">\r\n      <g>\r\n       <use style=\"stroke:#000000;stroke-width:0.8;\" x=\"209.543182\" xlink:href=\"#m13ccfe9e1b\" y=\"146.228443\"/>\r\n      </g>\r\n     </g>\r\n     <g id=\"text_14\">\r\n      <!-- 150 -->\r\n      <g transform=\"translate(183.455682 150.027662)scale(0.1 -0.1)\">\r\n       <use xlink:href=\"#DejaVuSans-31\"/>\r\n       <use x=\"63.623047\" xlink:href=\"#DejaVuSans-35\"/>\r\n       <use x=\"127.246094\" xlink:href=\"#DejaVuSans-30\"/>\r\n      </g>\r\n     </g>\r\n    </g>\r\n    <g id=\"ytick_11\">\r\n     <g id=\"line2d_22\">\r\n      <g>\r\n       <use style=\"stroke:#000000;stroke-width:0.8;\" x=\"209.543182\" xlink:href=\"#m13ccfe9e1b\" y=\"119.678992\"/>\r\n      </g>\r\n     </g>\r\n     <g id=\"text_15\">\r\n      <!-- 200 -->\r\n      <g transform=\"translate(183.455682 123.478211)scale(0.1 -0.1)\">\r\n       <use xlink:href=\"#DejaVuSans-32\"/>\r\n       <use x=\"63.623047\" xlink:href=\"#DejaVuSans-30\"/>\r\n       <use x=\"127.246094\" xlink:href=\"#DejaVuSans-30\"/>\r\n      </g>\r\n     </g>\r\n    </g>\r\n    <g id=\"ytick_12\">\r\n     <g id=\"line2d_23\">\r\n      <g>\r\n       <use style=\"stroke:#000000;stroke-width:0.8;\" x=\"209.543182\" xlink:href=\"#m13ccfe9e1b\" y=\"93.129542\"/>\r\n      </g>\r\n     </g>\r\n     <g id=\"text_16\">\r\n      <!-- 250 -->\r\n      <g transform=\"translate(183.455682 96.928761)scale(0.1 -0.1)\">\r\n       <use xlink:href=\"#DejaVuSans-32\"/>\r\n       <use x=\"63.623047\" xlink:href=\"#DejaVuSans-35\"/>\r\n       <use x=\"127.246094\" xlink:href=\"#DejaVuSans-30\"/>\r\n      </g>\r\n     </g>\r\n    </g>\r\n    <g id=\"ytick_13\">\r\n     <g id=\"line2d_24\">\r\n      <g>\r\n       <use style=\"stroke:#000000;stroke-width:0.8;\" x=\"209.543182\" xlink:href=\"#m13ccfe9e1b\" y=\"66.580091\"/>\r\n      </g>\r\n     </g>\r\n     <g id=\"text_17\">\r\n      <!-- 300 -->\r\n      <g transform=\"translate(183.455682 70.37931)scale(0.1 -0.1)\">\r\n       <use xlink:href=\"#DejaVuSans-33\"/>\r\n       <use x=\"63.623047\" xlink:href=\"#DejaVuSans-30\"/>\r\n       <use x=\"127.246094\" xlink:href=\"#DejaVuSans-30\"/>\r\n      </g>\r\n     </g>\r\n    </g>\r\n    <g id=\"ytick_14\">\r\n     <g id=\"line2d_25\">\r\n      <g>\r\n       <use style=\"stroke:#000000;stroke-width:0.8;\" x=\"209.543182\" xlink:href=\"#m13ccfe9e1b\" y=\"40.030641\"/>\r\n      </g>\r\n     </g>\r\n     <g id=\"text_18\">\r\n      <!-- 350 -->\r\n      <g transform=\"translate(183.455682 43.829859)scale(0.1 -0.1)\">\r\n       <use xlink:href=\"#DejaVuSans-33\"/>\r\n       <use x=\"63.623047\" xlink:href=\"#DejaVuSans-35\"/>\r\n       <use x=\"127.246094\" xlink:href=\"#DejaVuSans-30\"/>\r\n      </g>\r\n     </g>\r\n    </g>\r\n    <g id=\"ytick_15\">\r\n     <g id=\"line2d_26\">\r\n      <g>\r\n       <use style=\"stroke:#000000;stroke-width:0.8;\" x=\"209.543182\" xlink:href=\"#m13ccfe9e1b\" y=\"13.48119\"/>\r\n      </g>\r\n     </g>\r\n     <g id=\"text_19\">\r\n      <!-- 400 -->\r\n      <g transform=\"translate(183.455682 17.280409)scale(0.1 -0.1)\">\r\n       <use xlink:href=\"#DejaVuSans-34\"/>\r\n       <use x=\"63.623047\" xlink:href=\"#DejaVuSans-30\"/>\r\n       <use x=\"127.246094\" xlink:href=\"#DejaVuSans-30\"/>\r\n      </g>\r\n     </g>\r\n    </g>\r\n   </g>\r\n   <g id=\"patch_58\">\r\n    <path d=\"M 209.543182 225.876795 \r\nL 209.543182 8.436795 \r\n\" style=\"fill:none;stroke:#000000;stroke-linecap:square;stroke-linejoin:miter;stroke-width:0.8;\"/>\r\n   </g>\r\n   <g id=\"patch_59\">\r\n    <path d=\"M 361.725 225.876795 \r\nL 361.725 8.436795 \r\n\" style=\"fill:none;stroke:#000000;stroke-linecap:square;stroke-linejoin:miter;stroke-width:0.8;\"/>\r\n   </g>\r\n   <g id=\"patch_60\">\r\n    <path d=\"M 209.543182 225.876795 \r\nL 361.725 225.876795 \r\n\" style=\"fill:none;stroke:#000000;stroke-linecap:square;stroke-linejoin:miter;stroke-width:0.8;\"/>\r\n   </g>\r\n   <g id=\"patch_61\">\r\n    <path d=\"M 209.543182 8.436795 \r\nL 361.725 8.436795 \r\n\" style=\"fill:none;stroke:#000000;stroke-linecap:square;stroke-linejoin:miter;stroke-width:0.8;\"/>\r\n   </g>\r\n  </g>\r\n </g>\r\n <defs>\r\n  <clipPath id=\"paa3a01c15a\">\r\n   <rect height=\"217.44\" width=\"152.181818\" x=\"26.925\" y=\"8.436795\"/>\r\n  </clipPath>\r\n  <clipPath id=\"p7617c5b7e1\">\r\n   <rect height=\"217.44\" width=\"152.181818\" x=\"209.543182\" y=\"8.436795\"/>\r\n  </clipPath>\r\n </defs>\r\n</svg>\r\n",
      "image/png": "[encoded data removed]"
     },
     "metadata": {
      "needs_background": "light"
     }
    }
   ],
   "metadata": {}
  },
  {
   "cell_type": "code",
   "execution_count": 9,
   "source": [
    "unique_elements, counts_elements = np.unique(y_train, return_counts=True)\r\n",
    "print(\"각 레이블에 대한 빈도수:\")\r\n",
    "print(np.asarray((unique_elements, counts_elements)))"
   ],
   "outputs": [
    {
     "output_type": "stream",
     "name": "stdout",
     "text": [
      "각 레이블에 대한 빈도수:\n",
      "[[   0    1]\n",
      " [2285 2768]]\n"
     ]
    }
   ],
   "metadata": {}
  },
  {
   "cell_type": "code",
   "execution_count": 10,
   "source": [
    "import re\r\n",
    "from tensorflow.keras.datasets import imdb\r\n",
    "from tensorflow.keras.preprocessing.sequence import pad_sequences\r\n",
    "from tensorflow.keras.models import Sequential\r\n",
    "from tensorflow.keras.layers import Dense, GRU, Embedding\r\n",
    "from tensorflow.keras.callbacks import EarlyStopping, ModelCheckpoint\r\n",
    "from tensorflow.keras.models import load_model"
   ],
   "outputs": [],
   "metadata": {}
  },
  {
   "cell_type": "code",
   "execution_count": 11,
   "source": [
    "max_len = 40\r\n",
    "X_train = pad_sequences(X_train, maxlen=max_len)\r\n",
    "X_test = pad_sequences(X_test, maxlen=max_len)"
   ],
   "outputs": [],
   "metadata": {}
  },
  {
   "cell_type": "code",
   "execution_count": 12,
   "source": [
    "vocab_size = 10000"
   ],
   "outputs": [],
   "metadata": {}
  },
  {
   "cell_type": "code",
   "execution_count": 13,
   "source": [
    "model = Sequential()\r\n",
    "model.add(Embedding(vocab_size, 100))\r\n",
    "model.add(GRU(128))\r\n",
    "model.add(Dense(1, activation='sigmoid'))"
   ],
   "outputs": [],
   "metadata": {}
  },
  {
   "cell_type": "code",
   "execution_count": 14,
   "source": [
    "es = EarlyStopping(monitor='val_loss', mode='min', verbose=1, patience=4)\r\n",
    "mc = ModelCheckpoint('GRU_model.h5', monitor='val_acc', mode='max', verbose=1, save_best_only=True)"
   ],
   "outputs": [],
   "metadata": {}
  },
  {
   "cell_type": "code",
   "execution_count": 16,
   "source": [
    "model.compile(optimizer='rmsprop', loss='binary_crossentropy', metrics=['acc'])\r\n",
    "# history = model.fit(X_train, y_train, epochs=15, callbacks=[es, mc], batch_size=60, validation_split=0.2)"
   ],
   "outputs": [],
   "metadata": {}
  },
  {
   "cell_type": "code",
   "execution_count": null,
   "source": [],
   "outputs": [],
   "metadata": {}
  }
 ],
 "metadata": {
  "orig_nbformat": 4,
  "language_info": {
   "name": "python",
   "version": "3.8.10",
   "mimetype": "text/x-python",
   "codemirror_mode": {
    "name": "ipython",
    "version": 3
   },
   "pygments_lexer": "ipython3",
   "nbconvert_exporter": "python",
   "file_extension": ".py"
  },
  "kernelspec": {
   "name": "python3",
   "display_name": "Python 3.8.10 64-bit ('bert': conda)"
  },
  "interpreter": {
   "hash": "40b9cf565d070ee13d37836166faa1e65075ac740510169fa1bf4f89f6b88bdd"
  }
 },
 "nbformat": 4,
 "nbformat_minor": 2
}