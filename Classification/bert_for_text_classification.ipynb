{
 "cells": [
  {
   "cell_type": "code",
   "execution_count": null,
   "metadata": {},
   "outputs": [],
   "source": []
  },
  {
   "cell_type": "code",
   "execution_count": 8,
   "metadata": {},
   "outputs": [],
   "source": [
    "import warnings\r\n",
    "warnings.filterwarnings(action='ignore', category=UserWarning, module='gensim')\r\n",
    "## for data\r\n",
    "import json\r\n",
    "import pandas as pd\r\n",
    "import numpy as np\r\n",
    "from sklearn import metrics, manifold\r\n",
    "## for processing\r\n",
    "import re\r\n",
    "import nltk\r\n",
    "## for plotting\r\n",
    "import matplotlib.pyplot as plt\r\n",
    "import seaborn as sns\r\n",
    "## for w2v\r\n",
    "import gensim\r\n",
    "import gensim.downloader as gensim_api\r\n",
    "## for bert\r\n",
    "import transformers"
   ]
  },
  {
   "cell_type": "code",
   "execution_count": 9,
   "metadata": {},
   "outputs": [
    {
     "data": {
      "text/plain": [
       "{'category': 'CRIME',\n",
       " 'headline': 'There Were 2 Mass Shootings In Texas Last Week, But Only 1 On TV',\n",
       " 'authors': 'Melissa Jeltsen',\n",
       " 'link': 'https://www.huffingtonpost.com/entry/texas-amanda-painter-mass-shooting_us_5b081ab4e4b0802d69caad89',\n",
       " 'short_description': 'She left her husband. He killed their children. Just another day in America.',\n",
       " 'date': '2018-05-26'}"
      ]
     },
     "execution_count": 9,
     "metadata": {},
     "output_type": "execute_result"
    }
   ],
   "source": [
    "lst_dics = []\r\n",
    "with open('data.json', mode='r', errors='ignore') as json_file:\r\n",
    "    for dic in json_file:\r\n",
    "        lst_dics.append( json.loads(dic) )\r\n",
    "## print the first one\r\n",
    "lst_dics[0]"
   ]
  },
  {
   "cell_type": "code",
   "execution_count": 10,
   "metadata": {},
   "outputs": [
    {
     "data": {
      "text/html": [
       "<div>\n",
       "<style scoped>\n",
       "    .dataframe tbody tr th:only-of-type {\n",
       "        vertical-align: middle;\n",
       "    }\n",
       "\n",
       "    .dataframe tbody tr th {\n",
       "        vertical-align: top;\n",
       "    }\n",
       "\n",
       "    .dataframe thead th {\n",
       "        text-align: right;\n",
       "    }\n",
       "</style>\n",
       "<table border=\"1\" class=\"dataframe\">\n",
       "  <thead>\n",
       "    <tr style=\"text-align: right;\">\n",
       "      <th></th>\n",
       "      <th>y</th>\n",
       "      <th>text</th>\n",
       "    </tr>\n",
       "  </thead>\n",
       "  <tbody>\n",
       "    <tr>\n",
       "      <th>59122</th>\n",
       "      <td>ENTERTAINMENT</td>\n",
       "      <td>French Comedian Targets Woody Allen With Rape ...</td>\n",
       "    </tr>\n",
       "    <tr>\n",
       "      <th>14109</th>\n",
       "      <td>ENTERTAINMENT</td>\n",
       "      <td>Film Producers' Discussion On Weinstein Scanda...</td>\n",
       "    </tr>\n",
       "    <tr>\n",
       "      <th>67489</th>\n",
       "      <td>POLITICS</td>\n",
       "      <td>Panel Says LAPD Killing Of Homeless Man Was OK...</td>\n",
       "    </tr>\n",
       "    <tr>\n",
       "      <th>93729</th>\n",
       "      <td>POLITICS</td>\n",
       "      <td>Land Rights: One Key to Women's Economic Empow...</td>\n",
       "    </tr>\n",
       "    <tr>\n",
       "      <th>9953</th>\n",
       "      <td>POLITICS</td>\n",
       "      <td>White Nationalists Have Been Saying 'Diversity...</td>\n",
       "    </tr>\n",
       "  </tbody>\n",
       "</table>\n",
       "</div>"
      ],
      "text/plain": [
       "                   y                                               text\n",
       "59122  ENTERTAINMENT  French Comedian Targets Woody Allen With Rape ...\n",
       "14109  ENTERTAINMENT  Film Producers' Discussion On Weinstein Scanda...\n",
       "67489       POLITICS  Panel Says LAPD Killing Of Homeless Man Was OK...\n",
       "93729       POLITICS  Land Rights: One Key to Women's Economic Empow...\n",
       "9953        POLITICS  White Nationalists Have Been Saying 'Diversity..."
      ]
     },
     "execution_count": 10,
     "metadata": {},
     "output_type": "execute_result"
    }
   ],
   "source": [
    "## create dtf\r\n",
    "dtf = pd.DataFrame(lst_dics)\r\n",
    "## filter categories\r\n",
    "dtf = dtf[ dtf[\"category\"].isin(['ENTERTAINMENT','POLITICS','TECH'])        ][[\"category\",\"headline\"]]\r\n",
    "## rename columns\r\n",
    "dtf = dtf.rename(columns={\"category\":\"y\", \"headline\":\"text\"})\r\n",
    "## print 5 random rows\r\n",
    "dtf.sample(5)"
   ]
  },
  {
   "cell_type": "code",
   "execution_count": 12,
   "metadata": {},
   "outputs": [],
   "source": [
    "'''\r\n",
    "Preprocess a string.\r\n",
    ":parameter\r\n",
    "    :param text: string - name of column containing text\r\n",
    "    :param lst_stopwords: list - list of stopwords to remove\r\n",
    "    :param flg_stemm: bool - whether stemming is to be applied\r\n",
    "    :param flg_lemm: bool - whether lemmitisation is to be applied\r\n",
    ":return\r\n",
    "    cleaned text\r\n",
    "'''\r\n",
    "def utils_preprocess_text(text, flg_stemm=False, flg_lemm=True, lst_stopwords=None):\r\n",
    "    ## clean (convert to lowercase and remove punctuations and characters and then strip)\r\n",
    "    text = re.sub(r'[^\\w\\s]', '', str(text).lower().strip())\r\n",
    "            \r\n",
    "    ## Tokenize (convert from string to list)\r\n",
    "    lst_text = text.split()    \r\n",
    "    ## remove Stopwords\r\n",
    "    if lst_stopwords is not None:\r\n",
    "        lst_text = [word for word in lst_text if word not in \r\n",
    "                    lst_stopwords]\r\n",
    "                \r\n",
    "    ## Stemming (remove -ing, -ly, ...)\r\n",
    "    if flg_stemm == True:\r\n",
    "        ps = nltk.stem.porter.PorterStemmer()\r\n",
    "        lst_text = [ps.stem(word) for word in lst_text]\r\n",
    "                \r\n",
    "    ## Lemmatisation (convert the word into root word)\r\n",
    "    if flg_lemm == True:\r\n",
    "        lem = nltk.stem.wordnet.WordNetLemmatizer()\r\n",
    "        lst_text = [lem.lemmatize(word) for word in lst_text]\r\n",
    "            \r\n",
    "    ## back to string from list\r\n",
    "    text = \" \".join(lst_text)\r\n",
    "    return text"
   ]
  },
  {
   "cell_type": "code",
   "execution_count": 14,
   "metadata": {},
   "outputs": [],
   "source": [
    "lst_stopwords = nltk.corpus.stopwords.words(\"english\")\r\n",
    "#lst_stopwords"
   ]
  },
  {
   "cell_type": "code",
   "execution_count": 15,
   "metadata": {},
   "outputs": [
    {
     "data": {
      "text/html": [
       "<div>\n",
       "<style scoped>\n",
       "    .dataframe tbody tr th:only-of-type {\n",
       "        vertical-align: middle;\n",
       "    }\n",
       "\n",
       "    .dataframe tbody tr th {\n",
       "        vertical-align: top;\n",
       "    }\n",
       "\n",
       "    .dataframe thead th {\n",
       "        text-align: right;\n",
       "    }\n",
       "</style>\n",
       "<table border=\"1\" class=\"dataframe\">\n",
       "  <thead>\n",
       "    <tr style=\"text-align: right;\">\n",
       "      <th></th>\n",
       "      <th>y</th>\n",
       "      <th>text</th>\n",
       "      <th>text_clean</th>\n",
       "    </tr>\n",
       "  </thead>\n",
       "  <tbody>\n",
       "    <tr>\n",
       "      <th>1</th>\n",
       "      <td>ENTERTAINMENT</td>\n",
       "      <td>Will Smith Joins Diplo And Nicky Jam For The 2...</td>\n",
       "      <td>smith join diplo nicky jam 2018 world cup offi...</td>\n",
       "    </tr>\n",
       "    <tr>\n",
       "      <th>2</th>\n",
       "      <td>ENTERTAINMENT</td>\n",
       "      <td>Hugh Grant Marries For The First Time At Age 57</td>\n",
       "      <td>hugh grant marries first time age 57</td>\n",
       "    </tr>\n",
       "    <tr>\n",
       "      <th>3</th>\n",
       "      <td>ENTERTAINMENT</td>\n",
       "      <td>Jim Carrey Blasts 'Castrato' Adam Schiff And D...</td>\n",
       "      <td>jim carrey blast castrato adam schiff democrat...</td>\n",
       "    </tr>\n",
       "    <tr>\n",
       "      <th>4</th>\n",
       "      <td>ENTERTAINMENT</td>\n",
       "      <td>Julianna Margulies Uses Donald Trump Poop Bags...</td>\n",
       "      <td>julianna margulies us donald trump poop bag pi...</td>\n",
       "    </tr>\n",
       "    <tr>\n",
       "      <th>5</th>\n",
       "      <td>ENTERTAINMENT</td>\n",
       "      <td>Morgan Freeman 'Devastated' That Sexual Harass...</td>\n",
       "      <td>morgan freeman devastated sexual harassment cl...</td>\n",
       "    </tr>\n",
       "  </tbody>\n",
       "</table>\n",
       "</div>"
      ],
      "text/plain": [
       "               y                                               text  \\\n",
       "1  ENTERTAINMENT  Will Smith Joins Diplo And Nicky Jam For The 2...   \n",
       "2  ENTERTAINMENT    Hugh Grant Marries For The First Time At Age 57   \n",
       "3  ENTERTAINMENT  Jim Carrey Blasts 'Castrato' Adam Schiff And D...   \n",
       "4  ENTERTAINMENT  Julianna Margulies Uses Donald Trump Poop Bags...   \n",
       "5  ENTERTAINMENT  Morgan Freeman 'Devastated' That Sexual Harass...   \n",
       "\n",
       "                                          text_clean  \n",
       "1  smith join diplo nicky jam 2018 world cup offi...  \n",
       "2               hugh grant marries first time age 57  \n",
       "3  jim carrey blast castrato adam schiff democrat...  \n",
       "4  julianna margulies us donald trump poop bag pi...  \n",
       "5  morgan freeman devastated sexual harassment cl...  "
      ]
     },
     "execution_count": 15,
     "metadata": {},
     "output_type": "execute_result"
    }
   ],
   "source": [
    "dtf[\"text_clean\"] = dtf[\"text\"].apply(lambda x: \r\n",
    "          utils_preprocess_text(x, flg_stemm=False, flg_lemm=True, \r\n",
    "          lst_stopwords=lst_stopwords))\r\n",
    "dtf.head()"
   ]
  },
  {
   "cell_type": "code",
   "execution_count": 16,
   "metadata": {},
   "outputs": [
    {
     "name": "stdout",
     "output_type": "stream",
     "text": [
      "[==================================================] 100.0% 376.1/376.1MB downloaded\n"
     ]
    },
    {
     "name": "stderr",
     "output_type": "stream",
     "text": [
      "C:\\Users\\USER-PC\\anaconda3\\envs\\bert\\lib\\site-packages\\smart_open\\smart_open_lib.py:400: UserWarning: This function is deprecated, use smart_open.open instead. See the migration notes for details: https://github.com/RaRe-Technologies/smart_open/blob/master/README.rst#migrating-to-the-new-open-function\n",
      "  warnings.warn(\n"
     ]
    }
   ],
   "source": [
    "nlp = gensim_api.load(\"glove-wiki-gigaword-300\")"
   ]
  },
  {
   "cell_type": "code",
   "execution_count": 18,
   "metadata": {},
   "outputs": [
    {
     "data": {
      "text/plain": [
       "[('barack', 0.9254721403121948),\n",
       " ('mccain', 0.7590768337249756),\n",
       " ('bush', 0.7570987939834595)]"
      ]
     },
     "execution_count": 18,
     "metadata": {},
     "output_type": "execute_result"
    }
   ],
   "source": [
    "nlp.most_similar([\"obama\"], topn=3)"
   ]
  },
  {
   "cell_type": "code",
   "execution_count": 20,
   "metadata": {},
   "outputs": [
    {
     "name": "stdout",
     "output_type": "stream",
     "text": [
      "ENTERTAINMENT :  ['film', 'filmmakers', 'dance', 'entertainment', 'documentary'] ... 34\n",
      "POLITICS :  ['administration', 'democrats', 'lawmakers', 'bush', 'voters'] ... 35\n",
      "TECH :  ['google', 'myspace', 'smartphone', 'facebook', 'blackberry'] ... 37\n"
     ]
    }
   ],
   "source": [
    "## Function to apply\r\n",
    "def get_similar_words(lst_words, top, nlp):\r\n",
    "    lst_out = lst_words\r\n",
    "    for tupla in nlp.most_similar(lst_words, topn=top):\r\n",
    "        lst_out.append(tupla[0])\r\n",
    "    return list(set(lst_out))\r\n",
    "## Create Dictionary {category:[keywords]}\r\n",
    "dic_clusters = {}\r\n",
    "dic_clusters[\"ENTERTAINMENT\"] = get_similar_words(['celebrity','cinema','movie','music'], \r\n",
    "                  top=30, nlp=nlp)\r\n",
    "dic_clusters[\"POLITICS\"] = get_similar_words(['gop','clinton','president','obama','republican']\r\n",
    "                  , top=30, nlp=nlp)\r\n",
    "dic_clusters[\"TECH\"] = get_similar_words(['amazon','android','app','apple','facebook',\r\n",
    "                   'google','tech'], \r\n",
    "                   top=30, nlp=nlp)\r\n",
    "## print some\r\n",
    "for k,v in dic_clusters.items():\r\n",
    "    print(k, \": \", v[0:5], \"...\", len(v))"
   ]
  },
  {
   "cell_type": "code",
   "execution_count": 22,
   "metadata": {},
   "outputs": [
    {
     "name": "stderr",
     "output_type": "stream",
     "text": [
      "Downloading: 100%|██████████| 232k/232k [00:00<00:00, 419kB/s]\n",
      "Downloading: 100%|██████████| 28.0/28.0 [00:00<00:00, 7.00kB/s]\n",
      "Downloading: 100%|██████████| 466k/466k [00:00<00:00, 886kB/s]\n",
      "Downloading: 100%|██████████| 570/570 [00:00<00:00, 114kB/s]\n",
      "Downloading: 100%|██████████| 536M/536M [03:02<00:00, 2.94MB/s]\n",
      "Some layers from the model checkpoint at bert-base-uncased were not used when initializing TFBertModel: ['nsp___cls', 'mlm___cls']\n",
      "- This IS expected if you are initializing TFBertModel from the checkpoint of a model trained on another task or with another architecture (e.g. initializing a BertForSequenceClassification model from a BertForPreTraining model).\n",
      "- This IS NOT expected if you are initializing TFBertModel from the checkpoint of a model that you expect to be exactly identical (initializing a BertForSequenceClassification model from a BertForSequenceClassification model).\n",
      "All the layers of TFBertModel were initialized from the model checkpoint at bert-base-uncased.\n",
      "If your task is similar to the task the model of the checkpoint was trained on, you can already use TFBertModel for predictions without further training.\n"
     ]
    }
   ],
   "source": [
    "tokenizer = transformers.BertTokenizer.from_pretrained('bert-base-uncased', do_lower_case=True)\r\n",
    "nlp = transformers.TFBertModel.from_pretrained('bert-base-uncased')"
   ]
  },
  {
   "cell_type": "code",
   "execution_count": 23,
   "metadata": {},
   "outputs": [
    {
     "name": "stdout",
     "output_type": "stream",
     "text": [
      "tokens: ['[CLS]', 'river', 'bank', '[SEP]']\n",
      "ids   : [101, 2314, 2924, 102]\n",
      "shape: (4, 768)\n"
     ]
    },
    {
     "data": {
      "text/plain": [
       "<tf.Tensor: shape=(768,), dtype=float32, numpy=\n",
       "array([-7.05827102e-02, -6.21527553e-01, -7.02520311e-01, -2.49586985e-01,\n",
       "        5.77253699e-01,  4.81010646e-01,  2.44046226e-01,  5.12865663e-01,\n",
       "       -3.52891445e-01, -8.16163182e-01,  3.99641186e-01,  1.81418300e-01,\n",
       "        5.12113333e-01,  1.44479722e-01, -1.42232692e+00, -1.06336966e-01,\n",
       "        1.06125111e-02, -4.34668839e-01,  1.13796687e+00,  7.06452131e-02,\n",
       "        6.18477285e-01,  5.76443672e-02,  2.41198197e-01,  2.96010464e-01,\n",
       "       -2.22419560e-01,  2.06983462e-01,  4.50172514e-01,  1.95635647e-01,\n",
       "        7.22172111e-03,  7.06085622e-01,  6.82602763e-01, -3.35965782e-01,\n",
       "        4.75640535e-01,  3.38769346e-01, -1.90572962e-01, -1.12145936e+00,\n",
       "       -4.32035848e-02, -1.56870484e-01,  4.73270342e-02,  3.38265628e-01,\n",
       "       -4.73710716e-01, -2.87371486e-01, -6.14665225e-02,  3.93013544e-02,\n",
       "       -9.84503105e-02,  5.61598176e-03,  2.15945363e-01, -3.90439332e-02,\n",
       "       -7.03860760e-01,  1.26936302e-01,  2.32843421e-02,  3.95275086e-01,\n",
       "       -6.29367828e-01,  3.81524973e-02,  1.70966282e-01,  5.68102002e-01,\n",
       "        3.44137430e-01, -3.54945987e-01, -6.42791748e-01,  3.69594730e-02,\n",
       "        4.56914723e-01, -4.81999785e-01, -1.08038493e-01, -3.91957134e-01,\n",
       "       -4.09933738e-03,  1.90877751e-01,  4.32798624e-01,  4.64556038e-01,\n",
       "       -1.09928131e-01,  4.95213956e-01,  3.35495293e-01,  9.19854581e-01,\n",
       "        1.60181642e-01, -3.24443281e-01, -2.13523909e-01, -2.57019669e-01,\n",
       "       -9.23125744e-02,  3.47400010e-01,  1.76727846e-02, -6.76496863e-01,\n",
       "        2.30421908e-02,  3.04451734e-01, -3.35734129e-01, -3.64999592e-01,\n",
       "        2.54926026e-01, -3.78185790e-03, -2.61938363e-01,  4.59397919e-02,\n",
       "       -5.98168790e-01,  1.34261817e-01, -2.98307836e-03, -2.02113807e-01,\n",
       "       -3.15182209e-01, -4.79585946e-01, -5.52915812e-01, -6.71898782e-01,\n",
       "       -5.31220317e-01,  4.36105132e-01,  2.09883407e-01,  4.80141751e-02,\n",
       "        1.39079675e-01, -1.47947741e+00,  5.66853881e-01,  6.15151942e-01,\n",
       "       -3.56206834e-01, -2.63007134e-01,  1.01348814e-02, -6.43103004e-01,\n",
       "        2.58244187e-01,  2.32510507e-01,  4.64122832e-01, -2.44039431e-01,\n",
       "        4.84117627e-01, -3.53591412e-01, -2.42071122e-01,  7.80022085e-01,\n",
       "       -4.30728853e-01, -2.18241304e-01,  5.32292053e-02, -2.59027094e-01,\n",
       "        4.95923012e-02, -7.91402400e-01, -9.06889327e-03,  6.38764322e-01,\n",
       "        4.24308062e-01, -1.31179661e-01, -4.59277809e-01,  3.56200814e-01,\n",
       "       -1.75914004e-01,  3.44448909e-02,  5.73057353e-01,  6.46475792e-01,\n",
       "       -3.10186982e-01, -2.63747215e-01,  1.71438545e-01,  4.31292295e-01,\n",
       "        2.61798054e-01, -5.92406690e-01,  1.16353393e-01, -1.67204499e-01,\n",
       "        1.51266128e-01,  2.25872844e-01,  5.90591788e-01, -3.84858280e-01,\n",
       "        7.62636006e-01,  3.75622123e-01, -2.16540527e-02,  2.61098519e-03,\n",
       "       -1.22948349e-01, -1.42603084e-01, -5.58466852e-01,  1.84801728e-01,\n",
       "        1.34969175e-01, -3.00817788e-01, -1.40653789e-01, -2.84046203e-01,\n",
       "        3.68142188e-01, -7.88778961e-02,  8.16226900e-02,  3.53941739e-01,\n",
       "        7.25305021e-01, -1.98859349e-01, -9.37019587e-02, -2.47795850e-01,\n",
       "        1.00953206e-02, -4.40253556e-01,  8.03754181e-02,  8.61830533e-01,\n",
       "       -2.80023158e-01,  2.43793637e-01, -2.55485475e-01, -6.22629106e-01,\n",
       "        8.91299546e-01, -3.78196746e-01,  4.81684744e-01, -1.31670356e-01,\n",
       "       -9.29355770e-02, -2.27651820e-01, -2.18559742e-01,  2.51978904e-01,\n",
       "       -4.14544791e-01,  6.38254225e-01, -2.09496096e-01, -2.63460308e-01,\n",
       "        1.16116509e-01, -2.14024067e-01, -2.03433335e-02, -3.07719201e-01,\n",
       "        4.89083529e-01, -5.23291707e-01, -2.68585652e-01, -2.40036666e-01,\n",
       "       -1.06200290e+00,  1.88385248e-02, -1.60929158e-01, -1.01986051e+00,\n",
       "        5.90836763e-01, -6.42786622e-01, -8.47220570e-02, -3.06485236e-01,\n",
       "        8.82111430e-01, -2.22461835e-01,  6.53649509e-01,  1.32980734e-01,\n",
       "       -7.89768100e-02,  1.58833712e-01,  5.28017431e-02, -5.36138952e-01,\n",
       "        3.76915306e-01, -1.95731491e-01, -1.05869663e+00,  1.22580242e+00,\n",
       "       -4.32513028e-01,  1.56179070e-01,  4.17976469e-01,  5.06608307e-01,\n",
       "        3.00547600e-01, -1.15750760e-01, -1.31255254e-01,  2.43952945e-01,\n",
       "        3.04259747e-01, -1.83685362e-01, -2.73577750e-01,  2.48490661e-01,\n",
       "       -5.74733675e-01,  1.66123658e-01,  8.01433682e-01, -7.78994441e-01,\n",
       "        3.50740373e-01,  9.98873636e-03, -1.67533934e-01, -1.51168182e-03,\n",
       "        6.18821263e-01, -9.38167393e-01, -7.05288410e-01,  3.10600370e-01,\n",
       "       -4.72784162e-01, -2.59007514e-03, -5.65332919e-02, -2.70521164e-01,\n",
       "       -8.73118937e-02, -2.50815928e-01,  7.15852022e-01, -4.99997526e-01,\n",
       "        8.42951119e-01, -3.66680562e-01,  5.70344448e-01,  3.78285110e-01,\n",
       "       -4.06488478e-01,  2.36989513e-01,  1.88772738e-01, -2.41789341e-01,\n",
       "        2.68503070e-01, -6.70118749e-01, -5.28158545e-01, -6.28461421e-01,\n",
       "        5.09836137e-01, -1.22899842e-02,  1.33168682e-01,  4.49766427e-01,\n",
       "        6.74466550e-01,  5.70162177e-01,  2.45731354e-01,  4.01135296e-01,\n",
       "       -9.42872822e-01,  1.56791598e-01, -1.69289261e-01,  1.17979497e-02,\n",
       "        3.04227054e-01, -3.04854691e-01, -3.91247123e-02, -3.05510703e-02,\n",
       "       -7.21113503e-01,  1.06757462e+00,  3.00461471e-01,  4.18399602e-01,\n",
       "        8.31745863e-01,  4.51772064e-01,  3.79973322e-01,  3.88880037e-02,\n",
       "        6.57027662e-01,  7.25771844e-01, -3.14089268e-01, -3.59060019e-01,\n",
       "        1.83104545e-01, -1.54706061e-01, -5.56595683e-01,  9.98495102e-01,\n",
       "       -6.66042119e-02, -6.32119238e-01, -4.20219004e-01,  7.07993090e-01,\n",
       "       -2.81464666e-01,  1.29889399e-01,  4.32142973e-01,  1.84356719e-01,\n",
       "        1.45688966e-01,  3.84362698e-01,  7.92328715e-01, -5.64119101e-01,\n",
       "       -1.06446810e-01,  5.07816315e-01,  6.34553432e-01, -4.61482406e-01,\n",
       "        2.33552195e-02, -2.44355366e-01,  2.96665505e-02,  3.87939185e-01,\n",
       "       -5.09566641e+00,  3.25123221e-01,  2.70959616e-01, -2.45784819e-01,\n",
       "        5.20607710e-01, -2.59496093e-01,  2.26687551e-01,  4.12778944e-01,\n",
       "       -9.39293623e-01, -3.45668554e-01, -2.12369293e-01, -2.65309632e-01,\n",
       "        9.28744256e-01,  1.25976831e-01,  4.61863220e-01, -1.70685932e-01,\n",
       "        2.99391486e-02, -1.23116724e-01, -3.72413248e-01,  7.04001546e-01,\n",
       "       -8.60568941e-01, -3.96888375e-01,  1.74347550e-01,  3.43545675e-02,\n",
       "        2.94832945e-01, -5.51688299e-02, -9.04103398e-01,  5.14416277e-01,\n",
       "       -5.95654547e-01, -8.28737080e-01, -3.05773556e-01, -4.44462925e-01,\n",
       "        2.46776715e-01,  2.60024935e-01, -3.76848131e-02, -2.72340596e-01,\n",
       "       -3.23043048e-01, -1.95683718e-01,  1.35771751e+00,  2.64337510e-01,\n",
       "       -3.37069511e-01,  2.24706426e-01,  1.42338611e-02,  6.10763967e-01,\n",
       "        6.25047326e-01, -2.88993716e-02, -1.12058990e-01,  6.25597388e-02,\n",
       "        9.25820768e-02,  3.06361526e-01,  6.45154476e-01, -3.09156239e-01,\n",
       "        1.95047721e-01, -4.13477212e-01,  1.58219963e-01,  2.78789215e-02,\n",
       "        2.99770296e-01,  4.09381390e-01, -1.60664588e-01, -5.25604546e-01,\n",
       "        9.30654816e-03, -2.23911926e-01, -7.08211899e-01,  7.54811585e-01,\n",
       "        1.37300014e-01, -6.34857893e-01, -3.26268524e-01, -6.11436188e-01,\n",
       "       -1.08044699e-01,  4.68449265e-01, -1.36660084e-01, -3.57971303e-02,\n",
       "       -4.62620705e-02, -1.34921634e+00, -6.69133186e-01, -7.68017322e-02,\n",
       "       -1.38482213e-01, -6.91290140e-01,  3.45081657e-01,  2.06307501e-01,\n",
       "        4.06489730e-01,  2.18173951e-01,  4.89817679e-01, -2.52893448e-01,\n",
       "       -3.96638513e-01, -1.33443102e-02,  2.86451578e-01, -8.36115479e-01,\n",
       "       -5.79416931e-01,  1.55946285e-01,  1.87062752e-02,  2.27966815e-01,\n",
       "        8.22064340e-01, -5.46185859e-02,  2.38468781e-01, -1.75585151e-02,\n",
       "       -1.40486527e-02, -5.42532563e-01,  5.88290513e-01, -4.79511052e-01,\n",
       "        4.75604594e-01,  1.37694135e-01,  2.97962755e-01, -1.64478198e-02,\n",
       "        1.56845808e-01, -1.74292877e-01, -3.28885496e-01, -2.70638913e-02,\n",
       "       -5.12318730e-01,  5.36372662e-01,  4.98791128e-01, -6.76409364e-01,\n",
       "        8.93730819e-01, -4.10579413e-01, -4.41285372e-01,  6.65356159e-01,\n",
       "       -3.68789822e-01, -3.10680926e-01,  5.77251613e-02,  1.66268181e-02,\n",
       "       -4.36823845e-01, -1.98796928e-01, -8.38396430e-01, -2.75925756e-01,\n",
       "        5.70901394e-01,  6.07045740e-02, -3.96038890e-01, -2.19087265e-02,\n",
       "       -4.66382802e-01,  3.16350847e-01,  3.00775617e-01, -8.25265348e-02,\n",
       "       -4.54365253e-01, -1.05746962e-01,  4.99333203e-01,  8.06273445e-02,\n",
       "       -1.68478057e-01, -3.27079058e-01,  2.79851079e-01,  4.51276392e-01,\n",
       "       -3.34528787e-03, -2.96770960e-01, -5.84577978e-01,  6.74260631e-02,\n",
       "       -3.56905490e-01,  6.97352767e-01, -6.37852192e-01, -3.46739650e-01,\n",
       "        5.98458946e-01,  3.27907473e-01, -4.81115878e-01, -1.78171322e-02,\n",
       "       -7.48056114e-01,  2.23826379e-01,  1.81035563e-01, -1.53703094e-01,\n",
       "        2.95593381e-01, -4.90509123e-01,  1.84494644e-01, -5.78598738e-01,\n",
       "        1.71369478e-01,  1.13209501e-01,  9.76381242e-01,  5.20987213e-01,\n",
       "       -5.42624712e-01,  1.49070287e+00, -4.90357965e-01,  2.38199711e-01,\n",
       "       -6.42929375e-01,  9.76654887e-03,  1.56221986e-01, -5.42557180e-01,\n",
       "       -5.47102988e-01,  6.85658813e-01, -4.22479838e-01,  4.70376492e-01,\n",
       "       -3.19047242e-01, -3.62104625e-02,  1.75793648e-01,  5.44761956e-01,\n",
       "        1.60022248e-02, -4.30536494e-02,  1.54864743e-01,  1.00408681e-02,\n",
       "        3.79647732e-01, -3.30429137e-01, -1.16250791e-01,  1.11685023e-01,\n",
       "        1.51155248e-01,  4.47435617e-01,  2.70549297e-01, -1.90932810e-01,\n",
       "       -1.18694752e-02,  2.20542222e-01,  2.91370541e-01, -1.84318379e-01,\n",
       "        5.94494939e-01, -1.68889612e-02,  6.41707063e-01,  4.78895009e-01,\n",
       "       -1.35715649e-01, -4.05711651e-01,  2.57224709e-01,  4.18807045e-02,\n",
       "        5.48229396e-01,  4.98181194e-01, -4.17167723e-01,  2.22165316e-01,\n",
       "       -3.69364798e-01, -9.92974713e-02,  1.18941739e-02,  9.73988846e-02,\n",
       "       -1.08804953e+00, -4.28478718e-01,  7.89455324e-02,  2.50575095e-01,\n",
       "        3.26776922e-01,  1.27974004e-01, -3.93071383e-01,  1.37819469e-01,\n",
       "       -8.86019021e-02, -3.02931994e-01, -3.75453234e-01,  1.14451736e-01,\n",
       "       -2.49079317e-01,  1.02986097e+00,  1.28853964e-02,  3.69055182e-01,\n",
       "       -4.02409613e-01,  4.51250255e-01, -2.32531875e-03, -2.73790151e-01,\n",
       "        4.64412063e-01,  1.09471120e-01,  1.92111343e-01,  1.90633193e-01,\n",
       "       -2.85177678e-03, -7.61586845e-01,  5.51085353e-01, -2.97583044e-01,\n",
       "       -3.14068794e-01, -5.06550968e-01, -8.09794247e-01,  8.66275057e-02,\n",
       "        1.05637610e-01, -2.30639353e-01,  3.99131589e-02,  9.17646289e-02,\n",
       "        1.72691852e-01,  5.10255933e-01, -6.98353797e-02,  1.74075857e-01,\n",
       "       -7.95526356e-02,  4.77049053e-02, -1.08656965e-01, -6.01286173e-01,\n",
       "       -4.80153531e-01, -3.36467415e-01,  3.23292911e-01,  2.46852905e-01,\n",
       "       -6.61451399e-01,  1.04187228e-01, -8.73298883e-01,  7.28583694e-01,\n",
       "        2.07723305e-01, -5.65804660e-01,  7.20601380e-01,  6.61036968e-02,\n",
       "        5.05186498e-01, -4.61345941e-01,  7.55366623e-01, -3.02061230e-01,\n",
       "        3.25517893e-01, -2.87940279e-02, -2.03581691e-01, -6.31705940e-01,\n",
       "       -1.34503275e-01, -9.36798394e-01,  5.96047759e-01, -1.48151308e-01,\n",
       "       -3.60356599e-01,  3.18803251e-01,  3.46438974e-01,  3.39904130e-02,\n",
       "       -2.35101823e-02,  2.02884302e-01, -2.27292925e-01, -3.86503667e-01,\n",
       "       -4.69509661e-01, -8.23507428e-01,  3.42901886e-01,  2.59832442e-02,\n",
       "       -1.63531840e-01,  7.20670700e-01, -2.44556963e-01,  4.09897655e-01,\n",
       "       -3.54666412e-02, -1.49890929e-01,  7.06518143e-02,  1.04205325e-01,\n",
       "        4.01480757e-02,  1.10258080e-01,  2.44276866e-01,  4.83494282e-01,\n",
       "        6.38710856e-02,  2.57367473e-02, -4.94440854e-01, -4.42098588e-01,\n",
       "        8.91103625e-01, -1.41584381e-01,  2.30833754e-01,  8.95361528e-02,\n",
       "        2.84393966e-01,  4.05946970e-01, -5.47499478e-01, -4.79591042e-01,\n",
       "        4.43911731e-01, -4.67122853e-01, -5.90441704e-01,  2.08942369e-01,\n",
       "        4.00534630e-01, -2.51209825e-01,  3.27977985e-01, -2.71054208e-01,\n",
       "        8.41553688e-01,  3.81588727e-01, -1.10229480e+00, -3.80530536e-01,\n",
       "        2.52161294e-01,  9.49075937e-01,  6.17841631e-02,  2.22278953e-01,\n",
       "       -8.49528015e-02,  1.34939894e-01,  3.53744090e-01,  3.87098968e-01,\n",
       "       -4.02409256e-01,  3.56720477e-01, -2.47162580e-01, -6.05630636e-01,\n",
       "       -2.51164794e-01, -1.74031943e-01,  1.70265064e-01,  1.73508488e-02,\n",
       "        9.11458135e-02, -7.20609665e-01,  2.29763731e-01, -4.32356521e-02,\n",
       "        2.11554721e-01,  1.19739544e+00,  1.59492731e-01, -7.39008427e-01,\n",
       "       -3.97460401e-01, -9.46618378e-01,  2.90421307e-01,  6.29968584e-01,\n",
       "        7.69779563e-01,  2.48224698e-02, -2.30727822e-01,  7.24617362e-01,\n",
       "       -3.36211145e-01, -2.80788690e-02, -7.17536733e-02, -6.34107828e-01,\n",
       "       -5.18057168e-01,  6.26522064e-01, -1.09302557e+00, -1.09138441e+00,\n",
       "       -3.67361426e-01,  5.28020203e-01,  8.45070928e-02, -4.83843684e-02,\n",
       "        6.24053359e-01,  2.59495705e-01, -1.59254417e-01, -1.82488918e-01,\n",
       "       -8.21158350e-01,  6.00645840e-01, -2.32977062e-01, -6.18039608e-01,\n",
       "        2.63902903e-01,  2.02759411e-02, -4.91833508e-01, -1.05306268e+00,\n",
       "        1.61221670e-03, -5.65238953e-01,  5.02529263e-01,  1.12662584e-01,\n",
       "       -2.48245060e-01, -2.28319883e-01, -6.37243330e-01, -2.92579651e-01,\n",
       "        3.23445022e-01, -2.60714054e-01,  6.83391273e-01,  4.15912479e-01,\n",
       "       -7.04911172e-01,  2.93709427e-01,  6.18630290e-01,  8.76966357e-01,\n",
       "        1.91211388e-01,  4.00348231e-02,  2.30679289e-02,  6.14983737e-01,\n",
       "       -2.26739034e-01, -3.46643180e-01, -1.01845652e-01,  4.94518839e-02,\n",
       "       -5.07169366e-01,  4.38310280e-02,  2.11274028e-01,  6.85974717e-01,\n",
       "       -4.53038812e-01,  9.65897560e-01, -1.86697885e-01, -7.04727471e-01,\n",
       "        3.83173347e-01,  1.27184376e-01, -2.15737149e-03, -5.13962686e-01,\n",
       "        1.98372394e-01, -2.15958223e-01, -3.33084345e-01,  3.61136556e-01,\n",
       "       -7.36761510e-01, -5.44082344e-01, -9.58240092e-01,  4.29302733e-03,\n",
       "       -1.55386582e-01,  2.23635525e-01, -1.09440160e+00, -2.90418148e-01,\n",
       "        1.64770111e-01,  1.28032255e+00, -4.93148535e-01,  2.22358480e-01,\n",
       "       -8.68636146e-02, -3.48528028e-01,  1.71594933e-01, -3.73098344e-01,\n",
       "        1.18067190e-01,  5.35376132e-01,  4.19967711e-01,  5.87412417e-01,\n",
       "        2.93206662e-01, -4.63824213e-01,  1.22145072e-01, -2.62993155e-03,\n",
       "        7.74008036e-03, -5.36711514e-01,  5.76290309e-01,  1.71325073e-01,\n",
       "        2.32047513e-01, -5.25719672e-02, -1.65185735e-01,  4.42100503e-02,\n",
       "        1.93824247e-01, -4.25719202e-01, -1.00089622e+00,  1.06255867e-01],\n",
       "      dtype=float32)>"
      ]
     },
     "execution_count": 23,
     "metadata": {},
     "output_type": "execute_result"
    }
   ],
   "source": [
    "txt = \"river bank\"\r\n",
    "## tokenize\r\n",
    "idx = tokenizer.encode(txt)\r\n",
    "print(\"tokens:\", tokenizer.convert_ids_to_tokens(idx))\r\n",
    "print(\"ids   :\", tokenizer.encode(txt))\r\n",
    "## word embedding\r\n",
    "idx = np.array(idx)[None,:]\r\n",
    "embedding = nlp(idx)\r\n",
    "print(\"shape:\", embedding[0][0].shape)\r\n",
    "## vector of the second input word\r\n",
    "embedding[0][0][2]"
   ]
  },
  {
   "cell_type": "code",
   "execution_count": 25,
   "metadata": {},
   "outputs": [
    {
     "name": "stderr",
     "output_type": "stream",
     "text": [
      "<ipython-input-25-5a932de00181>:9: RuntimeWarning: Mean of empty slice.\n",
      "  lst_mean_vecs = [utils_bert_embedding(txt, tokenizer, nlp).mean(0)\n",
      "C:\\Users\\USER-PC\\anaconda3\\envs\\bert\\lib\\site-packages\\numpy\\core\\_methods.py:162: RuntimeWarning: invalid value encountered in true_divide\n",
      "  def _mean(a, axis=None, dtype=None, out=None, keepdims=False, *, where=True):\n"
     ]
    }
   ],
   "source": [
    "## function to apply\r\n",
    "def utils_bert_embedding(txt, tokenizer, nlp):\r\n",
    "    idx = tokenizer.encode(txt)\r\n",
    "    idx = np.array(idx)[None,:]  \r\n",
    "    embedding = nlp(idx)\r\n",
    "    X = np.array(embedding[0][0][1:-1])\r\n",
    "    return X\r\n",
    "## create list of news vector\r\n",
    "lst_mean_vecs = [utils_bert_embedding(txt, tokenizer, nlp).mean(0) \r\n",
    "                 for txt in dtf[\"text_clean\"]]\r\n",
    "## create the feature matrix (n news x 768)\r\n",
    "X = np.array(lst_mean_vecs)"
   ]
  },
  {
   "cell_type": "code",
   "execution_count": 26,
   "metadata": {},
   "outputs": [],
   "source": [
    "dic_y = {k:utils_bert_embedding(v, tokenizer, nlp).mean(0) for k,v\r\n",
    "         in dic_clusters.items()}"
   ]
  },
  {
   "cell_type": "code",
   "execution_count": 71,
   "metadata": {},
   "outputs": [
    {
     "data": {
      "text/plain": [
       "True"
      ]
     },
     "execution_count": 71,
     "metadata": {},
     "output_type": "execute_result"
    }
   ],
   "source": [
    "np.isnan(X).any()"
   ]
  },
  {
   "cell_type": "code",
   "execution_count": 73,
   "metadata": {},
   "outputs": [
    {
     "data": {
      "text/plain": [
       "False"
      ]
     },
     "execution_count": 73,
     "metadata": {},
     "output_type": "execute_result"
    }
   ],
   "source": [
    "X = np.nan_to_num(X)\r\n",
    "np.isnan(X).any()"
   ]
  },
  {
   "cell_type": "code",
   "execution_count": 95,
   "metadata": {},
   "outputs": [],
   "source": [
    "for i, value in dic_y.items():\r\n",
    "    dic_y[i] = value.reshape(1, -1)"
   ]
  },
  {
   "cell_type": "code",
   "execution_count": 96,
   "metadata": {},
   "outputs": [],
   "source": [
    "#--- Model Algorithm ---#\r\n",
    "## compute cosine similarities\r\n",
    "similarities = np.array(\r\n",
    "            [metrics.pairwise.cosine_similarity(X, y).T.tolist()[0] \r\n",
    "             for y in dic_y.values()]\r\n",
    "            ).T\r\n",
    "## adjust and rescale\r\n",
    "labels = list(dic_y.keys())\r\n",
    "for i in range(len(similarities)):\r\n",
    "    ### assign randomly if there is no similarity\r\n",
    "    if sum(similarities[i]) == 0:\r\n",
    "       similarities[i] = [0]*len(labels)\r\n",
    "       similarities[i][np.random.choice(range(len(labels)))] = 1\r\n",
    "    ### rescale so they sum = 1\r\n",
    "    similarities[i] = similarities[i] / sum(similarities[i])\r\n",
    "\r\n",
    "## classify the label with highest similarity score\r\n",
    "predicted_prob = similarities\r\n",
    "predicted = [labels[np.argmax(pred)] for pred in predicted_prob]"
   ]
  },
  {
   "cell_type": "code",
   "execution_count": 97,
   "metadata": {},
   "outputs": [
    {
     "name": "stdout",
     "output_type": "stream",
     "text": [
      "Accuracy: 0.61\n",
      "Auc: 0.83\n",
      "Detail:\n",
      "               precision    recall  f1-score   support\n",
      "\n",
      "ENTERTAINMENT       0.45      0.89      0.60     16058\n",
      "     POLITICS       0.92      0.49      0.64     32739\n",
      "         TECH       0.36      0.37      0.37      2082\n",
      "\n",
      "     accuracy                           0.61     50879\n",
      "    macro avg       0.58      0.58      0.53     50879\n",
      " weighted avg       0.75      0.61      0.61     50879\n",
      "\n"
     ]
    },
    {
     "data": {
      "image/png": "[encoded data removed]",
      "text/plain": [
       "<Figure size 432x288 with 1 Axes>"
      ]
     },
     "metadata": {
      "needs_background": "light"
     },
     "output_type": "display_data"
    },
    {
     "data": {
      "image/png": "[encoded data removed]",
      "text/plain": [
       "<Figure size 432x288 with 2 Axes>"
      ]
     },
     "metadata": {
      "needs_background": "light"
     },
     "output_type": "display_data"
    }
   ],
   "source": [
    "y_test = dtf[\"y\"].values\r\n",
    "classes = np.unique(y_test)\r\n",
    "y_test_array = pd.get_dummies(y_test, drop_first=False).values\r\n",
    "\r\n",
    "## Accuracy, Precision, Recall\r\n",
    "accuracy = metrics.accuracy_score(y_test, predicted)\r\n",
    "auc = metrics.roc_auc_score(y_test, predicted_prob, \r\n",
    "                            multi_class=\"ovr\")\r\n",
    "print(\"Accuracy:\",  round(accuracy,2))\r\n",
    "print(\"Auc:\", round(auc,2))\r\n",
    "print(\"Detail:\")\r\n",
    "print(metrics.classification_report(y_test, predicted))\r\n",
    "    \r\n",
    "## Plot confusion matrix\r\n",
    "cm = metrics.confusion_matrix(y_test, predicted)\r\n",
    "fig, ax = plt.subplots()\r\n",
    "sns.heatmap(cm, annot=True, fmt='d', ax=ax, cmap=plt.cm.Blues, \r\n",
    "            cbar=False)\r\n",
    "ax.set(xlabel=\"Pred\", ylabel=\"True\", xticklabels=classes, \r\n",
    "       yticklabels=classes, title=\"Confusion matrix\")\r\n",
    "plt.yticks(rotation=0)\r\n",
    "fig, ax = plt.subplots(nrows=1, ncols=2)\r\n",
    "\r\n",
    "## Plot roc\r\n",
    "for i in range(len(classes)):\r\n",
    "    fpr, tpr, thresholds = metrics.roc_curve(y_test_array[:,i],  \r\n",
    "                           predicted_prob[:,i])\r\n",
    "    ax[0].plot(fpr, tpr, lw=3, \r\n",
    "              label='{0} (area={1:0.2f})'.format(classes[i], \r\n",
    "                              metrics.auc(fpr, tpr))\r\n",
    "               )\r\n",
    "ax[0].plot([0,1], [0,1], color='navy', lw=3, linestyle='--')\r\n",
    "ax[0].set(xlim=[-0.05,1.0], ylim=[0.0,1.05], \r\n",
    "          xlabel='False Positive Rate', \r\n",
    "          ylabel=\"True Positive Rate (Recall)\", \r\n",
    "          title=\"Receiver operating characteristic\")\r\n",
    "ax[0].legend(loc=\"lower right\")\r\n",
    "ax[0].grid(True)\r\n",
    "    \r\n",
    "## Plot precision-recall curve\r\n",
    "for i in range(len(classes)):\r\n",
    "    precision, recall, thresholds = metrics.precision_recall_curve(\r\n",
    "                 y_test_array[:,i], predicted_prob[:,i])\r\n",
    "    ax[1].plot(recall, precision, lw=3, \r\n",
    "               label='{0} (area={1:0.2f})'.format(classes[i], \r\n",
    "                                  metrics.auc(recall, precision))\r\n",
    "              )\r\n",
    "ax[1].set(xlim=[0.0,1.05], ylim=[0.0,1.05], xlabel='Recall', \r\n",
    "          ylabel=\"Precision\", title=\"Precision-Recall curve\")\r\n",
    "ax[1].legend(loc=\"best\")\r\n",
    "ax[1].grid(True)\r\n",
    "plt.show()"
   ]
  },
  {
   "cell_type": "code",
   "execution_count": 99,
   "metadata": {},
   "outputs": [
    {
     "name": "stdout",
     "output_type": "stream",
     "text": [
      "True: ENTERTAINMENT --> Pred: ENTERTAINMENT | Similarity: 0.38\n",
      "mike myers reveals hed like fourth austin power film\n"
     ]
    }
   ],
   "source": [
    "i = 7\r\n",
    "txt_instance = dtf[\"text_clean\"].iloc[i]\r\n",
    "print(\"True:\", y_test[i], \"--> Pred:\", predicted[i], \"| Similarity:\", round(np.max(predicted_prob[i]),2))\r\n",
    "print(txt_instance)"
   ]
  }
 ],
 "metadata": {
  "interpreter": {
   "hash": "40b9cf565d070ee13d37836166faa1e65075ac740510169fa1bf4f89f6b88bdd"
  },
  "kernelspec": {
   "display_name": "Python 3.8.10 64-bit ('bert': conda)",
   "name": "python3"
  },
  "language_info": {
   "codemirror_mode": {
    "name": "ipython",
    "version": 3
   },
   "file_extension": ".py",
   "mimetype": "text/x-python",
   "name": "python",
   "nbconvert_exporter": "python",
   "pygments_lexer": "ipython3",
   "version": "3.8.10"
  },
  "orig_nbformat": 4
 },
 "nbformat": 4,
 "nbformat_minor": 2
}