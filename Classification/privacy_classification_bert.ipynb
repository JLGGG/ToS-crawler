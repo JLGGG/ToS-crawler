{
 "cells": [
  {
   "cell_type": "code",
   "execution_count": 1,
   "metadata": {},
   "outputs": [
    {
     "name": "stderr",
     "output_type": "stream",
     "text": [
      "[nltk_data] Downloading package stopwords to C:\\Users\\USER-\n",
      "[nltk_data]     PC\\AppData\\Roaming\\nltk_data...\n",
      "[nltk_data]   Package stopwords is already up-to-date!\n"
     ]
    }
   ],
   "source": [
    "import numpy as np\n",
    "import tensorflow as tf\n",
    "import tensorflow_hub as hub\n",
    "import sys\n",
    "import sklearn\n",
    "import nltk\n",
    "import seaborn as sns\n",
    "from nltk.corpus import stopwords \n",
    "from nltk.tokenize import word_tokenize\n",
    "nltk.download('stopwords')\n",
    "sys.path.append('models')\n",
    "from official.nlp.data import classifier_data_lib\n",
    "from official.nlp.bert import tokenization\n",
    "from official.nlp import optimization"
   ]
  },
  {
   "cell_type": "code",
   "execution_count": 2,
   "metadata": {},
   "outputs": [
    {
     "name": "stdout",
     "output_type": "stream",
     "text": [
      "TF Version:  2.5.0\n",
      "Eager mode:  True\n",
      "Hub version:  0.12.0\n",
      "GPU is available\n"
     ]
    }
   ],
   "source": [
    "print(\"TF Version: \", tf.__version__)\n",
    "print(\"Eager mode: \", tf.executing_eagerly())\n",
    "print(\"Hub version: \", hub.__version__)\n",
    "print(\"GPU is\", \"available\" if tf.config.experimental.list_physical_devices(\"GPU\") else \"NOT AVAILABLE\")"
   ]
  },
  {
   "cell_type": "code",
   "execution_count": 3,
   "metadata": {},
   "outputs": [
    {
     "name": "stdout",
     "output_type": "stream",
     "text": [
      "<class 'pandas.core.frame.DataFrame'>\n",
      "RangeIndex: 10106 entries, 0 to 10105\n",
      "Data columns (total 2 columns):\n",
      " #   Column        Non-Null Count  Dtype \n",
      "---  ------        --------------  ----- \n",
      " 0   Original      10106 non-null  object\n",
      " 1   PrivacyRatio  10106 non-null  int64 \n",
      "dtypes: int64(1), object(1)\n",
      "memory usage: 158.0+ KB\n"
     ]
    }
   ],
   "source": [
    "import numpy as np\n",
    "import pandas as pd\n",
    "from sklearn.model_selection import train_test_split\n",
    "\n",
    "df = pd.read_csv('input_data.csv')\n",
    "df.info()"
   ]
  },
  {
   "cell_type": "code",
   "execution_count": 4,
   "metadata": {},
   "outputs": [
    {
     "data": {
      "text/plain": [
       "<AxesSubplot:>"
      ]
     },
     "execution_count": 4,
     "metadata": {},
     "output_type": "execute_result"
    },
    {
     "data": {
      "image/png": "[encoded data removed]",
      "text/plain": [
       "<Figure size 432x288 with 1 Axes>"
      ]
     },
     "metadata": {
      "needs_background": "light"
     },
     "output_type": "display_data"
    }
   ],
   "source": [
    "# get length of all the messages in the train set\n",
    "seq_len = [len(i.split()) for i in df['Original']]\n",
    "\n",
    "pd.Series(seq_len).hist(bins = 30)"
   ]
  },
  {
   "cell_type": "code",
   "execution_count": 5,
   "metadata": {},
   "outputs": [
    {
     "data": {
      "text/plain": [
       "Counter({1: 5536, 0: 4570})"
      ]
     },
     "execution_count": 5,
     "metadata": {},
     "output_type": "execute_result"
    }
   ],
   "source": [
    "df_3 = df.copy()\n",
    "df_4 = df.copy()\n",
    "from collections import Counter\n",
    "for i, row in df_3.iterrows():\n",
    "    if row['PrivacyRatio'] >= 3:\n",
    "        df_3.loc[i, 'PrivacyRatio'] = 1\n",
    "    else:\n",
    "        df_3.loc[i, 'PrivacyRatio'] = 0\n",
    "# Counter(df['label'])\n",
    "Counter(df_3['PrivacyRatio'])"
   ]
  },
  {
   "cell_type": "code",
   "execution_count": 6,
   "metadata": {},
   "outputs": [
    {
     "data": {
      "text/plain": [
       "Counter({1: 3696, 0: 6410})"
      ]
     },
     "execution_count": 6,
     "metadata": {},
     "output_type": "execute_result"
    }
   ],
   "source": [
    "for i, row in df_4.iterrows():\n",
    "    if row['PrivacyRatio'] >= 4:\n",
    "        df_4.loc[i, 'PrivacyRatio'] = 1\n",
    "    else:\n",
    "        df_4.loc[i, 'PrivacyRatio'] = 0\n",
    "# Counter(df['label'])\n",
    "Counter(df_4['PrivacyRatio'])"
   ]
  },
  {
   "cell_type": "code",
   "execution_count": 7,
   "metadata": {},
   "outputs": [
    {
     "data": {
      "text/plain": [
       "<AxesSubplot:ylabel='PrivacyRatio'>"
      ]
     },
     "execution_count": 7,
     "metadata": {},
     "output_type": "execute_result"
    },
    {
     "data": {
      "image/png": "[encoded data removed]",
      "text/plain": [
       "<Figure size 432x288 with 1 Axes>"
      ]
     },
     "metadata": {
      "needs_background": "light"
     },
     "output_type": "display_data"
    }
   ],
   "source": [
    "sns.barplot(data=df_3, x=['Not privacy','Privacy'], y=df_3['PrivacyRatio'].value_counts().sort_values())"
   ]
  },
  {
   "cell_type": "code",
   "execution_count": 8,
   "metadata": {},
   "outputs": [
    {
     "data": {
      "text/plain": [
       "<AxesSubplot:ylabel='PrivacyRatio'>"
      ]
     },
     "execution_count": 8,
     "metadata": {},
     "output_type": "execute_result"
    },
    {
     "data": {
      "image/png": "[encoded data removed]",
      "text/plain": [
       "<Figure size 432x288 with 1 Axes>"
      ]
     },
     "metadata": {
      "needs_background": "light"
     },
     "output_type": "display_data"
    }
   ],
   "source": [
    "sns.barplot(data=df_4, x=['Not privacy','Privacy'], y=df_4['PrivacyRatio'].value_counts())"
   ]
  },
  {
   "cell_type": "code",
   "execution_count": 9,
   "metadata": {},
   "outputs": [
    {
     "data": {
      "text/html": [
       "<div>\n",
       "<style scoped>\n",
       "    .dataframe tbody tr th:only-of-type {\n",
       "        vertical-align: middle;\n",
       "    }\n",
       "\n",
       "    .dataframe tbody tr th {\n",
       "        vertical-align: top;\n",
       "    }\n",
       "\n",
       "    .dataframe thead th {\n",
       "        text-align: right;\n",
       "    }\n",
       "</style>\n",
       "<table border=\"1\" class=\"dataframe\">\n",
       "  <thead>\n",
       "    <tr style=\"text-align: right;\">\n",
       "      <th></th>\n",
       "      <th>Original</th>\n",
       "      <th>PrivacyRatio</th>\n",
       "    </tr>\n",
       "  </thead>\n",
       "  <tbody>\n",
       "    <tr>\n",
       "      <th>1702</th>\n",
       "      <td>Public Groups enable users common interest aff...</td>\n",
       "      <td>0</td>\n",
       "    </tr>\n",
       "    <tr>\n",
       "      <th>4422</th>\n",
       "      <td>We guarantee Services uninterrupted , error-fr...</td>\n",
       "      <td>0</td>\n",
       "    </tr>\n",
       "    <tr>\n",
       "      <th>182</th>\n",
       "      <td>Our use information also subject Privacy Notic...</td>\n",
       "      <td>1</td>\n",
       "    </tr>\n",
       "    <tr>\n",
       "      <th>2341</th>\n",
       "      <td>Some Services may time time partner retailer t...</td>\n",
       "      <td>1</td>\n",
       "    </tr>\n",
       "    <tr>\n",
       "      <th>9023</th>\n",
       "      <td>There elements specific Send Grid services , r...</td>\n",
       "      <td>1</td>\n",
       "    </tr>\n",
       "  </tbody>\n",
       "</table>\n",
       "</div>"
      ],
      "text/plain": [
       "                                               Original  PrivacyRatio\n",
       "1702  Public Groups enable users common interest aff...             0\n",
       "4422  We guarantee Services uninterrupted , error-fr...             0\n",
       "182   Our use information also subject Privacy Notic...             1\n",
       "2341  Some Services may time time partner retailer t...             1\n",
       "9023  There elements specific Send Grid services , r...             1"
      ]
     },
     "execution_count": 9,
     "metadata": {},
     "output_type": "execute_result"
    }
   ],
   "source": [
    "stop_words = set(stopwords.words('english'))\n",
    "\n",
    "def remove_stopwords(s):\n",
    "    result = []\n",
    "    word_tokens = word_tokenize(s)\n",
    "\n",
    "    for token in word_tokens:\n",
    "        if token not in stop_words:\n",
    "            result.append(token)\n",
    "    s = ' '.join(result)  # Converting list to string\n",
    "    return s\n",
    "\n",
    "df_3['Original'] = df_3['Original'].apply(remove_stopwords) # Text preprocessing\n",
    "df_4['Original'] = df_4['Original'].apply(remove_stopwords)\n",
    "df_3 = sklearn.utils.shuffle(df_3)\n",
    "df_4 = sklearn.utils.shuffle(df_4)\n",
    "df_3.head()"
   ]
  },
  {
   "cell_type": "code",
   "execution_count": 10,
   "metadata": {},
   "outputs": [
    {
     "data": {
      "text/plain": [
       "((8084, 2), (1011, 2), (1011, 2))"
      ]
     },
     "execution_count": 10,
     "metadata": {},
     "output_type": "execute_result"
    }
   ],
   "source": [
    "train_df_3, temp_df_3 = train_test_split(df_3, random_state=42, test_size=0.2, stratify=df_3.PrivacyRatio.values)\n",
    "test_df_3, valid_df_3 = train_test_split(temp_df_3, random_state=42, test_size=0.5, stratify=temp_df_3.PrivacyRatio.values)\n",
    "train_df_3.shape, test_df_3.shape, valid_df_3.shape"
   ]
  },
  {
   "cell_type": "code",
   "execution_count": 11,
   "metadata": {},
   "outputs": [
    {
     "data": {
      "text/plain": [
       "((8084, 2), (1011, 2), (1011, 2))"
      ]
     },
     "execution_count": 11,
     "metadata": {},
     "output_type": "execute_result"
    }
   ],
   "source": [
    "train_df_4, temp_df_4 = train_test_split(df_4, random_state=42, test_size=0.2, stratify=df_4.PrivacyRatio.values)\n",
    "test_df_4, valid_df_4 = train_test_split(temp_df_4, random_state=42, test_size=0.5, stratify=temp_df_4.PrivacyRatio.values)\n",
    "train_df_4.shape, test_df_4.shape, valid_df_4.shape"
   ]
  },
  {
   "cell_type": "code",
   "execution_count": 12,
   "metadata": {},
   "outputs": [],
   "source": [
    "with tf.device('/cpu:0'):\n",
    "  train_data_3 = tf.data.Dataset.from_tensor_slices((train_df_3['Original'].values, train_df_3['PrivacyRatio'].values))\n",
    "  valid_data_3 = tf.data.Dataset.from_tensor_slices((valid_df_3.Original.values, valid_df_3.PrivacyRatio.values))\n",
    "  train_data_4 = tf.data.Dataset.from_tensor_slices((train_df_4['Original'].values, train_df_4['PrivacyRatio'].values))\n",
    "  valid_data_4 = tf.data.Dataset.from_tensor_slices((valid_df_4.Original.values, valid_df_4.PrivacyRatio.values))\n",
    "\n",
    "  # for text, label in train_data_3.take(1):\n",
    "  #   print(text)\n",
    "  #   print(label)"
   ]
  },
  {
   "cell_type": "code",
   "execution_count": 13,
   "metadata": {},
   "outputs": [],
   "source": [
    "\"\"\"\n",
    "Each line of the dataset is composed of the review text and its label\n",
    "- Data preprocessing consists of transforming text to BERT input features:\n",
    "input_word_ids, input_mask, segment_ids\n",
    "- In the process, tokenizing the text is done with the provided BERT model tokenizer\n",
    "\"\"\"\n",
    "\n",
    "label_list = [0, 1] # Label categories\n",
    "max_seq_length = 60 # maximum length of (token) input sequences\n",
    "train_batch_size = 32\n",
    "\n",
    "# Get BERT layer and tokenizer:\n",
    "# More details here: https://tfhub.dev/tensorflow/bert_en_uncased_L-12_H-768_A-12/2\n",
    "model_path = \"C:/Users/USER-PC/Downloads/bert_en_uncased_L-12_H-768_A-12_2\"\n",
    "bert_layer = hub.KerasLayer(model_path, trainable=True)\n",
    "\n",
    "\n",
    "vocab_file = bert_layer.resolved_object.vocab_file.asset_path.numpy()\n",
    "do_lower_case = bert_layer.resolved_object.do_lower_case.numpy()\n",
    "tokenizer = tokenization.FullTokenizer(vocab_file, do_lower_case)"
   ]
  },
  {
   "cell_type": "code",
   "execution_count": 15,
   "metadata": {},
   "outputs": [
    {
     "data": {
      "text/plain": [
       "['hello', '##,', 'world']"
      ]
     },
     "execution_count": 15,
     "metadata": {},
     "output_type": "execute_result"
    }
   ],
   "source": [
    "tokenizer.wordpiece_tokenizer.tokenize('hello, world')"
   ]
  },
  {
   "cell_type": "code",
   "execution_count": 17,
   "metadata": {},
   "outputs": [
    {
     "data": {
      "text/plain": [
       "[7592, 29623, 2088]"
      ]
     },
     "execution_count": 17,
     "metadata": {},
     "output_type": "execute_result"
    }
   ],
   "source": [
    "tokenizer.convert_tokens_to_ids(tokenizer.wordpiece_tokenizer.tokenize('hello, world'))"
   ]
  },
  {
   "cell_type": "code",
   "execution_count": 14,
   "metadata": {},
   "outputs": [],
   "source": [
    "# This provides a function to convert row to input features and label\n",
    "\n",
    "def to_feature(text, label, label_list=label_list, max_seq_length=max_seq_length, tokenizer=tokenizer):\n",
    "  example = classifier_data_lib.InputExample(guid=None,\n",
    "                                             text_a = text.numpy(),\n",
    "                                             text_b = None,\n",
    "                                             label = label.numpy())\n",
    " \n",
    "  feature = classifier_data_lib.convert_single_example(0, example, label_list, max_seq_length, tokenizer)\n",
    "\n",
    "  return (feature.input_ids, feature.input_mask, feature.segment_ids, feature.label_id)\n",
    "  "
   ]
  },
  {
   "cell_type": "code",
   "execution_count": 15,
   "metadata": {},
   "outputs": [],
   "source": [
    "def to_feature_map(text, label):\n",
    "  input_ids, input_mask, segment_ids, label_id = tf.py_function(to_feature, inp=[text, label], Tout=[tf.int32, tf.int32, tf.int32, tf.int32])\n",
    "  \n",
    "  input_ids.set_shape([max_seq_length])\n",
    "  input_mask.set_shape([max_seq_length])\n",
    "  segment_ids.set_shape([max_seq_length])\n",
    "  label_id.set_shape([])\n",
    "\n",
    "  x = {\n",
    "      'input_word_ids': input_ids,\n",
    "       'input_mask': input_mask,\n",
    "       'input_type_ids': segment_ids\n",
    "  }\n",
    "\n",
    "  return (x, label_id)"
   ]
  },
  {
   "cell_type": "code",
   "execution_count": 16,
   "metadata": {},
   "outputs": [],
   "source": [
    "with tf.device('/cpu:0'):\n",
    "  # train\n",
    "  train_data_3 = (train_data_3.map(to_feature_map,\n",
    "                               num_parallel_calls=tf.data.experimental.AUTOTUNE)\n",
    "  .shuffle(1000)\n",
    "  .batch(32, drop_remainder=True)\n",
    "  .prefetch(tf.data.experimental.AUTOTUNE))\n",
    "\n",
    "  # valid\n",
    "  valid_data_3 = (valid_data_3.map(to_feature_map,\n",
    "                               num_parallel_calls=tf.data.experimental.AUTOTUNE)\n",
    "  .batch(32, drop_remainder=True)\n",
    "  .prefetch(tf.data.experimental.AUTOTUNE))\n",
    "\n",
    "  # train\n",
    "  train_data_4 = (train_data_4.map(to_feature_map,\n",
    "                               num_parallel_calls=tf.data.experimental.AUTOTUNE)\n",
    "  .shuffle(1000)\n",
    "  .batch(32, drop_remainder=True)\n",
    "  .prefetch(tf.data.experimental.AUTOTUNE))\n",
    "\n",
    "  # valid\n",
    "  valid_data_4 = (valid_data_4.map(to_feature_map,\n",
    "                               num_parallel_calls=tf.data.experimental.AUTOTUNE)\n",
    "  .batch(32, drop_remainder=True)\n",
    "  .prefetch(tf.data.experimental.AUTOTUNE))\n",
    "  "
   ]
  },
  {
   "cell_type": "code",
   "execution_count": 17,
   "metadata": {},
   "outputs": [
    {
     "data": {
      "text/plain": [
       "({'input_word_ids': TensorSpec(shape=(32, 60), dtype=tf.int32, name=None),\n",
       "  'input_mask': TensorSpec(shape=(32, 60), dtype=tf.int32, name=None),\n",
       "  'input_type_ids': TensorSpec(shape=(32, 60), dtype=tf.int32, name=None)},\n",
       " TensorSpec(shape=(32,), dtype=tf.int32, name=None))"
      ]
     },
     "execution_count": 17,
     "metadata": {},
     "output_type": "execute_result"
    }
   ],
   "source": [
    "train_data_3.element_spec"
   ]
  },
  {
   "cell_type": "code",
   "execution_count": 18,
   "metadata": {},
   "outputs": [
    {
     "data": {
      "text/plain": [
       "({'input_word_ids': TensorSpec(shape=(32, 60), dtype=tf.int32, name=None),\n",
       "  'input_mask': TensorSpec(shape=(32, 60), dtype=tf.int32, name=None),\n",
       "  'input_type_ids': TensorSpec(shape=(32, 60), dtype=tf.int32, name=None)},\n",
       " TensorSpec(shape=(32,), dtype=tf.int32, name=None))"
      ]
     },
     "execution_count": 18,
     "metadata": {},
     "output_type": "execute_result"
    }
   ],
   "source": [
    "train_data_4.element_spec"
   ]
  },
  {
   "cell_type": "code",
   "execution_count": 19,
   "metadata": {},
   "outputs": [],
   "source": [
    "# Building the model\n",
    "def create_model():\n",
    "  input_word_ids = tf.keras.layers.Input(shape=(max_seq_length,), dtype=tf.int32, name=\"input_word_ids\")\n",
    "  input_mask = tf.keras.layers.Input(shape=(max_seq_length,), dtype=tf.int32, name=\"input_mask\")\n",
    "  input_type_ids = tf.keras.layers.Input(shape=(max_seq_length,), dtype=tf.int32, name=\"input_type_ids\")\n",
    "\n",
    "  pooled_output, sequence_output = bert_layer([input_word_ids, input_mask, input_type_ids])\n",
    "  linear = tf.keras.layers.Dense(512, activation='relu')(pooled_output)\n",
    "  output = tf.keras.layers.Dense(1, activation='sigmoid', name=\"output\")(linear)\n",
    "\n",
    "  model = tf.keras.Model(\n",
    "      inputs={\n",
    "          'input_word_ids': input_word_ids,\n",
    "          'input_mask': input_mask,\n",
    "          'input_type_ids': input_type_ids\n",
    "      },\n",
    "      outputs=output)\n",
    "  return model"
   ]
  },
  {
   "cell_type": "code",
   "execution_count": 20,
   "metadata": {},
   "outputs": [
    {
     "name": "stdout",
     "output_type": "stream",
     "text": [
      "Model: \"model\"\n",
      "__________________________________________________________________________________________________\n",
      "Layer (type)                    Output Shape         Param #     Connected to                     \n",
      "==================================================================================================\n",
      "input_word_ids (InputLayer)     [(None, 60)]         0                                            \n",
      "__________________________________________________________________________________________________\n",
      "input_mask (InputLayer)         [(None, 60)]         0                                            \n",
      "__________________________________________________________________________________________________\n",
      "input_type_ids (InputLayer)     [(None, 60)]         0                                            \n",
      "__________________________________________________________________________________________________\n",
      "keras_layer (KerasLayer)        [(None, 768), (None, 109482241   input_word_ids[0][0]             \n",
      "                                                                 input_mask[0][0]                 \n",
      "                                                                 input_type_ids[0][0]             \n",
      "__________________________________________________________________________________________________\n",
      "dense (Dense)                   (None, 512)          393728      keras_layer[0][0]                \n",
      "__________________________________________________________________________________________________\n",
      "output (Dense)                  (None, 1)            513         dense[0][0]                      \n",
      "==================================================================================================\n",
      "Total params: 109,876,482\n",
      "Trainable params: 109,876,481\n",
      "Non-trainable params: 1\n",
      "__________________________________________________________________________________________________\n"
     ]
    }
   ],
   "source": [
    "model_3 = create_model()\n",
    "    \n",
    "model_3.compile(optimizer=tf.keras.optimizers.Adam(learning_rate=1e-5),\n",
    "              loss=tf.keras.losses.BinaryCrossentropy(),\n",
    "              metrics=[tf.keras.metrics.BinaryAccuracy()])\n",
    "model_3.summary()"
   ]
  },
  {
   "cell_type": "code",
   "execution_count": 21,
   "metadata": {},
   "outputs": [
    {
     "data": {
      "image/png": "[encoded data removed]",
      "text/plain": [
       "<IPython.core.display.Image object>"
      ]
     },
     "execution_count": 21,
     "metadata": {},
     "output_type": "execute_result"
    }
   ],
   "source": [
    "tf.keras.utils.plot_model(model=model_3, show_shapes=True, dpi=76)"
   ]
  },
  {
   "cell_type": "code",
   "execution_count": 22,
   "metadata": {},
   "outputs": [
    {
     "name": "stdout",
     "output_type": "stream",
     "text": [
      "Epoch 1/4\n",
      "252/252 [==============================] - 84s 295ms/step - loss: 0.5696 - binary_accuracy: 0.6982 - val_loss: 0.5050 - val_binary_accuracy: 0.7581\n",
      "\n",
      "Epoch 00001: val_binary_accuracy improved from -inf to 0.75806, saving model to threshold3_model.h5\n",
      "Epoch 2/4\n",
      "252/252 [==============================] - 75s 294ms/step - loss: 0.4848 - binary_accuracy: 0.7605 - val_loss: 0.4879 - val_binary_accuracy: 0.7671\n",
      "\n",
      "Epoch 00002: val_binary_accuracy improved from 0.75806 to 0.76714, saving model to threshold3_model.h5\n",
      "Epoch 3/4\n",
      "252/252 [==============================] - 75s 295ms/step - loss: 0.4297 - binary_accuracy: 0.7981 - val_loss: 0.5110 - val_binary_accuracy: 0.7510\n",
      "\n",
      "Epoch 00003: val_binary_accuracy did not improve from 0.76714\n"
     ]
    }
   ],
   "source": [
    "# Train model\n",
    "epochs = 4\n",
    "my_callbacks = [\n",
    "    tf.keras.callbacks.EarlyStopping(patience=1),\n",
    "    tf.keras.callbacks.ModelCheckpoint('threshold3_model.h5', monitor='val_binary_accuracy', mode='max', verbose=1, save_best_only=True),\n",
    "]\n",
    "history_3 = model_3.fit(train_data_3, validation_data=valid_data_3, epochs=epochs, verbose=1, callbacks=my_callbacks)"
   ]
  },
  {
   "cell_type": "code",
   "execution_count": 23,
   "metadata": {},
   "outputs": [
    {
     "name": "stdout",
     "output_type": "stream",
     "text": [
      "Model: \"model_1\"\n",
      "__________________________________________________________________________________________________\n",
      "Layer (type)                    Output Shape         Param #     Connected to                     \n",
      "==================================================================================================\n",
      "input_word_ids (InputLayer)     [(None, 60)]         0                                            \n",
      "__________________________________________________________________________________________________\n",
      "input_mask (InputLayer)         [(None, 60)]         0                                            \n",
      "__________________________________________________________________________________________________\n",
      "input_type_ids (InputLayer)     [(None, 60)]         0                                            \n",
      "__________________________________________________________________________________________________\n",
      "keras_layer (KerasLayer)        [(None, 768), (None, 109482241   input_word_ids[0][0]             \n",
      "                                                                 input_mask[0][0]                 \n",
      "                                                                 input_type_ids[0][0]             \n",
      "__________________________________________________________________________________________________\n",
      "dense_1 (Dense)                 (None, 512)          393728      keras_layer[1][0]                \n",
      "__________________________________________________________________________________________________\n",
      "output (Dense)                  (None, 1)            513         dense_1[0][0]                    \n",
      "==================================================================================================\n",
      "Total params: 109,876,482\n",
      "Trainable params: 109,876,481\n",
      "Non-trainable params: 1\n",
      "__________________________________________________________________________________________________\n"
     ]
    }
   ],
   "source": [
    "model_4 = create_model()\n",
    "\n",
    "model_4.compile(optimizer=tf.keras.optimizers.Adam(learning_rate=1e-5),\n",
    "              loss=tf.keras.losses.BinaryCrossentropy(),\n",
    "              metrics=[tf.keras.metrics.BinaryAccuracy()])\n",
    "model_4.summary()"
   ]
  },
  {
   "cell_type": "code",
   "execution_count": 24,
   "metadata": {},
   "outputs": [
    {
     "name": "stdout",
     "output_type": "stream",
     "text": [
      "Epoch 1/4\n",
      "252/252 [==============================] - 79s 296ms/step - loss: 0.4070 - binary_accuracy: 0.8271 - val_loss: 0.4148 - val_binary_accuracy: 0.8115\n",
      "\n",
      "Epoch 00001: val_binary_accuracy improved from -inf to 0.81149, saving model to threshold4_model.h5\n",
      "Epoch 2/4\n",
      "252/252 [==============================] - 75s 295ms/step - loss: 0.3420 - binary_accuracy: 0.8619 - val_loss: 0.4225 - val_binary_accuracy: 0.8196\n",
      "\n",
      "Epoch 00002: val_binary_accuracy improved from 0.81149 to 0.81956, saving model to threshold4_model.h5\n"
     ]
    }
   ],
   "source": [
    "# Train model\n",
    "epochs = 4\n",
    "my_callbacks = [\n",
    "    tf.keras.callbacks.EarlyStopping(patience=1),\n",
    "    tf.keras.callbacks.ModelCheckpoint('threshold4_model.h5', monitor='val_binary_accuracy', mode='max', verbose=1, save_best_only=True),\n",
    "]\n",
    "history_4 = model_4.fit(train_data_4, validation_data=valid_data_4, epochs=epochs, verbose=1, callbacks=my_callbacks)"
   ]
  },
  {
   "cell_type": "code",
   "execution_count": 25,
   "metadata": {},
   "outputs": [],
   "source": [
    "import matplotlib.pyplot as plt\n",
    "\n",
    "def plot_graphs(history, metric):\n",
    "  plt.plot(history.history[metric])\n",
    "  plt.plot(history.history['val_'+metric], '')\n",
    "  plt.xlabel(\"Epochs\")\n",
    "  plt.ylabel(metric)\n",
    "  plt.legend([metric, 'val_'+metric])\n",
    "  plt.show()"
   ]
  },
  {
   "cell_type": "code",
   "execution_count": 26,
   "metadata": {},
   "outputs": [
    {
     "data": {
      "image/png": "[encoded data removed]",
      "text/plain": [
       "<Figure size 432x288 with 1 Axes>"
      ]
     },
     "metadata": {
      "needs_background": "light"
     },
     "output_type": "display_data"
    }
   ],
   "source": [
    "plot_graphs(history_3, 'loss')"
   ]
  },
  {
   "cell_type": "code",
   "execution_count": 27,
   "metadata": {},
   "outputs": [
    {
     "data": {
      "image/png": "[encoded data removed]",
      "text/plain": [
       "<Figure size 432x288 with 1 Axes>"
      ]
     },
     "metadata": {
      "needs_background": "light"
     },
     "output_type": "display_data"
    }
   ],
   "source": [
    "plot_graphs(history_3, 'binary_accuracy')"
   ]
  },
  {
   "cell_type": "code",
   "execution_count": 28,
   "metadata": {},
   "outputs": [
    {
     "data": {
      "image/png": "[encoded data removed]",
      "text/plain": [
       "<Figure size 432x288 with 1 Axes>"
      ]
     },
     "metadata": {
      "needs_background": "light"
     },
     "output_type": "display_data"
    }
   ],
   "source": [
    "plot_graphs(history_4, 'loss')"
   ]
  },
  {
   "cell_type": "code",
   "execution_count": 29,
   "metadata": {},
   "outputs": [
    {
     "data": {
      "image/png": "[encoded data removed]",
      "text/plain": [
       "<Figure size 432x288 with 1 Axes>"
      ]
     },
     "metadata": {
      "needs_background": "light"
     },
     "output_type": "display_data"
    }
   ],
   "source": [
    "plot_graphs(history_4, 'binary_accuracy')"
   ]
  },
  {
   "cell_type": "code",
   "execution_count": 30,
   "metadata": {},
   "outputs": [
    {
     "name": "stdout",
     "output_type": "stream",
     "text": [
      "              precision    recall  f1-score   support\n",
      "\n",
      "           0       0.75      0.81      0.78       457\n",
      "           1       0.83      0.78      0.80       554\n",
      "\n",
      "    accuracy                           0.79      1011\n",
      "   macro avg       0.79      0.79      0.79      1011\n",
      "weighted avg       0.80      0.79      0.79      1011\n",
      "\n"
     ]
    }
   ],
   "source": [
    "from sklearn.metrics import classification_report\n",
    "tt = test_df_3['Original'].tolist()\n",
    "test_data = tf.data.Dataset.from_tensor_slices((tt, [0]*len(tt)))\n",
    "test_data = (test_data.map(to_feature_map).batch(1))\n",
    "preds_probs_3 = model_3.predict(test_data)\n",
    "preds_3 = (preds_probs_3 > 0.5).astype(\"int32\")\n",
    "print(classification_report(test_df_3['PrivacyRatio'].tolist(), preds_3))"
   ]
  },
  {
   "cell_type": "code",
   "execution_count": 31,
   "metadata": {},
   "outputs": [
    {
     "name": "stdout",
     "output_type": "stream",
     "text": [
      "              precision    recall  f1-score   support\n",
      "\n",
      "           0       0.86      0.90      0.88       641\n",
      "           1       0.81      0.74      0.77       370\n",
      "\n",
      "    accuracy                           0.84      1011\n",
      "   macro avg       0.83      0.82      0.83      1011\n",
      "weighted avg       0.84      0.84      0.84      1011\n",
      "\n"
     ]
    }
   ],
   "source": [
    "from sklearn.metrics import classification_report\n",
    "tt = test_df_4['Original'].tolist()\n",
    "test_data = tf.data.Dataset.from_tensor_slices((tt, [0]*len(tt)))\n",
    "test_data = (test_data.map(to_feature_map).batch(1))\n",
    "preds_probs_4 = model_4.predict(test_data)\n",
    "preds_4 = (preds_probs_4 > 0.5).astype(\"int32\")\n",
    "print(classification_report(test_df_4['PrivacyRatio'].tolist(), preds_4))"
   ]
  },
  {
   "cell_type": "code",
   "execution_count": 32,
   "metadata": {},
   "outputs": [
    {
     "data": {
      "image/png": "[encoded data removed]",
      "text/plain": [
       "<Figure size 432x288 with 1 Axes>"
      ]
     },
     "metadata": {
      "needs_background": "light"
     },
     "output_type": "display_data"
    }
   ],
   "source": [
    "from sklearn.metrics import precision_recall_curve\n",
    "from sklearn.metrics import roc_curve\n",
    "from sklearn.metrics import f1_score\n",
    "from sklearn.metrics import auc\n",
    "from sklearn.metrics import roc_auc_score\n",
    "from matplotlib import pyplot\n",
    "\n",
    "lr_precision_3, lr_recall_3, _ = precision_recall_curve(test_df_3['PrivacyRatio'].tolist(), preds_probs_3)\n",
    "lr_precision_4, lr_recall_4, _ = precision_recall_curve(test_df_4['PrivacyRatio'].tolist(), preds_probs_4)\n",
    "lr_f1_3, lr_auc_3 = f1_score(test_df_3['PrivacyRatio'].tolist(), preds_3), auc(lr_recall_3, lr_precision_3)\n",
    "lr_f1_4, lr_auc_4 = f1_score(test_df_4['PrivacyRatio'].tolist(), preds_4), auc(lr_recall_4, lr_precision_4)\n",
    "pyplot.plot(lr_recall_3, lr_precision_3, marker='.', label='threshold=3 (area ='+str(round(lr_auc_3, 2))+')')\n",
    "pyplot.plot(lr_recall_4, lr_precision_4, marker='.', label='threshold=4 (area ='+str(round(lr_auc_4, 2))+')')\n",
    "pyplot.xlabel('Recall')\n",
    "pyplot.ylabel('Precision')\n",
    "pyplot.legend()\n",
    "pyplot.show()"
   ]
  },
  {
   "cell_type": "code",
   "execution_count": 33,
   "metadata": {},
   "outputs": [
    {
     "name": "stdout",
     "output_type": "stream",
     "text": [
      "Threshold=3: f1=0.805 auc=0.901\n",
      "Threshold=4: f1=0.774 auc=0.848\n"
     ]
    }
   ],
   "source": [
    "print('Threshold=3: f1=%.3f auc=%.3f' % (lr_f1_3, lr_auc_3))\n",
    "print('Threshold=4: f1=%.3f auc=%.3f' % (lr_f1_4, lr_auc_4))"
   ]
  },
  {
   "cell_type": "code",
   "execution_count": 34,
   "metadata": {},
   "outputs": [
    {
     "data": {
      "image/png": "[encoded data removed]",
      "text/plain": [
       "<Figure size 432x288 with 1 Axes>"
      ]
     },
     "metadata": {
      "needs_background": "light"
     },
     "output_type": "display_data"
    }
   ],
   "source": [
    "ns_probs = [0 for _ in range(len(test_df_3))]\n",
    "\n",
    "ns_fpr, ns_tpr, _ = roc_curve(test_df_3['PrivacyRatio'].tolist(), ns_probs)\n",
    "lr_fpr_3, lr_tpr_3, _ = roc_curve(test_df_3['PrivacyRatio'].tolist(), preds_probs_3)\n",
    "lr_fpr_4, lr_tpr_4, _ = roc_curve(test_df_4['PrivacyRatio'].tolist(), preds_probs_4)\n",
    "roc_auc_3 = roc_auc_score(test_df_3['PrivacyRatio'].tolist(), preds_probs_3)\n",
    "roc_auc_4 = roc_auc_score(test_df_4['PrivacyRatio'].tolist(), preds_probs_4)\n",
    "pyplot.plot(ns_fpr, ns_tpr, linestyle='--')\n",
    "pyplot.plot(lr_fpr_3, lr_tpr_3, marker='.', label='threshold=3 (area ='+str(round(roc_auc_3, 2))+')')\n",
    "pyplot.plot(lr_fpr_4, lr_tpr_4, marker='.', label='threshold=4 (area ='+str(round(roc_auc_4, 2))+')')\n",
    "pyplot.xlabel('False Positive Rate')\n",
    "pyplot.ylabel('True Positive Rate')\n",
    "pyplot.legend()\n",
    "pyplot.show()"
   ]
  },
  {
   "cell_type": "code",
   "execution_count": 35,
   "metadata": {},
   "outputs": [
    {
     "name": "stdout",
     "output_type": "stream",
     "text": [
      "Threshold=3 AUC: 0.863\n",
      "Threshold=4 AUC: 0.903\n"
     ]
    }
   ],
   "source": [
    "print('Threshold=3 AUC: %.3f' %(roc_auc_3))\n",
    "print('Threshold=4 AUC: %.3f' %(roc_auc_4))"
   ]
  },
  {
   "cell_type": "code",
   "execution_count": 36,
   "metadata": {},
   "outputs": [
    {
     "data": {
      "text/plain": [
       "['privacy']"
      ]
     },
     "execution_count": 36,
     "metadata": {},
     "output_type": "execute_result"
    }
   ],
   "source": [
    "sample_example = [\"In addition, we cannot guarantee the authenticity of any data that users or merchants may provide about themselves\"]\n",
    "test_data = tf.data.Dataset.from_tensor_slices((sample_example, [0]*len(sample_example)))\n",
    "test_data = (test_data.map(to_feature_map).batch(1))\n",
    "preds = model_3.predict(test_data)\n",
    "threshold = 0.5\n",
    "['privacy' if pred >=threshold else 'Not Privacy' for pred in preds]"
   ]
  },
  {
   "cell_type": "code",
   "execution_count": null,
   "metadata": {},
   "outputs": [],
   "source": []
  }
 ],
 "metadata": {
  "interpreter": {
   "hash": "40b9cf565d070ee13d37836166faa1e65075ac740510169fa1bf4f89f6b88bdd"
  },
  "kernelspec": {
   "display_name": "Python 3.8.10 64-bit ('bert': conda)",
   "name": "python3"
  },
  "language_info": {
   "codemirror_mode": {
    "name": "ipython",
    "version": 3
   },
   "file_extension": ".py",
   "mimetype": "text/x-python",
   "name": "python",
   "nbconvert_exporter": "python",
   "pygments_lexer": "ipython3",
   "version": "3.8.10"
  },
  "orig_nbformat": 4
 },
 "nbformat": 4,
 "nbformat_minor": 2
}
