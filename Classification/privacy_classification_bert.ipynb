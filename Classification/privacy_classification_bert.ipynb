{
 "cells": [
  {
   "cell_type": "code",
   "execution_count": 1,
   "source": [
    "import numpy as np\r\n",
    "import tensorflow as tf\r\n",
    "import tensorflow_hub as hub\r\n",
    "import sys\r\n",
    "import sklearn\r\n",
    "import nltk\r\n",
    "from nltk.corpus import stopwords \r\n",
    "from nltk.tokenize import word_tokenize\r\n",
    "nltk.download('stopwords')\r\n",
    "sys.path.append('models')\r\n",
    "from official.nlp.data import classifier_data_lib\r\n",
    "from official.nlp.bert import tokenization\r\n",
    "from official.nlp import optimization"
   ],
   "outputs": [
    {
     "output_type": "stream",
     "name": "stderr",
     "text": [
      "[nltk_data] Downloading package stopwords to C:\\Users\\USER-\n",
      "[nltk_data]     PC\\AppData\\Roaming\\nltk_data...\n",
      "[nltk_data]   Package stopwords is already up-to-date!\n"
     ]
    }
   ],
   "metadata": {}
  },
  {
   "cell_type": "code",
   "execution_count": 2,
   "source": [
    "print(\"TF Version: \", tf.__version__)\r\n",
    "print(\"Eager mode: \", tf.executing_eagerly())\r\n",
    "print(\"Hub version: \", hub.__version__)\r\n",
    "print(\"GPU is\", \"available\" if tf.config.experimental.list_physical_devices(\"GPU\") else \"NOT AVAILABLE\")"
   ],
   "outputs": [
    {
     "output_type": "stream",
     "name": "stdout",
     "text": [
      "TF Version:  2.5.0\n",
      "Eager mode:  True\n",
      "Hub version:  0.12.0\n",
      "GPU is available\n"
     ]
    }
   ],
   "metadata": {}
  },
  {
   "cell_type": "code",
   "execution_count": 3,
   "source": [
    "import numpy as np\r\n",
    "import pandas as pd\r\n",
    "from sklearn.model_selection import train_test_split\r\n",
    "\r\n",
    "df = pd.read_csv('input_data.csv')\r\n",
    "df.info()"
   ],
   "outputs": [
    {
     "output_type": "stream",
     "name": "stdout",
     "text": [
      "<class 'pandas.core.frame.DataFrame'>\n",
      "RangeIndex: 10106 entries, 0 to 10105\n",
      "Data columns (total 2 columns):\n",
      " #   Column        Non-Null Count  Dtype \n",
      "---  ------        --------------  ----- \n",
      " 0   Original      10106 non-null  object\n",
      " 1   PrivacyRatio  10106 non-null  int64 \n",
      "dtypes: int64(1), object(1)\n",
      "memory usage: 158.0+ KB\n"
     ]
    }
   ],
   "metadata": {}
  },
  {
   "cell_type": "code",
   "execution_count": 4,
   "source": [
    "# get length of all the messages in the train set\r\n",
    "seq_len = [len(i.split()) for i in df['Original']]\r\n",
    "\r\n",
    "pd.Series(seq_len).hist(bins = 30)"
   ],
   "outputs": [
    {
     "output_type": "execute_result",
     "data": {
      "text/plain": [
       "<AxesSubplot:>"
      ]
     },
     "metadata": {},
     "execution_count": 4
    },
    {
     "output_type": "display_data",
     "data": {
      "image/png": "[encoded data removed]",
      "text/plain": [
       "<Figure size 432x288 with 1 Axes>"
      ]
     },
     "metadata": {
      "needs_background": "light"
     }
    }
   ],
   "metadata": {}
  },
  {
   "cell_type": "code",
   "execution_count": 5,
   "source": [
    "df_3 = df.copy()\r\n",
    "df_4 = df.copy()\r\n",
    "from collections import Counter\r\n",
    "for i, row in df_3.iterrows():\r\n",
    "    if row['PrivacyRatio'] >= 3:\r\n",
    "        df_3.loc[i, 'PrivacyRatio'] = 1\r\n",
    "    else:\r\n",
    "        df_3.loc[i, 'PrivacyRatio'] = 0\r\n",
    "# Counter(df['label'])\r\n",
    "Counter(df_3['PrivacyRatio'])"
   ],
   "outputs": [
    {
     "output_type": "execute_result",
     "data": {
      "text/plain": [
       "Counter({1: 5536, 0: 4570})"
      ]
     },
     "metadata": {},
     "execution_count": 5
    }
   ],
   "metadata": {}
  },
  {
   "cell_type": "code",
   "execution_count": 6,
   "source": [
    "from collections import Counter\r\n",
    "for i, row in df_4.iterrows():\r\n",
    "    if row['PrivacyRatio'] >= 4:\r\n",
    "        df_4.loc[i, 'PrivacyRatio'] = 1\r\n",
    "    else:\r\n",
    "        df_4.loc[i, 'PrivacyRatio'] = 0\r\n",
    "# Counter(df['label'])\r\n",
    "Counter(df_4['PrivacyRatio'])"
   ],
   "outputs": [
    {
     "output_type": "execute_result",
     "data": {
      "text/plain": [
       "Counter({1: 3696, 0: 6410})"
      ]
     },
     "metadata": {},
     "execution_count": 6
    }
   ],
   "metadata": {}
  },
  {
   "cell_type": "code",
   "execution_count": 7,
   "source": [
    "df_3['PrivacyRatio'].value_counts().plot(kind='bar', title='Target distribution')"
   ],
   "outputs": [
    {
     "output_type": "execute_result",
     "data": {
      "text/plain": [
       "<AxesSubplot:title={'center':'Target distribution'}>"
      ]
     },
     "metadata": {},
     "execution_count": 7
    },
    {
     "output_type": "display_data",
     "data": {
      "image/png": "[encoded data removed]",
      "text/plain": [
       "<Figure size 432x288 with 1 Axes>"
      ]
     },
     "metadata": {
      "needs_background": "light"
     }
    }
   ],
   "metadata": {}
  },
  {
   "cell_type": "code",
   "execution_count": 8,
   "source": [
    "df_4['PrivacyRatio'].value_counts().plot(kind='bar', title='Target distribution')"
   ],
   "outputs": [
    {
     "output_type": "execute_result",
     "data": {
      "text/plain": [
       "<AxesSubplot:title={'center':'Target distribution'}>"
      ]
     },
     "metadata": {},
     "execution_count": 8
    },
    {
     "output_type": "display_data",
     "data": {
      "image/png": "[encoded data removed]",
      "text/plain": [
       "<Figure size 432x288 with 1 Axes>"
      ]
     },
     "metadata": {
      "needs_background": "light"
     }
    }
   ],
   "metadata": {}
  },
  {
   "cell_type": "code",
   "execution_count": 9,
   "source": [
    "stop_words = set(stopwords.words('english'))\r\n",
    "\r\n",
    "def remove_stopwords(s):\r\n",
    "    result = []\r\n",
    "    word_tokens = word_tokenize(s)\r\n",
    "\r\n",
    "    for token in word_tokens:\r\n",
    "        if token not in stop_words:\r\n",
    "            result.append(token)\r\n",
    "    s = ' '.join(result)  # Converting list to string\r\n",
    "    return s\r\n",
    "\r\n",
    "df_3['Original'] = df_3['Original'].apply(remove_stopwords) # Text preprocessing\r\n",
    "df_4['Original'] = df_4['Original'].apply(remove_stopwords)\r\n",
    "df_3 = sklearn.utils.shuffle(df_3)\r\n",
    "df_4 = sklearn.utils.shuffle(df_4)\r\n",
    "df_3.head()"
   ],
   "outputs": [
    {
     "output_type": "execute_result",
     "data": {
      "text/html": [
       "<div>\n",
       "<style scoped>\n",
       "    .dataframe tbody tr th:only-of-type {\n",
       "        vertical-align: middle;\n",
       "    }\n",
       "\n",
       "    .dataframe tbody tr th {\n",
       "        vertical-align: top;\n",
       "    }\n",
       "\n",
       "    .dataframe thead th {\n",
       "        text-align: right;\n",
       "    }\n",
       "</style>\n",
       "<table border=\"1\" class=\"dataframe\">\n",
       "  <thead>\n",
       "    <tr style=\"text-align: right;\">\n",
       "      <th></th>\n",
       "      <th>Original</th>\n",
       "      <th>PrivacyRatio</th>\n",
       "    </tr>\n",
       "  </thead>\n",
       "  <tbody>\n",
       "    <tr>\n",
       "      <th>9240</th>\n",
       "      <td>If personal data provided , retained , name , ...</td>\n",
       "      <td>1</td>\n",
       "    </tr>\n",
       "    <tr>\n",
       "      <th>1752</th>\n",
       "      <td>IF YOU DO NOT AGREE WITH ANY OF THESE TERMS , ...</td>\n",
       "      <td>0</td>\n",
       "    </tr>\n",
       "    <tr>\n",
       "      <th>3333</th>\n",
       "      <td>Please note categories Personal Information st...</td>\n",
       "      <td>1</td>\n",
       "    </tr>\n",
       "    <tr>\n",
       "      <th>7239</th>\n",
       "      <td>You may also enter one statements work Send Gr...</td>\n",
       "      <td>0</td>\n",
       "    </tr>\n",
       "    <tr>\n",
       "      <th>7580</th>\n",
       "      <td>THE INDEMNITIES ABOVE ARE DROPBOX AND CUSTOMER...</td>\n",
       "      <td>0</td>\n",
       "    </tr>\n",
       "  </tbody>\n",
       "</table>\n",
       "</div>"
      ],
      "text/plain": [
       "                                               Original  PrivacyRatio\n",
       "9240  If personal data provided , retained , name , ...             1\n",
       "1752  IF YOU DO NOT AGREE WITH ANY OF THESE TERMS , ...             0\n",
       "3333  Please note categories Personal Information st...             1\n",
       "7239  You may also enter one statements work Send Gr...             0\n",
       "7580  THE INDEMNITIES ABOVE ARE DROPBOX AND CUSTOMER...             0"
      ]
     },
     "metadata": {},
     "execution_count": 9
    }
   ],
   "metadata": {}
  },
  {
   "cell_type": "code",
   "execution_count": 10,
   "source": [
    "train_df_3, temp_df_3 = train_test_split(df_3, random_state=42, test_size=0.2, stratify=df_3.PrivacyRatio.values)\r\n",
    "test_df_3, valid_df_3 = train_test_split(temp_df_3, random_state=42, test_size=0.5, stratify=temp_df_3.PrivacyRatio.values)\r\n",
    "train_df_3.shape, test_df_3.shape, valid_df_3.shape"
   ],
   "outputs": [
    {
     "output_type": "execute_result",
     "data": {
      "text/plain": [
       "((8084, 2), (1011, 2), (1011, 2))"
      ]
     },
     "metadata": {},
     "execution_count": 10
    }
   ],
   "metadata": {}
  },
  {
   "cell_type": "code",
   "execution_count": 11,
   "source": [
    "train_df_4, temp_df_4 = train_test_split(df_4, random_state=42, test_size=0.2, stratify=df_4.PrivacyRatio.values)\r\n",
    "test_df_4, valid_df_4 = train_test_split(temp_df_4, random_state=42, test_size=0.5, stratify=temp_df_4.PrivacyRatio.values)\r\n",
    "train_df_4.shape, test_df_4.shape, valid_df_4.shape"
   ],
   "outputs": [
    {
     "output_type": "execute_result",
     "data": {
      "text/plain": [
       "((8084, 2), (1011, 2), (1011, 2))"
      ]
     },
     "metadata": {},
     "execution_count": 11
    }
   ],
   "metadata": {}
  },
  {
   "cell_type": "code",
   "execution_count": 12,
   "source": [
    "with tf.device('/cpu:0'):\r\n",
    "  train_data_3 = tf.data.Dataset.from_tensor_slices((train_df_3['Original'].values, train_df_3['PrivacyRatio'].values))\r\n",
    "  valid_data_3 = tf.data.Dataset.from_tensor_slices((valid_df_3.Original.values, valid_df_3.PrivacyRatio.values))\r\n",
    "  train_data_4 = tf.data.Dataset.from_tensor_slices((train_df_4['Original'].values, train_df_4['PrivacyRatio'].values))\r\n",
    "  valid_data_4 = tf.data.Dataset.from_tensor_slices((valid_df_4.Original.values, valid_df_4.PrivacyRatio.values))\r\n",
    "\r\n",
    "  # for text, label in train_data_3.take(1):\r\n",
    "  #   print(text)\r\n",
    "  #   print(label)"
   ],
   "outputs": [],
   "metadata": {}
  },
  {
   "cell_type": "code",
   "execution_count": 13,
   "source": [
    "\"\"\"\r\n",
    "Each line of the dataset is composed of the review text and its label\r\n",
    "- Data preprocessing consists of transforming text to BERT input features:\r\n",
    "input_word_ids, input_mask, segment_ids\r\n",
    "- In the process, tokenizing the text is done with the provided BERT model tokenizer\r\n",
    "\"\"\"\r\n",
    "\r\n",
    "label_list = [0, 1] # Label categories\r\n",
    "max_seq_length = 60 # maximum length of (token) input sequences\r\n",
    "train_batch_size = 32\r\n",
    "\r\n",
    "# Get BERT layer and tokenizer:\r\n",
    "# More details here: https://tfhub.dev/tensorflow/bert_en_uncased_L-12_H-768_A-12/2\r\n",
    "model_path = \"C:/Users/USER-PC/Downloads/bert_en_uncased_L-12_H-768_A-12_2\"\r\n",
    "bert_layer = hub.KerasLayer(model_path, trainable=True)\r\n",
    "\r\n",
    "\r\n",
    "vocab_file = bert_layer.resolved_object.vocab_file.asset_path.numpy()\r\n",
    "do_lower_case = bert_layer.resolved_object.do_lower_case.numpy()\r\n",
    "tokenizer = tokenization.FullTokenizer(vocab_file, do_lower_case)"
   ],
   "outputs": [],
   "metadata": {}
  },
  {
   "cell_type": "code",
   "execution_count": 14,
   "source": [
    "# This provides a function to convert row to input features and label\r\n",
    "\r\n",
    "def to_feature(text, label, label_list=label_list, max_seq_length=max_seq_length, tokenizer=tokenizer):\r\n",
    "  example = classifier_data_lib.InputExample(guid=None,\r\n",
    "                                             text_a = text.numpy(),\r\n",
    "                                             text_b = None,\r\n",
    "                                             label = label.numpy())\r\n",
    " \r\n",
    "  feature = classifier_data_lib.convert_single_example(0, example, label_list, max_seq_length, tokenizer)\r\n",
    "\r\n",
    "  return (feature.input_ids, feature.input_mask, feature.segment_ids, feature.label_id)\r\n",
    "  "
   ],
   "outputs": [],
   "metadata": {}
  },
  {
   "cell_type": "code",
   "execution_count": 15,
   "source": [
    "def to_feature_map(text, label):\r\n",
    "  input_ids, input_mask, segment_ids, label_id = tf.py_function(to_feature, inp=[text, label], Tout=[tf.int32, tf.int32, tf.int32, tf.int32])\r\n",
    "  \r\n",
    "  input_ids.set_shape([max_seq_length])\r\n",
    "  input_mask.set_shape([max_seq_length])\r\n",
    "  segment_ids.set_shape([max_seq_length])\r\n",
    "  label_id.set_shape([])\r\n",
    "\r\n",
    "  x = {\r\n",
    "      'input_word_ids': input_ids,\r\n",
    "       'input_mask': input_mask,\r\n",
    "       'input_type_ids': segment_ids\r\n",
    "  }\r\n",
    "\r\n",
    "  return (x, label_id)"
   ],
   "outputs": [],
   "metadata": {}
  },
  {
   "cell_type": "code",
   "execution_count": 16,
   "source": [
    "with tf.device('/cpu:0'):\r\n",
    "  # train\r\n",
    "  train_data_3 = (train_data_3.map(to_feature_map,\r\n",
    "                               num_parallel_calls=tf.data.experimental.AUTOTUNE)\r\n",
    "  .shuffle(1000)\r\n",
    "  .batch(32, drop_remainder=True)\r\n",
    "  .prefetch(tf.data.experimental.AUTOTUNE))\r\n",
    "\r\n",
    "  # valid\r\n",
    "  valid_data_3 = (valid_data_3.map(to_feature_map,\r\n",
    "                               num_parallel_calls=tf.data.experimental.AUTOTUNE)\r\n",
    "  .batch(32, drop_remainder=True)\r\n",
    "  .prefetch(tf.data.experimental.AUTOTUNE))\r\n",
    "\r\n",
    "  # train\r\n",
    "  train_data_4 = (train_data_4.map(to_feature_map,\r\n",
    "                               num_parallel_calls=tf.data.experimental.AUTOTUNE)\r\n",
    "  .shuffle(1000)\r\n",
    "  .batch(32, drop_remainder=True)\r\n",
    "  .prefetch(tf.data.experimental.AUTOTUNE))\r\n",
    "\r\n",
    "  # valid\r\n",
    "  valid_data_4 = (valid_data_4.map(to_feature_map,\r\n",
    "                               num_parallel_calls=tf.data.experimental.AUTOTUNE)\r\n",
    "  .batch(32, drop_remainder=True)\r\n",
    "  .prefetch(tf.data.experimental.AUTOTUNE))\r\n",
    "  "
   ],
   "outputs": [],
   "metadata": {}
  },
  {
   "cell_type": "code",
   "execution_count": 17,
   "source": [
    "train_data_3.element_spec"
   ],
   "outputs": [
    {
     "output_type": "execute_result",
     "data": {
      "text/plain": [
       "({'input_word_ids': TensorSpec(shape=(32, 60), dtype=tf.int32, name=None),\n",
       "  'input_mask': TensorSpec(shape=(32, 60), dtype=tf.int32, name=None),\n",
       "  'input_type_ids': TensorSpec(shape=(32, 60), dtype=tf.int32, name=None)},\n",
       " TensorSpec(shape=(32,), dtype=tf.int32, name=None))"
      ]
     },
     "metadata": {},
     "execution_count": 17
    }
   ],
   "metadata": {}
  },
  {
   "cell_type": "code",
   "execution_count": 18,
   "source": [
    "train_data_4.element_spec"
   ],
   "outputs": [
    {
     "output_type": "execute_result",
     "data": {
      "text/plain": [
       "({'input_word_ids': TensorSpec(shape=(32, 60), dtype=tf.int32, name=None),\n",
       "  'input_mask': TensorSpec(shape=(32, 60), dtype=tf.int32, name=None),\n",
       "  'input_type_ids': TensorSpec(shape=(32, 60), dtype=tf.int32, name=None)},\n",
       " TensorSpec(shape=(32,), dtype=tf.int32, name=None))"
      ]
     },
     "metadata": {},
     "execution_count": 18
    }
   ],
   "metadata": {}
  },
  {
   "cell_type": "code",
   "execution_count": 19,
   "source": [
    "# Building the model\r\n",
    "def create_model():\r\n",
    "  input_word_ids = tf.keras.layers.Input(shape=(max_seq_length,), dtype=tf.int32, name=\"input_word_ids\")\r\n",
    "  input_mask = tf.keras.layers.Input(shape=(max_seq_length,), dtype=tf.int32, name=\"input_mask\")\r\n",
    "  input_type_ids = tf.keras.layers.Input(shape=(max_seq_length,), dtype=tf.int32, name=\"input_type_ids\")\r\n",
    "\r\n",
    "  pooled_output, sequence_output = bert_layer([input_word_ids, input_mask, input_type_ids])\r\n",
    "  linear = tf.keras.layers.Dense(512, activation='relu')(pooled_output)\r\n",
    "  output = tf.keras.layers.Dense(1, activation='sigmoid', name=\"output\")(linear)\r\n",
    "\r\n",
    "  model = tf.keras.Model(\r\n",
    "      inputs={\r\n",
    "          'input_word_ids': input_word_ids,\r\n",
    "          'input_mask': input_mask,\r\n",
    "          'input_type_ids': input_type_ids\r\n",
    "      },\r\n",
    "      outputs=output)\r\n",
    "  return model"
   ],
   "outputs": [],
   "metadata": {}
  },
  {
   "cell_type": "code",
   "execution_count": 20,
   "source": [
    "model_3 = create_model()\r\n",
    "    \r\n",
    "model_3.compile(optimizer=tf.keras.optimizers.Adam(learning_rate=1e-5),\r\n",
    "              loss=tf.keras.losses.BinaryCrossentropy(),\r\n",
    "              metrics=[tf.keras.metrics.BinaryAccuracy()])\r\n",
    "model_3.summary()"
   ],
   "outputs": [
    {
     "output_type": "stream",
     "name": "stdout",
     "text": [
      "Model: \"model\"\n",
      "__________________________________________________________________________________________________\n",
      "Layer (type)                    Output Shape         Param #     Connected to                     \n",
      "==================================================================================================\n",
      "input_word_ids (InputLayer)     [(None, 60)]         0                                            \n",
      "__________________________________________________________________________________________________\n",
      "input_mask (InputLayer)         [(None, 60)]         0                                            \n",
      "__________________________________________________________________________________________________\n",
      "input_type_ids (InputLayer)     [(None, 60)]         0                                            \n",
      "__________________________________________________________________________________________________\n",
      "keras_layer (KerasLayer)        [(None, 768), (None, 109482241   input_word_ids[0][0]             \n",
      "                                                                 input_mask[0][0]                 \n",
      "                                                                 input_type_ids[0][0]             \n",
      "__________________________________________________________________________________________________\n",
      "dense (Dense)                   (None, 512)          393728      keras_layer[0][0]                \n",
      "__________________________________________________________________________________________________\n",
      "output (Dense)                  (None, 1)            513         dense[0][0]                      \n",
      "==================================================================================================\n",
      "Total params: 109,876,482\n",
      "Trainable params: 109,876,481\n",
      "Non-trainable params: 1\n",
      "__________________________________________________________________________________________________\n"
     ]
    }
   ],
   "metadata": {}
  },
  {
   "cell_type": "code",
   "execution_count": 21,
   "source": [
    "tf.keras.utils.plot_model(model=model_3, show_shapes=True, dpi=76)"
   ],
   "outputs": [
    {
     "output_type": "execute_result",
     "data": {
      "image/png": "[encoded data removed]",
      "text/plain": [
       "<IPython.core.display.Image object>"
      ]
     },
     "metadata": {},
     "execution_count": 21
    }
   ],
   "metadata": {}
  },
  {
   "cell_type": "code",
   "execution_count": 22,
   "source": [
    "# Train model\r\n",
    "epochs = 4\r\n",
    "my_callbacks = [\r\n",
    "    tf.keras.callbacks.EarlyStopping(patience=1),\r\n",
    "    tf.keras.callbacks.ModelCheckpoint('threshold3_model.h5', monitor='val_binary_accuracy', mode='max', verbose=1, save_best_only=True),\r\n",
    "]\r\n",
    "history_3 = model_3.fit(train_data_3, validation_data=valid_data_3, epochs=epochs, verbose=1, callbacks=my_callbacks)"
   ],
   "outputs": [
    {
     "output_type": "stream",
     "name": "stdout",
     "text": [
      "Epoch 1/4\n",
      "252/252 [==============================] - 86s 303ms/step - loss: 0.5519 - binary_accuracy: 0.7096 - val_loss: 0.5095 - val_binary_accuracy: 0.7379\n",
      "\n",
      "Epoch 00001: val_binary_accuracy improved from -inf to 0.73790, saving model to threshold3_model.h5\n",
      "Epoch 2/4\n",
      "252/252 [==============================] - 77s 302ms/step - loss: 0.4681 - binary_accuracy: 0.7742 - val_loss: 0.4714 - val_binary_accuracy: 0.7681\n",
      "\n",
      "Epoch 00002: val_binary_accuracy improved from 0.73790 to 0.76815, saving model to threshold3_model.h5\n",
      "Epoch 3/4\n",
      "252/252 [==============================] - 77s 302ms/step - loss: 0.4171 - binary_accuracy: 0.8063 - val_loss: 0.4850 - val_binary_accuracy: 0.7611\n",
      "\n",
      "Epoch 00003: val_binary_accuracy did not improve from 0.76815\n"
     ]
    }
   ],
   "metadata": {}
  },
  {
   "cell_type": "code",
   "execution_count": 23,
   "source": [
    "model_4 = create_model()\r\n",
    "\r\n",
    "model_4.compile(optimizer=tf.keras.optimizers.Adam(learning_rate=1e-5),\r\n",
    "              loss=tf.keras.losses.BinaryCrossentropy(),\r\n",
    "              metrics=[tf.keras.metrics.BinaryAccuracy()])\r\n",
    "model_4.summary()"
   ],
   "outputs": [
    {
     "output_type": "stream",
     "name": "stdout",
     "text": [
      "Model: \"model_1\"\n",
      "__________________________________________________________________________________________________\n",
      "Layer (type)                    Output Shape         Param #     Connected to                     \n",
      "==================================================================================================\n",
      "input_word_ids (InputLayer)     [(None, 60)]         0                                            \n",
      "__________________________________________________________________________________________________\n",
      "input_mask (InputLayer)         [(None, 60)]         0                                            \n",
      "__________________________________________________________________________________________________\n",
      "input_type_ids (InputLayer)     [(None, 60)]         0                                            \n",
      "__________________________________________________________________________________________________\n",
      "keras_layer (KerasLayer)        [(None, 768), (None, 109482241   input_word_ids[0][0]             \n",
      "                                                                 input_mask[0][0]                 \n",
      "                                                                 input_type_ids[0][0]             \n",
      "__________________________________________________________________________________________________\n",
      "dense_1 (Dense)                 (None, 512)          393728      keras_layer[1][0]                \n",
      "__________________________________________________________________________________________________\n",
      "output (Dense)                  (None, 1)            513         dense_1[0][0]                    \n",
      "==================================================================================================\n",
      "Total params: 109,876,482\n",
      "Trainable params: 109,876,481\n",
      "Non-trainable params: 1\n",
      "__________________________________________________________________________________________________\n"
     ]
    }
   ],
   "metadata": {}
  },
  {
   "cell_type": "code",
   "execution_count": 24,
   "source": [
    "# Train model\r\n",
    "epochs = 4\r\n",
    "my_callbacks = [\r\n",
    "    tf.keras.callbacks.EarlyStopping(patience=1),\r\n",
    "    tf.keras.callbacks.ModelCheckpoint('threshold4_model.h5', monitor='val_binary_accuracy', mode='max', verbose=1, save_best_only=True),\r\n",
    "]\r\n",
    "history_4 = model_4.fit(train_data_4, validation_data=valid_data_4, epochs=epochs, verbose=1, callbacks=my_callbacks)"
   ],
   "outputs": [
    {
     "output_type": "stream",
     "name": "stdout",
     "text": [
      "Epoch 1/4\n",
      "252/252 [==============================] - 81s 304ms/step - loss: 0.4099 - binary_accuracy: 0.8309 - val_loss: 0.3749 - val_binary_accuracy: 0.8468\n",
      "\n",
      "Epoch 00001: val_binary_accuracy improved from -inf to 0.84677, saving model to threshold4_model.h5\n",
      "Epoch 2/4\n",
      "252/252 [==============================] - 77s 304ms/step - loss: 0.3501 - binary_accuracy: 0.8590 - val_loss: 0.3871 - val_binary_accuracy: 0.8387\n",
      "\n",
      "Epoch 00002: val_binary_accuracy did not improve from 0.84677\n"
     ]
    }
   ],
   "metadata": {}
  },
  {
   "cell_type": "code",
   "execution_count": 25,
   "source": [
    "import matplotlib.pyplot as plt\r\n",
    "\r\n",
    "def plot_graphs(history, metric):\r\n",
    "  plt.plot(history.history[metric])\r\n",
    "  plt.plot(history.history['val_'+metric], '')\r\n",
    "  plt.xlabel(\"Epochs\")\r\n",
    "  plt.ylabel(metric)\r\n",
    "  plt.legend([metric, 'val_'+metric])\r\n",
    "  plt.show()"
   ],
   "outputs": [],
   "metadata": {}
  },
  {
   "cell_type": "code",
   "execution_count": 26,
   "source": [
    "plot_graphs(history_3, 'loss')"
   ],
   "outputs": [
    {
     "output_type": "display_data",
     "data": {
      "image/png": "[encoded data removed]",
      "text/plain": [
       "<Figure size 432x288 with 1 Axes>"
      ]
     },
     "metadata": {
      "needs_background": "light"
     }
    }
   ],
   "metadata": {}
  },
  {
   "cell_type": "code",
   "execution_count": 27,
   "source": [
    "plot_graphs(history_3, 'binary_accuracy')"
   ],
   "outputs": [
    {
     "output_type": "display_data",
     "data": {
      "image/png": "[encoded data removed]",
      "text/plain": [
       "<Figure size 432x288 with 1 Axes>"
      ]
     },
     "metadata": {
      "needs_background": "light"
     }
    }
   ],
   "metadata": {}
  },
  {
   "cell_type": "code",
   "execution_count": 28,
   "source": [
    "plot_graphs(history_4, 'loss')"
   ],
   "outputs": [
    {
     "output_type": "display_data",
     "data": {
      "image/png": "[encoded data removed]",
      "text/plain": [
       "<Figure size 432x288 with 1 Axes>"
      ]
     },
     "metadata": {
      "needs_background": "light"
     }
    }
   ],
   "metadata": {}
  },
  {
   "cell_type": "code",
   "execution_count": 29,
   "source": [
    "plot_graphs(history_4, 'binary_accuracy')"
   ],
   "outputs": [
    {
     "output_type": "display_data",
     "data": {
      "image/png": "[encoded data removed]",
      "text/plain": [
       "<Figure size 432x288 with 1 Axes>"
      ]
     },
     "metadata": {
      "needs_background": "light"
     }
    }
   ],
   "metadata": {}
  },
  {
   "cell_type": "code",
   "execution_count": 30,
   "source": [
    "from sklearn.metrics import classification_report\r\n",
    "tt = test_df_3['Original'].tolist()\r\n",
    "test_data = tf.data.Dataset.from_tensor_slices((tt, [0]*len(tt)))\r\n",
    "test_data = (test_data.map(to_feature_map).batch(1))\r\n",
    "preds_probs_3 = model_3.predict(test_data)\r\n",
    "preds_3 = (preds_probs_3 > 0.5).astype(\"int32\")\r\n",
    "print(classification_report(test_df_3['PrivacyRatio'].tolist(), preds_3))"
   ],
   "outputs": [
    {
     "output_type": "stream",
     "name": "stdout",
     "text": [
      "              precision    recall  f1-score   support\n",
      "\n",
      "           0       0.76      0.77      0.76       457\n",
      "           1       0.81      0.80      0.80       554\n",
      "\n",
      "    accuracy                           0.79      1011\n",
      "   macro avg       0.78      0.78      0.78      1011\n",
      "weighted avg       0.79      0.79      0.79      1011\n",
      "\n"
     ]
    }
   ],
   "metadata": {}
  },
  {
   "cell_type": "code",
   "execution_count": 31,
   "source": [
    "from sklearn.metrics import classification_report\r\n",
    "tt = test_df_4['Original'].tolist()\r\n",
    "test_data = tf.data.Dataset.from_tensor_slices((tt, [0]*len(tt)))\r\n",
    "test_data = (test_data.map(to_feature_map).batch(1))\r\n",
    "preds_probs_4 = model_4.predict(test_data)\r\n",
    "preds_4 = (preds_probs_4 > 0.5).astype(\"int32\")\r\n",
    "print(classification_report(test_df_4['PrivacyRatio'].tolist(), preds_4))"
   ],
   "outputs": [
    {
     "output_type": "stream",
     "name": "stdout",
     "text": [
      "              precision    recall  f1-score   support\n",
      "\n",
      "           0       0.87      0.88      0.88       641\n",
      "           1       0.79      0.77      0.78       370\n",
      "\n",
      "    accuracy                           0.84      1011\n",
      "   macro avg       0.83      0.83      0.83      1011\n",
      "weighted avg       0.84      0.84      0.84      1011\n",
      "\n"
     ]
    }
   ],
   "metadata": {}
  },
  {
   "cell_type": "code",
   "execution_count": 32,
   "source": [
    "from sklearn.metrics import precision_recall_curve\r\n",
    "from sklearn.metrics import roc_curve\r\n",
    "from sklearn.metrics import f1_score\r\n",
    "from sklearn.metrics import auc\r\n",
    "from sklearn.metrics import roc_auc_score\r\n",
    "from matplotlib import pyplot\r\n",
    "\r\n",
    "lr_precision_3, lr_recall_3, _ = precision_recall_curve(test_df_3['PrivacyRatio'].tolist(), preds_probs_3)\r\n",
    "lr_precision_4, lr_recall_4, _ = precision_recall_curve(test_df_4['PrivacyRatio'].tolist(), preds_probs_4)\r\n",
    "pyplot.plot(lr_recall_3, lr_precision_3, marker='.', label='threshold=3')\r\n",
    "pyplot.plot(lr_recall_4, lr_precision_4, marker='.', label='threshold=4')\r\n",
    "pyplot.xlabel('Recall')\r\n",
    "pyplot.ylabel('Precision')\r\n",
    "pyplot.legend()\r\n",
    "pyplot.show()"
   ],
   "outputs": [
    {
     "output_type": "display_data",
     "data": {
      "image/png": "[encoded data removed]",
      "text/plain": [
       "<Figure size 432x288 with 1 Axes>"
      ]
     },
     "metadata": {
      "needs_background": "light"
     }
    }
   ],
   "metadata": {}
  },
  {
   "cell_type": "code",
   "execution_count": 33,
   "source": [
    "lr_f1_3, lr_auc_3 = f1_score(test_df_3['PrivacyRatio'].tolist(), preds_3), auc(lr_recall_3, lr_precision_3)\r\n",
    "lr_f1_4, lr_auc_4 = f1_score(test_df_4['PrivacyRatio'].tolist(), preds_4), auc(lr_recall_4, lr_precision_4)\r\n",
    "print('Threshold=3: f1=%.3f auc=%.3f' % (lr_f1_3, lr_auc_3))\r\n",
    "print('Threshold=4: f1=%.3f auc=%.3f' % (lr_f1_4, lr_auc_4))"
   ],
   "outputs": [
    {
     "output_type": "stream",
     "name": "stdout",
     "text": [
      "Threshold=3: f1=0.804 auc=0.901\n",
      "Threshold=4: f1=0.781 auc=0.851\n"
     ]
    }
   ],
   "metadata": {}
  },
  {
   "cell_type": "code",
   "execution_count": 34,
   "source": [
    "ns_probs = [0 for _ in range(len(test_df_3))]\r\n",
    "\r\n",
    "ns_fpr, ns_tpr, _ = roc_curve(test_df_3['PrivacyRatio'].tolist(), ns_probs)\r\n",
    "lr_fpr_3, lr_tpr_3, _ = roc_curve(test_df_3['PrivacyRatio'].tolist(), preds_probs_3)\r\n",
    "lr_fpr_4, lr_tpr_4, _ = roc_curve(test_df_4['PrivacyRatio'].tolist(), preds_probs_4)\r\n",
    "pyplot.plot(ns_fpr, ns_tpr, linestyle='--')\r\n",
    "pyplot.plot(lr_fpr_3, lr_tpr_3, marker='.', label='threshold=3')\r\n",
    "pyplot.plot(lr_fpr_4, lr_tpr_4, marker='.', label='threshold=4')\r\n",
    "pyplot.xlabel('False Positive Rate')\r\n",
    "pyplot.ylabel('True Positive Rate')\r\n",
    "pyplot.legend()\r\n",
    "pyplot.show()"
   ],
   "outputs": [
    {
     "output_type": "display_data",
     "data": {
      "image/png": "[encoded data removed]",
      "text/plain": [
       "<Figure size 432x288 with 1 Axes>"
      ]
     },
     "metadata": {
      "needs_background": "light"
     }
    }
   ],
   "metadata": {}
  },
  {
   "cell_type": "code",
   "execution_count": 35,
   "source": [
    "print('Threshold=3 AUC: %.3f' %(roc_auc_score(test_df_3['PrivacyRatio'].tolist(), preds_probs_3)))\r\n",
    "print('Threshold=4 AUC: %.3f' %(roc_auc_score(test_df_4['PrivacyRatio'].tolist(), preds_probs_4)))"
   ],
   "outputs": [
    {
     "output_type": "stream",
     "name": "stdout",
     "text": [
      "Threshold=3 AUC: 0.864\n",
      "Threshold=4 AUC: 0.906\n"
     ]
    }
   ],
   "metadata": {}
  },
  {
   "cell_type": "code",
   "execution_count": 36,
   "source": [
    "sample_example = [\"In addition, we cannot guarantee the authenticity of any data that users or merchants may provide about themselves\"]\r\n",
    "test_data = tf.data.Dataset.from_tensor_slices((sample_example, [0]*len(sample_example)))\r\n",
    "test_data = (test_data.map(to_feature_map).batch(1))\r\n",
    "preds = model_3.predict(test_data)\r\n",
    "threshold = 0.5\r\n",
    "['privacy' if pred >=threshold else 'Not Privacy' for pred in preds]"
   ],
   "outputs": [
    {
     "output_type": "execute_result",
     "data": {
      "text/plain": [
       "['privacy']"
      ]
     },
     "metadata": {},
     "execution_count": 36
    }
   ],
   "metadata": {}
  },
  {
   "cell_type": "code",
   "execution_count": null,
   "source": [],
   "outputs": [],
   "metadata": {}
  }
 ],
 "metadata": {
  "orig_nbformat": 4,
  "language_info": {
   "name": "python",
   "version": "3.8.10",
   "mimetype": "text/x-python",
   "codemirror_mode": {
    "name": "ipython",
    "version": 3
   },
   "pygments_lexer": "ipython3",
   "nbconvert_exporter": "python",
   "file_extension": ".py"
  },
  "kernelspec": {
   "name": "python3",
   "display_name": "Python 3.8.10 64-bit ('bert': conda)"
  },
  "interpreter": {
   "hash": "40b9cf565d070ee13d37836166faa1e65075ac740510169fa1bf4f89f6b88bdd"
  }
 },
 "nbformat": 4,
 "nbformat_minor": 2
}